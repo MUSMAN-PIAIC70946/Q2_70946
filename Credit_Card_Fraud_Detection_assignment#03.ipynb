{
 "cells": [
  {
   "cell_type": "code",
   "execution_count": 7,
   "metadata": {
    "id": "LdNU892PIozd"
   },
   "outputs": [],
   "source": [
    "import pandas as pd\n",
    "import numpy as np\n",
    "import matplotlib.pyplot as plt\n",
    "import tensorflow as tf"
   ]
  },
  {
   "cell_type": "markdown",
   "metadata": {
    "id": "gXSlrsDd876H"
   },
   "source": [
    "# **Load Data**"
   ]
  },
  {
   "cell_type": "code",
   "execution_count": 8,
   "metadata": {
    "id": "XXYefSPSOidg"
   },
   "outputs": [
    {
     "name": "stdout",
     "output_type": "stream",
     "text": [
      "            Time         V1         V2        V3        V4        V5  \\\n",
      "0            0.0  -1.359807  -0.072781  2.536347  1.378155 -0.338321   \n",
      "1            0.0   1.191857   0.266151  0.166480  0.448154  0.060018   \n",
      "2            1.0  -1.358354  -1.340163  1.773209  0.379780 -0.503198   \n",
      "3            1.0  -0.966272  -0.185226  1.792993 -0.863291 -0.010309   \n",
      "4            2.0  -1.158233   0.877737  1.548718  0.403034 -0.407193   \n",
      "...          ...        ...        ...       ...       ...       ...   \n",
      "284802  172786.0 -11.881118  10.071785 -9.834783 -2.066656 -5.364473   \n",
      "284803  172787.0  -0.732789  -0.055080  2.035030 -0.738589  0.868229   \n",
      "284804  172788.0   1.919565  -0.301254 -3.249640 -0.557828  2.630515   \n",
      "284805  172788.0  -0.240440   0.530483  0.702510  0.689799 -0.377961   \n",
      "284806  172792.0  -0.533413  -0.189733  0.703337 -0.506271 -0.012546   \n",
      "\n",
      "              V6        V7        V8        V9  ...       V21       V22  \\\n",
      "0       0.462388  0.239599  0.098698  0.363787  ... -0.018307  0.277838   \n",
      "1      -0.082361 -0.078803  0.085102 -0.255425  ... -0.225775 -0.638672   \n",
      "2       1.800499  0.791461  0.247676 -1.514654  ...  0.247998  0.771679   \n",
      "3       1.247203  0.237609  0.377436 -1.387024  ... -0.108300  0.005274   \n",
      "4       0.095921  0.592941 -0.270533  0.817739  ... -0.009431  0.798278   \n",
      "...          ...       ...       ...       ...  ...       ...       ...   \n",
      "284802 -2.606837 -4.918215  7.305334  1.914428  ...  0.213454  0.111864   \n",
      "284803  1.058415  0.024330  0.294869  0.584800  ...  0.214205  0.924384   \n",
      "284804  3.031260 -0.296827  0.708417  0.432454  ...  0.232045  0.578229   \n",
      "284805  0.623708 -0.686180  0.679145  0.392087  ...  0.265245  0.800049   \n",
      "284806 -0.649617  1.577006 -0.414650  0.486180  ...  0.261057  0.643078   \n",
      "\n",
      "             V23       V24       V25       V26       V27       V28  Amount  \\\n",
      "0      -0.110474  0.066928  0.128539 -0.189115  0.133558 -0.021053  149.62   \n",
      "1       0.101288 -0.339846  0.167170  0.125895 -0.008983  0.014724    2.69   \n",
      "2       0.909412 -0.689281 -0.327642 -0.139097 -0.055353 -0.059752  378.66   \n",
      "3      -0.190321 -1.175575  0.647376 -0.221929  0.062723  0.061458  123.50   \n",
      "4      -0.137458  0.141267 -0.206010  0.502292  0.219422  0.215153   69.99   \n",
      "...          ...       ...       ...       ...       ...       ...     ...   \n",
      "284802  1.014480 -0.509348  1.436807  0.250034  0.943651  0.823731    0.77   \n",
      "284803  0.012463 -1.016226 -0.606624 -0.395255  0.068472 -0.053527   24.79   \n",
      "284804 -0.037501  0.640134  0.265745 -0.087371  0.004455 -0.026561   67.88   \n",
      "284805 -0.163298  0.123205 -0.569159  0.546668  0.108821  0.104533   10.00   \n",
      "284806  0.376777  0.008797 -0.473649 -0.818267 -0.002415  0.013649  217.00   \n",
      "\n",
      "        Class  \n",
      "0           0  \n",
      "1           0  \n",
      "2           0  \n",
      "3           0  \n",
      "4           0  \n",
      "...       ...  \n",
      "284802      0  \n",
      "284803      0  \n",
      "284804      0  \n",
      "284805      0  \n",
      "284806      0  \n",
      "\n",
      "[284807 rows x 31 columns]\n"
     ]
    }
   ],
   "source": [
    "data = pd.read_csv(r'creditcard.csv')\n",
    "print (data)"
   ]
  },
  {
   "cell_type": "code",
   "execution_count": 9,
   "metadata": {
    "colab": {
     "base_uri": "https://localhost:8080/",
     "height": 308
    },
    "id": "5O1cZFf1OmFo",
    "outputId": "82415c76-c672-43c9-8940-868f63c5935a"
   },
   "outputs": [
    {
     "data": {
      "text/html": [
       "<div>\n",
       "<style scoped>\n",
       "    .dataframe tbody tr th:only-of-type {\n",
       "        vertical-align: middle;\n",
       "    }\n",
       "\n",
       "    .dataframe tbody tr th {\n",
       "        vertical-align: top;\n",
       "    }\n",
       "\n",
       "    .dataframe thead th {\n",
       "        text-align: right;\n",
       "    }\n",
       "</style>\n",
       "<table border=\"1\" class=\"dataframe\">\n",
       "  <thead>\n",
       "    <tr style=\"text-align: right;\">\n",
       "      <th></th>\n",
       "      <th>Time</th>\n",
       "      <th>V1</th>\n",
       "      <th>V2</th>\n",
       "      <th>V3</th>\n",
       "      <th>V4</th>\n",
       "      <th>V5</th>\n",
       "      <th>V6</th>\n",
       "      <th>V7</th>\n",
       "      <th>V8</th>\n",
       "      <th>V9</th>\n",
       "      <th>...</th>\n",
       "      <th>V21</th>\n",
       "      <th>V22</th>\n",
       "      <th>V23</th>\n",
       "      <th>V24</th>\n",
       "      <th>V25</th>\n",
       "      <th>V26</th>\n",
       "      <th>V27</th>\n",
       "      <th>V28</th>\n",
       "      <th>Amount</th>\n",
       "      <th>Class</th>\n",
       "    </tr>\n",
       "  </thead>\n",
       "  <tbody>\n",
       "    <tr>\n",
       "      <th>count</th>\n",
       "      <td>284807.000000</td>\n",
       "      <td>2.848070e+05</td>\n",
       "      <td>2.848070e+05</td>\n",
       "      <td>2.848070e+05</td>\n",
       "      <td>2.848070e+05</td>\n",
       "      <td>2.848070e+05</td>\n",
       "      <td>2.848070e+05</td>\n",
       "      <td>2.848070e+05</td>\n",
       "      <td>2.848070e+05</td>\n",
       "      <td>2.848070e+05</td>\n",
       "      <td>...</td>\n",
       "      <td>2.848070e+05</td>\n",
       "      <td>2.848070e+05</td>\n",
       "      <td>2.848070e+05</td>\n",
       "      <td>2.848070e+05</td>\n",
       "      <td>2.848070e+05</td>\n",
       "      <td>2.848070e+05</td>\n",
       "      <td>2.848070e+05</td>\n",
       "      <td>2.848070e+05</td>\n",
       "      <td>284807.000000</td>\n",
       "      <td>284807.000000</td>\n",
       "    </tr>\n",
       "    <tr>\n",
       "      <th>mean</th>\n",
       "      <td>94813.859575</td>\n",
       "      <td>1.177331e-15</td>\n",
       "      <td>3.378987e-16</td>\n",
       "      <td>-1.399495e-15</td>\n",
       "      <td>2.094153e-15</td>\n",
       "      <td>1.006012e-15</td>\n",
       "      <td>1.495671e-15</td>\n",
       "      <td>-5.645408e-16</td>\n",
       "      <td>1.146121e-16</td>\n",
       "      <td>-2.411981e-15</td>\n",
       "      <td>...</td>\n",
       "      <td>1.611530e-16</td>\n",
       "      <td>-3.512210e-16</td>\n",
       "      <td>2.628794e-16</td>\n",
       "      <td>4.473091e-15</td>\n",
       "      <td>5.149188e-16</td>\n",
       "      <td>1.685152e-15</td>\n",
       "      <td>-3.657347e-16</td>\n",
       "      <td>-1.223773e-16</td>\n",
       "      <td>88.349619</td>\n",
       "      <td>0.001727</td>\n",
       "    </tr>\n",
       "    <tr>\n",
       "      <th>std</th>\n",
       "      <td>47488.145955</td>\n",
       "      <td>1.958696e+00</td>\n",
       "      <td>1.651309e+00</td>\n",
       "      <td>1.516255e+00</td>\n",
       "      <td>1.415869e+00</td>\n",
       "      <td>1.380247e+00</td>\n",
       "      <td>1.332271e+00</td>\n",
       "      <td>1.237094e+00</td>\n",
       "      <td>1.194353e+00</td>\n",
       "      <td>1.098632e+00</td>\n",
       "      <td>...</td>\n",
       "      <td>7.345240e-01</td>\n",
       "      <td>7.257016e-01</td>\n",
       "      <td>6.244603e-01</td>\n",
       "      <td>6.056471e-01</td>\n",
       "      <td>5.212781e-01</td>\n",
       "      <td>4.822270e-01</td>\n",
       "      <td>4.036325e-01</td>\n",
       "      <td>3.300833e-01</td>\n",
       "      <td>250.120109</td>\n",
       "      <td>0.041527</td>\n",
       "    </tr>\n",
       "    <tr>\n",
       "      <th>min</th>\n",
       "      <td>0.000000</td>\n",
       "      <td>-5.640751e+01</td>\n",
       "      <td>-7.271573e+01</td>\n",
       "      <td>-4.832559e+01</td>\n",
       "      <td>-5.683171e+00</td>\n",
       "      <td>-1.137433e+02</td>\n",
       "      <td>-2.616051e+01</td>\n",
       "      <td>-4.355724e+01</td>\n",
       "      <td>-7.321672e+01</td>\n",
       "      <td>-1.343407e+01</td>\n",
       "      <td>...</td>\n",
       "      <td>-3.483038e+01</td>\n",
       "      <td>-1.093314e+01</td>\n",
       "      <td>-4.480774e+01</td>\n",
       "      <td>-2.836627e+00</td>\n",
       "      <td>-1.029540e+01</td>\n",
       "      <td>-2.604551e+00</td>\n",
       "      <td>-2.256568e+01</td>\n",
       "      <td>-1.543008e+01</td>\n",
       "      <td>0.000000</td>\n",
       "      <td>0.000000</td>\n",
       "    </tr>\n",
       "    <tr>\n",
       "      <th>25%</th>\n",
       "      <td>54201.500000</td>\n",
       "      <td>-9.203734e-01</td>\n",
       "      <td>-5.985499e-01</td>\n",
       "      <td>-8.903648e-01</td>\n",
       "      <td>-8.486401e-01</td>\n",
       "      <td>-6.915971e-01</td>\n",
       "      <td>-7.682956e-01</td>\n",
       "      <td>-5.540759e-01</td>\n",
       "      <td>-2.086297e-01</td>\n",
       "      <td>-6.430976e-01</td>\n",
       "      <td>...</td>\n",
       "      <td>-2.283949e-01</td>\n",
       "      <td>-5.423504e-01</td>\n",
       "      <td>-1.618463e-01</td>\n",
       "      <td>-3.545861e-01</td>\n",
       "      <td>-3.171451e-01</td>\n",
       "      <td>-3.269839e-01</td>\n",
       "      <td>-7.083953e-02</td>\n",
       "      <td>-5.295979e-02</td>\n",
       "      <td>5.600000</td>\n",
       "      <td>0.000000</td>\n",
       "    </tr>\n",
       "    <tr>\n",
       "      <th>50%</th>\n",
       "      <td>84692.000000</td>\n",
       "      <td>1.810880e-02</td>\n",
       "      <td>6.548556e-02</td>\n",
       "      <td>1.798463e-01</td>\n",
       "      <td>-1.984653e-02</td>\n",
       "      <td>-5.433583e-02</td>\n",
       "      <td>-2.741871e-01</td>\n",
       "      <td>4.010308e-02</td>\n",
       "      <td>2.235804e-02</td>\n",
       "      <td>-5.142873e-02</td>\n",
       "      <td>...</td>\n",
       "      <td>-2.945017e-02</td>\n",
       "      <td>6.781943e-03</td>\n",
       "      <td>-1.119293e-02</td>\n",
       "      <td>4.097606e-02</td>\n",
       "      <td>1.659350e-02</td>\n",
       "      <td>-5.213911e-02</td>\n",
       "      <td>1.342146e-03</td>\n",
       "      <td>1.124383e-02</td>\n",
       "      <td>22.000000</td>\n",
       "      <td>0.000000</td>\n",
       "    </tr>\n",
       "    <tr>\n",
       "      <th>75%</th>\n",
       "      <td>139320.500000</td>\n",
       "      <td>1.315642e+00</td>\n",
       "      <td>8.037239e-01</td>\n",
       "      <td>1.027196e+00</td>\n",
       "      <td>7.433413e-01</td>\n",
       "      <td>6.119264e-01</td>\n",
       "      <td>3.985649e-01</td>\n",
       "      <td>5.704361e-01</td>\n",
       "      <td>3.273459e-01</td>\n",
       "      <td>5.971390e-01</td>\n",
       "      <td>...</td>\n",
       "      <td>1.863772e-01</td>\n",
       "      <td>5.285536e-01</td>\n",
       "      <td>1.476421e-01</td>\n",
       "      <td>4.395266e-01</td>\n",
       "      <td>3.507156e-01</td>\n",
       "      <td>2.409522e-01</td>\n",
       "      <td>9.104512e-02</td>\n",
       "      <td>7.827995e-02</td>\n",
       "      <td>77.165000</td>\n",
       "      <td>0.000000</td>\n",
       "    </tr>\n",
       "    <tr>\n",
       "      <th>max</th>\n",
       "      <td>172792.000000</td>\n",
       "      <td>2.454930e+00</td>\n",
       "      <td>2.205773e+01</td>\n",
       "      <td>9.382558e+00</td>\n",
       "      <td>1.687534e+01</td>\n",
       "      <td>3.480167e+01</td>\n",
       "      <td>7.330163e+01</td>\n",
       "      <td>1.205895e+02</td>\n",
       "      <td>2.000721e+01</td>\n",
       "      <td>1.559499e+01</td>\n",
       "      <td>...</td>\n",
       "      <td>2.720284e+01</td>\n",
       "      <td>1.050309e+01</td>\n",
       "      <td>2.252841e+01</td>\n",
       "      <td>4.584549e+00</td>\n",
       "      <td>7.519589e+00</td>\n",
       "      <td>3.517346e+00</td>\n",
       "      <td>3.161220e+01</td>\n",
       "      <td>3.384781e+01</td>\n",
       "      <td>25691.160000</td>\n",
       "      <td>1.000000</td>\n",
       "    </tr>\n",
       "  </tbody>\n",
       "</table>\n",
       "<p>8 rows × 31 columns</p>\n",
       "</div>"
      ],
      "text/plain": [
       "                Time            V1            V2            V3            V4  \\\n",
       "count  284807.000000  2.848070e+05  2.848070e+05  2.848070e+05  2.848070e+05   \n",
       "mean    94813.859575  1.177331e-15  3.378987e-16 -1.399495e-15  2.094153e-15   \n",
       "std     47488.145955  1.958696e+00  1.651309e+00  1.516255e+00  1.415869e+00   \n",
       "min         0.000000 -5.640751e+01 -7.271573e+01 -4.832559e+01 -5.683171e+00   \n",
       "25%     54201.500000 -9.203734e-01 -5.985499e-01 -8.903648e-01 -8.486401e-01   \n",
       "50%     84692.000000  1.810880e-02  6.548556e-02  1.798463e-01 -1.984653e-02   \n",
       "75%    139320.500000  1.315642e+00  8.037239e-01  1.027196e+00  7.433413e-01   \n",
       "max    172792.000000  2.454930e+00  2.205773e+01  9.382558e+00  1.687534e+01   \n",
       "\n",
       "                 V5            V6            V7            V8            V9  \\\n",
       "count  2.848070e+05  2.848070e+05  2.848070e+05  2.848070e+05  2.848070e+05   \n",
       "mean   1.006012e-15  1.495671e-15 -5.645408e-16  1.146121e-16 -2.411981e-15   \n",
       "std    1.380247e+00  1.332271e+00  1.237094e+00  1.194353e+00  1.098632e+00   \n",
       "min   -1.137433e+02 -2.616051e+01 -4.355724e+01 -7.321672e+01 -1.343407e+01   \n",
       "25%   -6.915971e-01 -7.682956e-01 -5.540759e-01 -2.086297e-01 -6.430976e-01   \n",
       "50%   -5.433583e-02 -2.741871e-01  4.010308e-02  2.235804e-02 -5.142873e-02   \n",
       "75%    6.119264e-01  3.985649e-01  5.704361e-01  3.273459e-01  5.971390e-01   \n",
       "max    3.480167e+01  7.330163e+01  1.205895e+02  2.000721e+01  1.559499e+01   \n",
       "\n",
       "       ...           V21           V22           V23           V24  \\\n",
       "count  ...  2.848070e+05  2.848070e+05  2.848070e+05  2.848070e+05   \n",
       "mean   ...  1.611530e-16 -3.512210e-16  2.628794e-16  4.473091e-15   \n",
       "std    ...  7.345240e-01  7.257016e-01  6.244603e-01  6.056471e-01   \n",
       "min    ... -3.483038e+01 -1.093314e+01 -4.480774e+01 -2.836627e+00   \n",
       "25%    ... -2.283949e-01 -5.423504e-01 -1.618463e-01 -3.545861e-01   \n",
       "50%    ... -2.945017e-02  6.781943e-03 -1.119293e-02  4.097606e-02   \n",
       "75%    ...  1.863772e-01  5.285536e-01  1.476421e-01  4.395266e-01   \n",
       "max    ...  2.720284e+01  1.050309e+01  2.252841e+01  4.584549e+00   \n",
       "\n",
       "                V25           V26           V27           V28         Amount  \\\n",
       "count  2.848070e+05  2.848070e+05  2.848070e+05  2.848070e+05  284807.000000   \n",
       "mean   5.149188e-16  1.685152e-15 -3.657347e-16 -1.223773e-16      88.349619   \n",
       "std    5.212781e-01  4.822270e-01  4.036325e-01  3.300833e-01     250.120109   \n",
       "min   -1.029540e+01 -2.604551e+00 -2.256568e+01 -1.543008e+01       0.000000   \n",
       "25%   -3.171451e-01 -3.269839e-01 -7.083953e-02 -5.295979e-02       5.600000   \n",
       "50%    1.659350e-02 -5.213911e-02  1.342146e-03  1.124383e-02      22.000000   \n",
       "75%    3.507156e-01  2.409522e-01  9.104512e-02  7.827995e-02      77.165000   \n",
       "max    7.519589e+00  3.517346e+00  3.161220e+01  3.384781e+01   25691.160000   \n",
       "\n",
       "               Class  \n",
       "count  284807.000000  \n",
       "mean        0.001727  \n",
       "std         0.041527  \n",
       "min         0.000000  \n",
       "25%         0.000000  \n",
       "50%         0.000000  \n",
       "75%         0.000000  \n",
       "max         1.000000  \n",
       "\n",
       "[8 rows x 31 columns]"
      ]
     },
     "execution_count": 9,
     "metadata": {},
     "output_type": "execute_result"
    }
   ],
   "source": [
    "data = data.sample(frac=1)\n",
    "data.describe()"
   ]
  },
  {
   "cell_type": "markdown",
   "metadata": {
    "id": "WedbRy3l9Nb6"
   },
   "source": [
    "# **Check Missing Values ( If Exist ; Fill each record with mean of its feature )**"
   ]
  },
  {
   "cell_type": "code",
   "execution_count": 10,
   "metadata": {
    "colab": {
     "base_uri": "https://localhost:8080/"
    },
    "id": "SZ3K03HAP20X",
    "outputId": "79f1f608-1d00-407b-bb90-6a15f4da2018"
   },
   "outputs": [
    {
     "name": "stdout",
     "output_type": "stream",
     "text": [
      "Wall time: 30.5 ms\n"
     ]
    },
    {
     "data": {
      "text/plain": [
       "Time      False\n",
       "V1        False\n",
       "V2        False\n",
       "V3        False\n",
       "V4        False\n",
       "V5        False\n",
       "V6        False\n",
       "V7        False\n",
       "V8        False\n",
       "V9        False\n",
       "V10       False\n",
       "V11       False\n",
       "V12       False\n",
       "V13       False\n",
       "V14       False\n",
       "V15       False\n",
       "V16       False\n",
       "V17       False\n",
       "V18       False\n",
       "V19       False\n",
       "V20       False\n",
       "V21       False\n",
       "V22       False\n",
       "V23       False\n",
       "V24       False\n",
       "V25       False\n",
       "V26       False\n",
       "V27       False\n",
       "V28       False\n",
       "Amount    False\n",
       "Class     False\n",
       "dtype: bool"
      ]
     },
     "execution_count": 10,
     "metadata": {},
     "output_type": "execute_result"
    }
   ],
   "source": [
    "%time data.isnull().any()"
   ]
  },
  {
   "cell_type": "markdown",
   "metadata": {
    "id": "z3Xe-5Fa_6up"
   },
   "source": [
    "# **Standardized the Input Variables**"
   ]
  },
  {
   "cell_type": "code",
   "execution_count": 11,
   "metadata": {
    "id": "HeHjcHCX9Xbx"
   },
   "outputs": [],
   "source": [
    "data.reset_index(drop=True, inplace=True)\n",
    "labels = data.pop('Class')"
   ]
  },
  {
   "cell_type": "code",
   "execution_count": 12,
   "metadata": {
    "id": "0ALZLF1tAYjA"
   },
   "outputs": [],
   "source": [
    "data -= data.mean()\n",
    "data /= data.std()"
   ]
  },
  {
   "cell_type": "code",
   "execution_count": 13,
   "metadata": {
    "colab": {
     "base_uri": "https://localhost:8080/",
     "height": 377
    },
    "id": "Ry-8pJmyDbeP",
    "outputId": "812858f5-fd7c-4a66-e1a7-665d5baabf4d"
   },
   "outputs": [
    {
     "data": {
      "text/html": [
       "<div>\n",
       "<style scoped>\n",
       "    .dataframe tbody tr th:only-of-type {\n",
       "        vertical-align: middle;\n",
       "    }\n",
       "\n",
       "    .dataframe tbody tr th {\n",
       "        vertical-align: top;\n",
       "    }\n",
       "\n",
       "    .dataframe thead th {\n",
       "        text-align: right;\n",
       "    }\n",
       "</style>\n",
       "<table border=\"1\" class=\"dataframe\">\n",
       "  <thead>\n",
       "    <tr style=\"text-align: right;\">\n",
       "      <th></th>\n",
       "      <th>Time</th>\n",
       "      <th>V1</th>\n",
       "      <th>V2</th>\n",
       "      <th>V3</th>\n",
       "      <th>V4</th>\n",
       "      <th>V5</th>\n",
       "      <th>V6</th>\n",
       "      <th>V7</th>\n",
       "      <th>V8</th>\n",
       "      <th>V9</th>\n",
       "      <th>...</th>\n",
       "      <th>V20</th>\n",
       "      <th>V21</th>\n",
       "      <th>V22</th>\n",
       "      <th>V23</th>\n",
       "      <th>V24</th>\n",
       "      <th>V25</th>\n",
       "      <th>V26</th>\n",
       "      <th>V27</th>\n",
       "      <th>V28</th>\n",
       "      <th>Amount</th>\n",
       "    </tr>\n",
       "  </thead>\n",
       "  <tbody>\n",
       "    <tr>\n",
       "      <th>count</th>\n",
       "      <td>2.848070e+05</td>\n",
       "      <td>2.848070e+05</td>\n",
       "      <td>2.848070e+05</td>\n",
       "      <td>2.848070e+05</td>\n",
       "      <td>2.848070e+05</td>\n",
       "      <td>2.848070e+05</td>\n",
       "      <td>2.848070e+05</td>\n",
       "      <td>2.848070e+05</td>\n",
       "      <td>2.848070e+05</td>\n",
       "      <td>2.848070e+05</td>\n",
       "      <td>...</td>\n",
       "      <td>2.848070e+05</td>\n",
       "      <td>2.848070e+05</td>\n",
       "      <td>2.848070e+05</td>\n",
       "      <td>2.848070e+05</td>\n",
       "      <td>2.848070e+05</td>\n",
       "      <td>2.848070e+05</td>\n",
       "      <td>2.848070e+05</td>\n",
       "      <td>2.848070e+05</td>\n",
       "      <td>2.848070e+05</td>\n",
       "      <td>2.848070e+05</td>\n",
       "    </tr>\n",
       "    <tr>\n",
       "      <th>mean</th>\n",
       "      <td>-4.470721e-17</td>\n",
       "      <td>-3.742233e-19</td>\n",
       "      <td>-1.332235e-17</td>\n",
       "      <td>-1.437017e-17</td>\n",
       "      <td>8.008378e-18</td>\n",
       "      <td>-8.956411e-18</td>\n",
       "      <td>8.357653e-18</td>\n",
       "      <td>8.706928e-18</td>\n",
       "      <td>1.247411e-19</td>\n",
       "      <td>1.247411e-19</td>\n",
       "      <td>...</td>\n",
       "      <td>-6.286951e-18</td>\n",
       "      <td>1.372152e-19</td>\n",
       "      <td>3.692336e-18</td>\n",
       "      <td>4.690265e-18</td>\n",
       "      <td>1.037222e-17</td>\n",
       "      <td>-6.436640e-18</td>\n",
       "      <td>1.177556e-17</td>\n",
       "      <td>2.257814e-18</td>\n",
       "      <td>-5.719379e-18</td>\n",
       "      <td>-3.372999e-17</td>\n",
       "    </tr>\n",
       "    <tr>\n",
       "      <th>std</th>\n",
       "      <td>1.000000e+00</td>\n",
       "      <td>1.000000e+00</td>\n",
       "      <td>1.000000e+00</td>\n",
       "      <td>1.000000e+00</td>\n",
       "      <td>1.000000e+00</td>\n",
       "      <td>1.000000e+00</td>\n",
       "      <td>1.000000e+00</td>\n",
       "      <td>1.000000e+00</td>\n",
       "      <td>1.000000e+00</td>\n",
       "      <td>1.000000e+00</td>\n",
       "      <td>...</td>\n",
       "      <td>1.000000e+00</td>\n",
       "      <td>1.000000e+00</td>\n",
       "      <td>1.000000e+00</td>\n",
       "      <td>1.000000e+00</td>\n",
       "      <td>1.000000e+00</td>\n",
       "      <td>1.000000e+00</td>\n",
       "      <td>1.000000e+00</td>\n",
       "      <td>1.000000e+00</td>\n",
       "      <td>1.000000e+00</td>\n",
       "      <td>1.000000e+00</td>\n",
       "    </tr>\n",
       "    <tr>\n",
       "      <th>min</th>\n",
       "      <td>-1.996580e+00</td>\n",
       "      <td>-2.879850e+01</td>\n",
       "      <td>-4.403521e+01</td>\n",
       "      <td>-3.187168e+01</td>\n",
       "      <td>-4.013912e+00</td>\n",
       "      <td>-8.240795e+01</td>\n",
       "      <td>-1.963602e+01</td>\n",
       "      <td>-3.520933e+01</td>\n",
       "      <td>-6.130242e+01</td>\n",
       "      <td>-1.222799e+01</td>\n",
       "      <td>...</td>\n",
       "      <td>-7.069134e+01</td>\n",
       "      <td>-4.741898e+01</td>\n",
       "      <td>-1.506562e+01</td>\n",
       "      <td>-7.175434e+01</td>\n",
       "      <td>-4.683630e+00</td>\n",
       "      <td>-1.975030e+01</td>\n",
       "      <td>-5.401088e+00</td>\n",
       "      <td>-5.590650e+01</td>\n",
       "      <td>-4.674604e+01</td>\n",
       "      <td>-3.532288e-01</td>\n",
       "    </tr>\n",
       "    <tr>\n",
       "      <th>25%</th>\n",
       "      <td>-8.552105e-01</td>\n",
       "      <td>-4.698909e-01</td>\n",
       "      <td>-3.624701e-01</td>\n",
       "      <td>-5.872131e-01</td>\n",
       "      <td>-5.993777e-01</td>\n",
       "      <td>-5.010677e-01</td>\n",
       "      <td>-5.766811e-01</td>\n",
       "      <td>-4.478852e-01</td>\n",
       "      <td>-1.746801e-01</td>\n",
       "      <td>-5.853621e-01</td>\n",
       "      <td>...</td>\n",
       "      <td>-2.746329e-01</td>\n",
       "      <td>-3.109428e-01</td>\n",
       "      <td>-7.473463e-01</td>\n",
       "      <td>-2.591780e-01</td>\n",
       "      <td>-5.854666e-01</td>\n",
       "      <td>-6.083990e-01</td>\n",
       "      <td>-6.780705e-01</td>\n",
       "      <td>-1.755050e-01</td>\n",
       "      <td>-1.604437e-01</td>\n",
       "      <td>-3.308395e-01</td>\n",
       "    </tr>\n",
       "    <tr>\n",
       "      <th>50%</th>\n",
       "      <td>-2.131450e-01</td>\n",
       "      <td>9.245335e-03</td>\n",
       "      <td>3.965677e-02</td>\n",
       "      <td>1.186122e-01</td>\n",
       "      <td>-1.401721e-02</td>\n",
       "      <td>-3.936675e-02</td>\n",
       "      <td>-2.058043e-01</td>\n",
       "      <td>3.241718e-02</td>\n",
       "      <td>1.871979e-02</td>\n",
       "      <td>-4.681161e-02</td>\n",
       "      <td>...</td>\n",
       "      <td>-8.104691e-02</td>\n",
       "      <td>-4.009422e-02</td>\n",
       "      <td>9.345360e-03</td>\n",
       "      <td>-1.792417e-02</td>\n",
       "      <td>6.765666e-02</td>\n",
       "      <td>3.183234e-02</td>\n",
       "      <td>-1.081215e-01</td>\n",
       "      <td>3.325168e-03</td>\n",
       "      <td>3.406362e-02</td>\n",
       "      <td>-2.652710e-01</td>\n",
       "    </tr>\n",
       "    <tr>\n",
       "      <th>75%</th>\n",
       "      <td>9.372158e-01</td>\n",
       "      <td>6.716927e-01</td>\n",
       "      <td>4.867194e-01</td>\n",
       "      <td>6.774557e-01</td>\n",
       "      <td>5.250073e-01</td>\n",
       "      <td>4.433457e-01</td>\n",
       "      <td>2.991620e-01</td>\n",
       "      <td>4.611099e-01</td>\n",
       "      <td>2.740780e-01</td>\n",
       "      <td>5.435296e-01</td>\n",
       "      <td>...</td>\n",
       "      <td>1.725730e-01</td>\n",
       "      <td>2.537387e-01</td>\n",
       "      <td>7.283347e-01</td>\n",
       "      <td>2.364315e-01</td>\n",
       "      <td>7.257141e-01</td>\n",
       "      <td>6.727994e-01</td>\n",
       "      <td>4.996654e-01</td>\n",
       "      <td>2.255644e-01</td>\n",
       "      <td>2.371521e-01</td>\n",
       "      <td>-4.471699e-02</td>\n",
       "    </tr>\n",
       "    <tr>\n",
       "      <th>max</th>\n",
       "      <td>1.642055e+00</td>\n",
       "      <td>1.253349e+00</td>\n",
       "      <td>1.335773e+01</td>\n",
       "      <td>6.187982e+00</td>\n",
       "      <td>1.191872e+01</td>\n",
       "      <td>2.521409e+01</td>\n",
       "      <td>5.502005e+01</td>\n",
       "      <td>9.747807e+01</td>\n",
       "      <td>1.675150e+01</td>\n",
       "      <td>1.419492e+01</td>\n",
       "      <td>...</td>\n",
       "      <td>5.113455e+01</td>\n",
       "      <td>3.703465e+01</td>\n",
       "      <td>1.447302e+01</td>\n",
       "      <td>3.607661e+01</td>\n",
       "      <td>7.569671e+00</td>\n",
       "      <td>1.442529e+01</td>\n",
       "      <td>7.293962e+00</td>\n",
       "      <td>7.831926e+01</td>\n",
       "      <td>1.025432e+02</td>\n",
       "      <td>1.023621e+02</td>\n",
       "    </tr>\n",
       "  </tbody>\n",
       "</table>\n",
       "<p>8 rows × 30 columns</p>\n",
       "</div>"
      ],
      "text/plain": [
       "               Time            V1            V2            V3            V4  \\\n",
       "count  2.848070e+05  2.848070e+05  2.848070e+05  2.848070e+05  2.848070e+05   \n",
       "mean  -4.470721e-17 -3.742233e-19 -1.332235e-17 -1.437017e-17  8.008378e-18   \n",
       "std    1.000000e+00  1.000000e+00  1.000000e+00  1.000000e+00  1.000000e+00   \n",
       "min   -1.996580e+00 -2.879850e+01 -4.403521e+01 -3.187168e+01 -4.013912e+00   \n",
       "25%   -8.552105e-01 -4.698909e-01 -3.624701e-01 -5.872131e-01 -5.993777e-01   \n",
       "50%   -2.131450e-01  9.245335e-03  3.965677e-02  1.186122e-01 -1.401721e-02   \n",
       "75%    9.372158e-01  6.716927e-01  4.867194e-01  6.774557e-01  5.250073e-01   \n",
       "max    1.642055e+00  1.253349e+00  1.335773e+01  6.187982e+00  1.191872e+01   \n",
       "\n",
       "                 V5            V6            V7            V8            V9  \\\n",
       "count  2.848070e+05  2.848070e+05  2.848070e+05  2.848070e+05  2.848070e+05   \n",
       "mean  -8.956411e-18  8.357653e-18  8.706928e-18  1.247411e-19  1.247411e-19   \n",
       "std    1.000000e+00  1.000000e+00  1.000000e+00  1.000000e+00  1.000000e+00   \n",
       "min   -8.240795e+01 -1.963602e+01 -3.520933e+01 -6.130242e+01 -1.222799e+01   \n",
       "25%   -5.010677e-01 -5.766811e-01 -4.478852e-01 -1.746801e-01 -5.853621e-01   \n",
       "50%   -3.936675e-02 -2.058043e-01  3.241718e-02  1.871979e-02 -4.681161e-02   \n",
       "75%    4.433457e-01  2.991620e-01  4.611099e-01  2.740780e-01  5.435296e-01   \n",
       "max    2.521409e+01  5.502005e+01  9.747807e+01  1.675150e+01  1.419492e+01   \n",
       "\n",
       "       ...           V20           V21           V22           V23  \\\n",
       "count  ...  2.848070e+05  2.848070e+05  2.848070e+05  2.848070e+05   \n",
       "mean   ... -6.286951e-18  1.372152e-19  3.692336e-18  4.690265e-18   \n",
       "std    ...  1.000000e+00  1.000000e+00  1.000000e+00  1.000000e+00   \n",
       "min    ... -7.069134e+01 -4.741898e+01 -1.506562e+01 -7.175434e+01   \n",
       "25%    ... -2.746329e-01 -3.109428e-01 -7.473463e-01 -2.591780e-01   \n",
       "50%    ... -8.104691e-02 -4.009422e-02  9.345360e-03 -1.792417e-02   \n",
       "75%    ...  1.725730e-01  2.537387e-01  7.283347e-01  2.364315e-01   \n",
       "max    ...  5.113455e+01  3.703465e+01  1.447302e+01  3.607661e+01   \n",
       "\n",
       "                V24           V25           V26           V27           V28  \\\n",
       "count  2.848070e+05  2.848070e+05  2.848070e+05  2.848070e+05  2.848070e+05   \n",
       "mean   1.037222e-17 -6.436640e-18  1.177556e-17  2.257814e-18 -5.719379e-18   \n",
       "std    1.000000e+00  1.000000e+00  1.000000e+00  1.000000e+00  1.000000e+00   \n",
       "min   -4.683630e+00 -1.975030e+01 -5.401088e+00 -5.590650e+01 -4.674604e+01   \n",
       "25%   -5.854666e-01 -6.083990e-01 -6.780705e-01 -1.755050e-01 -1.604437e-01   \n",
       "50%    6.765666e-02  3.183234e-02 -1.081215e-01  3.325168e-03  3.406362e-02   \n",
       "75%    7.257141e-01  6.727994e-01  4.996654e-01  2.255644e-01  2.371521e-01   \n",
       "max    7.569671e+00  1.442529e+01  7.293962e+00  7.831926e+01  1.025432e+02   \n",
       "\n",
       "             Amount  \n",
       "count  2.848070e+05  \n",
       "mean  -3.372999e-17  \n",
       "std    1.000000e+00  \n",
       "min   -3.532288e-01  \n",
       "25%   -3.308395e-01  \n",
       "50%   -2.652710e-01  \n",
       "75%   -4.471699e-02  \n",
       "max    1.023621e+02  \n",
       "\n",
       "[8 rows x 30 columns]"
      ]
     },
     "execution_count": 13,
     "metadata": {},
     "output_type": "execute_result"
    }
   ],
   "source": [
    "data.describe()"
   ]
  },
  {
   "cell_type": "markdown",
   "metadata": {
    "id": "Ai7j-PDlGnLC"
   },
   "source": [
    "# **Split into 50% Training(Samples,Labels) , 30% Test(Samples,Labels) and 20% Validation Data(Samples,Labels).**"
   ]
  },
  {
   "cell_type": "code",
   "execution_count": 14,
   "metadata": {
    "id": "eSZjq_rmDfIy"
   },
   "outputs": [],
   "source": [
    "data_len = len(data)\n",
    "train_data = data.iloc[:data_len*50//100]\n",
    "val_data = data.iloc[data_len*50//100:data_len*70//100]\n",
    "test_data = data.iloc[data_len*70//100:]\n",
    "labels_len = len(labels)\n",
    "train_labels = labels.iloc[:labels_len*50//100]\n",
    "val_labels = labels.iloc[labels_len*50//100:labels_len*70//100]\n",
    "test_labels = labels.iloc[labels_len*70//100:]"
   ]
  },
  {
   "cell_type": "markdown",
   "metadata": {
    "id": "fHbTZIW2IEMk"
   },
   "source": [
    "# **Model : input Layer (No. of features ), 3 hidden layers including 10,8,6 unit & Output Layer with activation function relu/tanh (check by experiment).**"
   ]
  },
  {
   "cell_type": "code",
   "execution_count": 15,
   "metadata": {
    "colab": {
     "base_uri": "https://localhost:8080/"
    },
    "id": "G1Uol4PIFJYR",
    "outputId": "da85b8e1-601f-47b0-e6dd-86e4657fa855"
   },
   "outputs": [
    {
     "name": "stdout",
     "output_type": "stream",
     "text": [
      "Epoch 1/10\n",
      "557/557 [==============================] - 3s 3ms/step - loss: 0.3109 - acc: 0.8953 - val_loss: 0.0058 - val_acc: 0.9993\n",
      "Epoch 2/10\n",
      "557/557 [==============================] - 1s 3ms/step - loss: 0.0050 - acc: 0.9993 - val_loss: 0.0039 - val_acc: 0.9993\n",
      "Epoch 3/10\n",
      "557/557 [==============================] - 2s 3ms/step - loss: 0.0037 - acc: 0.9993 - val_loss: 0.0036 - val_acc: 0.9994\n",
      "Epoch 4/10\n",
      "557/557 [==============================] - 1s 3ms/step - loss: 0.0039 - acc: 0.9991 - val_loss: 0.0034 - val_acc: 0.9994TA: 0s - loss: 0.0041 - acc\n",
      "Epoch 5/10\n",
      "557/557 [==============================] - 2s 3ms/step - loss: 0.0029 - acc: 0.9994 - val_loss: 0.0035 - val_acc: 0.9994\n",
      "Epoch 6/10\n",
      "557/557 [==============================] - 2s 3ms/step - loss: 0.0038 - acc: 0.9992 - val_loss: 0.0034 - val_acc: 0.9995\n",
      "Epoch 7/10\n",
      "557/557 [==============================] - 2s 3ms/step - loss: 0.0029 - acc: 0.9995 - val_loss: 0.0033 - val_acc: 0.9994\n",
      "Epoch 8/10\n",
      "557/557 [==============================] - 2s 3ms/step - loss: 0.0031 - acc: 0.9995 - val_loss: 0.0035 - val_acc: 0.9993\n",
      "Epoch 9/10\n",
      "557/557 [==============================] - 2s 3ms/step - loss: 0.0031 - acc: 0.9995 - val_loss: 0.0034 - val_acc: 0.9994\n",
      "Epoch 10/10\n",
      "557/557 [==============================] - 1s 3ms/step - loss: 0.0028 - acc: 0.9994 - val_loss: 0.0033 - val_acc: 0.9995\n",
      "Wall time: 17.3 s\n"
     ]
    }
   ],
   "source": [
    "from tensorflow.keras import models\n",
    "from tensorflow.keras import layers\n",
    "import tensorflow as tf\n",
    "network = models.Sequential()\n",
    "network.add(layers.Dense(10,activation=\"tanh\",input_shape=(len(train_data.columns),) ))\n",
    "network.add(layers.Dense(8,activation=\"tanh\",input_shape=(data.shape[1],) ))\n",
    "network.add(layers.Dense(6,activation=\"tanh\",input_shape=(data.shape[1],) ))\n",
    "network.add(layers.Dense(1,activation=\"sigmoid\"))\n",
    "network.compile(optimizer='rmsprop',loss='binary_crossentropy',metrics=['acc'])\n",
    "with tf.device('/device:GPU:1'):\n",
    "  %time MODEL = network.fit(train_data,train_labels,epochs=10,batch_size=256,validation_data=(val_data,val_labels))"
   ]
  },
  {
   "cell_type": "code",
   "execution_count": 16,
   "metadata": {
    "colab": {
     "base_uri": "https://localhost:8080/"
    },
    "id": "UG8oxKVxKMi8",
    "outputId": "964320ed-088a-4d86-aa3f-cd0529cbb6c8"
   },
   "outputs": [
    {
     "name": "stdout",
     "output_type": "stream",
     "text": [
      "2671/2671 [==============================] - 3s 1ms/step - loss: 0.0024 - acc: 0.9995\n"
     ]
    }
   ],
   "source": [
    "test_loss , test_acc = network.evaluate(test_data,test_labels)"
   ]
  },
  {
   "cell_type": "code",
   "execution_count": 17,
   "metadata": {
    "colab": {
     "base_uri": "https://localhost:8080/"
    },
    "id": "TmosmJihKSlT",
    "outputId": "7ac23f4f-fca1-469e-d8c8-8fc9e836bfce"
   },
   "outputs": [
    {
     "data": {
      "text/plain": [
       "199886    1\n",
       "200009    1\n",
       "200264    1\n",
       "201275    1\n",
       "201518    1\n",
       "         ..\n",
       "282272    1\n",
       "282713    1\n",
       "283375    1\n",
       "284336    1\n",
       "284427    1\n",
       "Name: Class, Length: 140, dtype: int64"
      ]
     },
     "execution_count": 17,
     "metadata": {},
     "output_type": "execute_result"
    }
   ],
   "source": [
    "test_labels[test_labels == 1]\n"
   ]
  },
  {
   "cell_type": "code",
   "execution_count": 18,
   "metadata": {
    "colab": {
     "base_uri": "https://localhost:8080/",
     "height": 313
    },
    "id": "GKpgJUcsZym6",
    "outputId": "dadc837c-e752-492b-98b0-3e0c14654ac0"
   },
   "outputs": [
    {
     "data": {
      "text/plain": [
       "<matplotlib.legend.Legend at 0x22532352820>"
      ]
     },
     "execution_count": 18,
     "metadata": {},
     "output_type": "execute_result"
    },
    {
     "data": {
      "image/png": "[encoded data removed]",
      "text/plain": [
       "<Figure size 432x288 with 1 Axes>"
      ]
     },
     "metadata": {
      "needs_background": "light"
     },
     "output_type": "display_data"
    }
   ],
   "source": [
    "history_dict = MODEL.history\n",
    "acc_values = history_dict['acc']\n",
    "val_acc_values = history_dict['val_acc']\n",
    "epoches = np.arange(1,len(history_dict['acc'])+1)\n",
    "plt.plot(epoches,acc_values,'bo',label=\"Training Accuracy\")\n",
    "plt.plot(epoches,val_acc_values,'b',label=\"Validation Accuracy\")\n",
    "plt.title('Training and validation Accuracy')\n",
    "plt.xlabel(\"Epoches\")\n",
    "plt.ylabel(\"Accuracy\")\n",
    "plt.legend()\n",
    "# plt.show()"
   ]
  },
  {
   "cell_type": "markdown",
   "metadata": {
    "id": "-k-7aD606f29"
   },
   "source": [
    "# **Doing With RELU**"
   ]
  },
  {
   "cell_type": "code",
   "execution_count": 19,
   "metadata": {
    "colab": {
     "base_uri": "https://localhost:8080/"
    },
    "id": "e6i5VL_vsSt1",
    "outputId": "29f63c1d-b9ad-4e00-e699-eae1c038f5e1"
   },
   "outputs": [
    {
     "name": "stdout",
     "output_type": "stream",
     "text": [
      "Epoch 1/10\n",
      "279/279 [==============================] - 3s 6ms/step - loss: 0.2489 - acc: 0.9321 - val_loss: 0.0054 - val_acc: 0.9991\n",
      "Epoch 2/10\n",
      "279/279 [==============================] - 1s 5ms/step - loss: 0.0052 - acc: 0.9992 - val_loss: 0.0042 - val_acc: 0.9993\n",
      "Epoch 3/10\n",
      "279/279 [==============================] - 2s 5ms/step - loss: 0.0034 - acc: 0.9994 - val_loss: 0.0039 - val_acc: 0.9993\n",
      "Epoch 4/10\n",
      "279/279 [==============================] - 1s 5ms/step - loss: 0.0041 - acc: 0.9994 - val_loss: 0.0038 - val_acc: 0.9993\n",
      "Epoch 5/10\n",
      "279/279 [==============================] - 1s 5ms/step - loss: 0.0035 - acc: 0.9993 - val_loss: 0.0039 - val_acc: 0.9993\n",
      "Epoch 6/10\n",
      "279/279 [==============================] - 1s 5ms/step - loss: 0.0036 - acc: 0.9994 - val_loss: 0.0036 - val_acc: 0.9993\n",
      "Epoch 7/10\n",
      "279/279 [==============================] - 1s 5ms/step - loss: 0.0036 - acc: 0.9994 - val_loss: 0.0035 - val_acc: 0.9993\n",
      "Epoch 8/10\n",
      "279/279 [==============================] - 2s 6ms/step - loss: 0.0031 - acc: 0.9994 - val_loss: 0.0034 - val_acc: 0.9993\n",
      "Epoch 9/10\n",
      "279/279 [==============================] - 1s 5ms/step - loss: 0.0031 - acc: 0.9993 - val_loss: 0.0033 - val_acc: 0.9993\n",
      "Epoch 10/10\n",
      "279/279 [==============================] - 2s 6ms/step - loss: 0.0030 - acc: 0.9994 - val_loss: 0.0032 - val_acc: 0.9993\n",
      "Wall time: 16.6 s\n"
     ]
    }
   ],
   "source": [
    "from tensorflow.keras import models\n",
    "from tensorflow.keras import layers\n",
    "import tensorflow as tf\n",
    "network1 = models.Sequential()\n",
    "network1.add(layers.Dense(30,activation=\"relu\",input_shape=(len(train_data.columns),) ))\n",
    "network1.add(layers.Dense(20,activation=\"relu\"))\n",
    "network1.add(layers.Dense(10,activation=\"relu\" ))\n",
    "network1.add(layers.Dense(1,activation=\"sigmoid\"))\n",
    "network1.compile(optimizer='rmsprop',loss='binary_crossentropy',metrics=['acc'])\n",
    "with tf.device('/device:GPU:1'):\n",
    "  %time MODEL1 = network1.fit(train_data,train_labels,epochs=10,batch_size=512,validation_data=(val_data,val_labels))"
   ]
  },
  {
   "cell_type": "code",
   "execution_count": 20,
   "metadata": {
    "colab": {
     "base_uri": "https://localhost:8080/",
     "height": 295
    },
    "id": "nmZW8vyPb62f",
    "outputId": "2f3091ad-a180-4c5c-8a0b-cbbac0e067eb"
   },
   "outputs": [
    {
     "data": {
      "image/png": "[encoded data removed]",
      "text/plain": [
       "<Figure size 432x288 with 1 Axes>"
      ]
     },
     "metadata": {
      "needs_background": "light"
     },
     "output_type": "display_data"
    }
   ],
   "source": [
    "history_dict = MODEL1.history\n",
    "acc_values = history_dict['acc']\n",
    "val_acc_values = history_dict['val_acc']\n",
    "epoches = np.arange(1,len(history_dict['acc'])+1)\n",
    "plt.plot(epoches,acc_values,'bo',label=\"Training Accuracy\")\n",
    "plt.plot(epoches,val_acc_values,'b',label=\"Validation Accuracy\")\n",
    "plt.title('Training and validation Accuracy')\n",
    "plt.xlabel(\"Epoches\")\n",
    "plt.ylabel(\"Accuracy\")\n",
    "plt.legend()\n",
    "plt.show()"
   ]
  },
  {
   "cell_type": "markdown",
   "metadata": {
    "id": "KW_po7htD_Tt"
   },
   "source": [
    "# **Evaluation Step**"
   ]
  },
  {
   "cell_type": "code",
   "execution_count": 21,
   "metadata": {
    "colab": {
     "base_uri": "https://localhost:8080/"
    },
    "id": "NNixGItObakm",
    "outputId": "d89a1a2c-d5a7-45ce-ae0b-86484eca4b32"
   },
   "outputs": [
    {
     "name": "stdout",
     "output_type": "stream",
     "text": [
      "2671/2671 [==============================] - 3s 1ms/step - loss: 0.0026 - acc: 0.9995A: 1s - loss: 0.0026 - acc: 0.9 - ETA: 1s - los\n"
     ]
    }
   ],
   "source": [
    "test_loss , test_acc = network1.evaluate(test_data,test_labels)"
   ]
  },
  {
   "cell_type": "markdown",
   "metadata": {
    "id": "7bXsxUy_EHEW"
   },
   "source": [
    "# **Predict**"
   ]
  },
  {
   "cell_type": "code",
   "execution_count": 22,
   "metadata": {
    "id": "bPYCV-tSELoC"
   },
   "outputs": [],
   "source": [
    "prediction_test_data = test_data\n",
    "predictions = network1.predict(prediction_test_data)"
   ]
  },
  {
   "cell_type": "code",
   "execution_count": 25,
   "metadata": {
    "colab": {
     "base_uri": "https://localhost:8080/"
    },
    "id": "mbrZUqY5Gfrp",
    "outputId": "8840c863-d501-476a-8277-2c44751a8755"
   },
   "outputs": [
    {
     "name": "stdout",
     "output_type": "stream",
     "text": [
      "Allah ka shuker hy i got Accuracy is upto 99.94733333587646%\n"
     ]
    }
   ],
   "source": [
    "print(f\"Allah ka shuker hy i got Accuracy is upto {test_acc*100}%\")"
   ]
  },
  {
   "cell_type": "code",
   "execution_count": null,
   "metadata": {},
   "outputs": [],
   "source": []
  }
 ],
 "metadata": {
  "accelerator": "GPU",
  "colab": {
   "collapsed_sections": [],
   "name": "Credit-Card-Fraud-Detection-Assignment3.ipynb",
   "provenance": []
  },
  "kernelspec": {
   "display_name": "Python 3",
   "language": "python",
   "name": "python3"
  },
  "language_info": {
   "codemirror_mode": {
    "name": "ipython",
    "version": 3
   },
   "file_extension": ".py",
   "mimetype": "text/x-python",
   "name": "python",
   "nbconvert_exporter": "python",
   "pygments_lexer": "ipython3",
   "version": "3.9.4"
  }
 },
 "nbformat": 4,
 "nbformat_minor": 1
}
