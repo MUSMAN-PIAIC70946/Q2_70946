{
 "cells": [
  {
   "cell_type": "code",
   "execution_count": 2,
   "metadata": {
    "id": "-ahnoT3rQZ67"
   },
   "outputs": [
    {
     "name": "stdout",
     "output_type": "stream",
     "text": [
      "INFO:tensorflow:Enabling eager execution\n",
      "INFO:tensorflow:Enabling v2 tensorshape\n",
      "INFO:tensorflow:Enabling resource variables\n",
      "INFO:tensorflow:Enabling tensor equality\n",
      "INFO:tensorflow:Enabling control flow v2\n"
     ]
    }
   ],
   "source": [
    "import pandas as pd\n",
    "import numpy as np\n",
    "import matplotlib.pyplot as plt\n",
    "import tensorflow as tf"
   ]
  },
  {
   "cell_type": "markdown",
   "metadata": {
    "id": "8cvZ6I8-0B-F"
   },
   "source": [
    "# **Load Data**"
   ]
  },
  {
   "cell_type": "code",
   "execution_count": 3,
   "metadata": {
    "id": "_VymCiVaQdBm"
   },
   "outputs": [],
   "source": [
    "data = pd.read_csv('https://raw.githubusercontent.com/ramsha275/ML_Datasets/main/ionosphere_data.csv')"
   ]
  },
  {
   "cell_type": "code",
   "execution_count": 4,
   "metadata": {
    "colab": {
     "base_uri": "https://localhost:8080/",
     "height": 427
    },
    "id": "EUJatlivQj1r",
    "outputId": "e60eba82-963f-476e-bdc5-17829e56594e"
   },
   "outputs": [
    {
     "data": {
      "text/html": [
       "<div>\n",
       "<style scoped>\n",
       "    .dataframe tbody tr th:only-of-type {\n",
       "        vertical-align: middle;\n",
       "    }\n",
       "\n",
       "    .dataframe tbody tr th {\n",
       "        vertical-align: top;\n",
       "    }\n",
       "\n",
       "    .dataframe thead th {\n",
       "        text-align: right;\n",
       "    }\n",
       "</style>\n",
       "<table border=\"1\" class=\"dataframe\">\n",
       "  <thead>\n",
       "    <tr style=\"text-align: right;\">\n",
       "      <th></th>\n",
       "      <th>feature1</th>\n",
       "      <th>feature2</th>\n",
       "      <th>feature3</th>\n",
       "      <th>feature4</th>\n",
       "      <th>feature5</th>\n",
       "      <th>feature6</th>\n",
       "      <th>feature7</th>\n",
       "      <th>feature8</th>\n",
       "      <th>feature9</th>\n",
       "      <th>feature10</th>\n",
       "      <th>...</th>\n",
       "      <th>feature26</th>\n",
       "      <th>feature27</th>\n",
       "      <th>feature28</th>\n",
       "      <th>feature29</th>\n",
       "      <th>feature30</th>\n",
       "      <th>feature31</th>\n",
       "      <th>feature32</th>\n",
       "      <th>feature33</th>\n",
       "      <th>feature34</th>\n",
       "      <th>label</th>\n",
       "    </tr>\n",
       "  </thead>\n",
       "  <tbody>\n",
       "    <tr>\n",
       "      <th>0</th>\n",
       "      <td>1</td>\n",
       "      <td>0</td>\n",
       "      <td>0.99539</td>\n",
       "      <td>-0.05889</td>\n",
       "      <td>0.85243</td>\n",
       "      <td>0.02306</td>\n",
       "      <td>0.83398</td>\n",
       "      <td>-0.37708</td>\n",
       "      <td>1.00000</td>\n",
       "      <td>0.03760</td>\n",
       "      <td>...</td>\n",
       "      <td>-0.51171</td>\n",
       "      <td>0.41078</td>\n",
       "      <td>-0.46168</td>\n",
       "      <td>0.21266</td>\n",
       "      <td>-0.34090</td>\n",
       "      <td>0.42267</td>\n",
       "      <td>-0.54487</td>\n",
       "      <td>0.18641</td>\n",
       "      <td>-0.45300</td>\n",
       "      <td>g</td>\n",
       "    </tr>\n",
       "    <tr>\n",
       "      <th>1</th>\n",
       "      <td>1</td>\n",
       "      <td>0</td>\n",
       "      <td>1.00000</td>\n",
       "      <td>-0.18829</td>\n",
       "      <td>0.93035</td>\n",
       "      <td>-0.36156</td>\n",
       "      <td>-0.10868</td>\n",
       "      <td>-0.93597</td>\n",
       "      <td>1.00000</td>\n",
       "      <td>-0.04549</td>\n",
       "      <td>...</td>\n",
       "      <td>-0.26569</td>\n",
       "      <td>-0.20468</td>\n",
       "      <td>-0.18401</td>\n",
       "      <td>-0.19040</td>\n",
       "      <td>-0.11593</td>\n",
       "      <td>-0.16626</td>\n",
       "      <td>-0.06288</td>\n",
       "      <td>-0.13738</td>\n",
       "      <td>-0.02447</td>\n",
       "      <td>b</td>\n",
       "    </tr>\n",
       "    <tr>\n",
       "      <th>2</th>\n",
       "      <td>1</td>\n",
       "      <td>0</td>\n",
       "      <td>1.00000</td>\n",
       "      <td>-0.03365</td>\n",
       "      <td>1.00000</td>\n",
       "      <td>0.00485</td>\n",
       "      <td>1.00000</td>\n",
       "      <td>-0.12062</td>\n",
       "      <td>0.88965</td>\n",
       "      <td>0.01198</td>\n",
       "      <td>...</td>\n",
       "      <td>-0.40220</td>\n",
       "      <td>0.58984</td>\n",
       "      <td>-0.22145</td>\n",
       "      <td>0.43100</td>\n",
       "      <td>-0.17365</td>\n",
       "      <td>0.60436</td>\n",
       "      <td>-0.24180</td>\n",
       "      <td>0.56045</td>\n",
       "      <td>-0.38238</td>\n",
       "      <td>g</td>\n",
       "    </tr>\n",
       "    <tr>\n",
       "      <th>3</th>\n",
       "      <td>1</td>\n",
       "      <td>0</td>\n",
       "      <td>1.00000</td>\n",
       "      <td>-0.45161</td>\n",
       "      <td>1.00000</td>\n",
       "      <td>1.00000</td>\n",
       "      <td>0.71216</td>\n",
       "      <td>-1.00000</td>\n",
       "      <td>0.00000</td>\n",
       "      <td>0.00000</td>\n",
       "      <td>...</td>\n",
       "      <td>0.90695</td>\n",
       "      <td>0.51613</td>\n",
       "      <td>1.00000</td>\n",
       "      <td>1.00000</td>\n",
       "      <td>-0.20099</td>\n",
       "      <td>0.25682</td>\n",
       "      <td>1.00000</td>\n",
       "      <td>-0.32382</td>\n",
       "      <td>1.00000</td>\n",
       "      <td>b</td>\n",
       "    </tr>\n",
       "    <tr>\n",
       "      <th>4</th>\n",
       "      <td>1</td>\n",
       "      <td>0</td>\n",
       "      <td>1.00000</td>\n",
       "      <td>-0.02401</td>\n",
       "      <td>0.94140</td>\n",
       "      <td>0.06531</td>\n",
       "      <td>0.92106</td>\n",
       "      <td>-0.23255</td>\n",
       "      <td>0.77152</td>\n",
       "      <td>-0.16399</td>\n",
       "      <td>...</td>\n",
       "      <td>-0.65158</td>\n",
       "      <td>0.13290</td>\n",
       "      <td>-0.53206</td>\n",
       "      <td>0.02431</td>\n",
       "      <td>-0.62197</td>\n",
       "      <td>-0.05707</td>\n",
       "      <td>-0.59573</td>\n",
       "      <td>-0.04608</td>\n",
       "      <td>-0.65697</td>\n",
       "      <td>g</td>\n",
       "    </tr>\n",
       "    <tr>\n",
       "      <th>...</th>\n",
       "      <td>...</td>\n",
       "      <td>...</td>\n",
       "      <td>...</td>\n",
       "      <td>...</td>\n",
       "      <td>...</td>\n",
       "      <td>...</td>\n",
       "      <td>...</td>\n",
       "      <td>...</td>\n",
       "      <td>...</td>\n",
       "      <td>...</td>\n",
       "      <td>...</td>\n",
       "      <td>...</td>\n",
       "      <td>...</td>\n",
       "      <td>...</td>\n",
       "      <td>...</td>\n",
       "      <td>...</td>\n",
       "      <td>...</td>\n",
       "      <td>...</td>\n",
       "      <td>...</td>\n",
       "      <td>...</td>\n",
       "      <td>...</td>\n",
       "    </tr>\n",
       "    <tr>\n",
       "      <th>346</th>\n",
       "      <td>1</td>\n",
       "      <td>0</td>\n",
       "      <td>0.83508</td>\n",
       "      <td>0.08298</td>\n",
       "      <td>0.73739</td>\n",
       "      <td>-0.14706</td>\n",
       "      <td>0.84349</td>\n",
       "      <td>-0.05567</td>\n",
       "      <td>0.90441</td>\n",
       "      <td>-0.04622</td>\n",
       "      <td>...</td>\n",
       "      <td>-0.04202</td>\n",
       "      <td>0.83479</td>\n",
       "      <td>0.00123</td>\n",
       "      <td>1.00000</td>\n",
       "      <td>0.12815</td>\n",
       "      <td>0.86660</td>\n",
       "      <td>-0.10714</td>\n",
       "      <td>0.90546</td>\n",
       "      <td>-0.04307</td>\n",
       "      <td>g</td>\n",
       "    </tr>\n",
       "    <tr>\n",
       "      <th>347</th>\n",
       "      <td>1</td>\n",
       "      <td>0</td>\n",
       "      <td>0.95113</td>\n",
       "      <td>0.00419</td>\n",
       "      <td>0.95183</td>\n",
       "      <td>-0.02723</td>\n",
       "      <td>0.93438</td>\n",
       "      <td>-0.01920</td>\n",
       "      <td>0.94590</td>\n",
       "      <td>0.01606</td>\n",
       "      <td>...</td>\n",
       "      <td>0.01361</td>\n",
       "      <td>0.93522</td>\n",
       "      <td>0.04925</td>\n",
       "      <td>0.93159</td>\n",
       "      <td>0.08168</td>\n",
       "      <td>0.94066</td>\n",
       "      <td>-0.00035</td>\n",
       "      <td>0.91483</td>\n",
       "      <td>0.04712</td>\n",
       "      <td>g</td>\n",
       "    </tr>\n",
       "    <tr>\n",
       "      <th>348</th>\n",
       "      <td>1</td>\n",
       "      <td>0</td>\n",
       "      <td>0.94701</td>\n",
       "      <td>-0.00034</td>\n",
       "      <td>0.93207</td>\n",
       "      <td>-0.03227</td>\n",
       "      <td>0.95177</td>\n",
       "      <td>-0.03431</td>\n",
       "      <td>0.95584</td>\n",
       "      <td>0.02446</td>\n",
       "      <td>...</td>\n",
       "      <td>0.03193</td>\n",
       "      <td>0.92489</td>\n",
       "      <td>0.02542</td>\n",
       "      <td>0.92120</td>\n",
       "      <td>0.02242</td>\n",
       "      <td>0.92459</td>\n",
       "      <td>0.00442</td>\n",
       "      <td>0.92697</td>\n",
       "      <td>-0.00577</td>\n",
       "      <td>g</td>\n",
       "    </tr>\n",
       "    <tr>\n",
       "      <th>349</th>\n",
       "      <td>1</td>\n",
       "      <td>0</td>\n",
       "      <td>0.90608</td>\n",
       "      <td>-0.01657</td>\n",
       "      <td>0.98122</td>\n",
       "      <td>-0.01989</td>\n",
       "      <td>0.95691</td>\n",
       "      <td>-0.03646</td>\n",
       "      <td>0.85746</td>\n",
       "      <td>0.00110</td>\n",
       "      <td>...</td>\n",
       "      <td>-0.02099</td>\n",
       "      <td>0.89147</td>\n",
       "      <td>-0.07760</td>\n",
       "      <td>0.82983</td>\n",
       "      <td>-0.17238</td>\n",
       "      <td>0.96022</td>\n",
       "      <td>-0.03757</td>\n",
       "      <td>0.87403</td>\n",
       "      <td>-0.16243</td>\n",
       "      <td>g</td>\n",
       "    </tr>\n",
       "    <tr>\n",
       "      <th>350</th>\n",
       "      <td>1</td>\n",
       "      <td>0</td>\n",
       "      <td>0.84710</td>\n",
       "      <td>0.13533</td>\n",
       "      <td>0.73638</td>\n",
       "      <td>-0.06151</td>\n",
       "      <td>0.87873</td>\n",
       "      <td>0.08260</td>\n",
       "      <td>0.88928</td>\n",
       "      <td>-0.09139</td>\n",
       "      <td>...</td>\n",
       "      <td>-0.15114</td>\n",
       "      <td>0.81147</td>\n",
       "      <td>-0.04822</td>\n",
       "      <td>0.78207</td>\n",
       "      <td>-0.00703</td>\n",
       "      <td>0.75747</td>\n",
       "      <td>-0.06678</td>\n",
       "      <td>0.85764</td>\n",
       "      <td>-0.06151</td>\n",
       "      <td>g</td>\n",
       "    </tr>\n",
       "  </tbody>\n",
       "</table>\n",
       "<p>351 rows × 35 columns</p>\n",
       "</div>"
      ],
      "text/plain": [
       "     feature1  feature2  feature3  feature4  feature5  feature6  feature7  \\\n",
       "0           1         0   0.99539  -0.05889   0.85243   0.02306   0.83398   \n",
       "1           1         0   1.00000  -0.18829   0.93035  -0.36156  -0.10868   \n",
       "2           1         0   1.00000  -0.03365   1.00000   0.00485   1.00000   \n",
       "3           1         0   1.00000  -0.45161   1.00000   1.00000   0.71216   \n",
       "4           1         0   1.00000  -0.02401   0.94140   0.06531   0.92106   \n",
       "..        ...       ...       ...       ...       ...       ...       ...   \n",
       "346         1         0   0.83508   0.08298   0.73739  -0.14706   0.84349   \n",
       "347         1         0   0.95113   0.00419   0.95183  -0.02723   0.93438   \n",
       "348         1         0   0.94701  -0.00034   0.93207  -0.03227   0.95177   \n",
       "349         1         0   0.90608  -0.01657   0.98122  -0.01989   0.95691   \n",
       "350         1         0   0.84710   0.13533   0.73638  -0.06151   0.87873   \n",
       "\n",
       "     feature8  feature9  feature10  ...  feature26  feature27  feature28  \\\n",
       "0    -0.37708   1.00000    0.03760  ...   -0.51171    0.41078   -0.46168   \n",
       "1    -0.93597   1.00000   -0.04549  ...   -0.26569   -0.20468   -0.18401   \n",
       "2    -0.12062   0.88965    0.01198  ...   -0.40220    0.58984   -0.22145   \n",
       "3    -1.00000   0.00000    0.00000  ...    0.90695    0.51613    1.00000   \n",
       "4    -0.23255   0.77152   -0.16399  ...   -0.65158    0.13290   -0.53206   \n",
       "..        ...       ...        ...  ...        ...        ...        ...   \n",
       "346  -0.05567   0.90441   -0.04622  ...   -0.04202    0.83479    0.00123   \n",
       "347  -0.01920   0.94590    0.01606  ...    0.01361    0.93522    0.04925   \n",
       "348  -0.03431   0.95584    0.02446  ...    0.03193    0.92489    0.02542   \n",
       "349  -0.03646   0.85746    0.00110  ...   -0.02099    0.89147   -0.07760   \n",
       "350   0.08260   0.88928   -0.09139  ...   -0.15114    0.81147   -0.04822   \n",
       "\n",
       "     feature29  feature30  feature31  feature32  feature33  feature34  label  \n",
       "0      0.21266   -0.34090    0.42267   -0.54487    0.18641   -0.45300      g  \n",
       "1     -0.19040   -0.11593   -0.16626   -0.06288   -0.13738   -0.02447      b  \n",
       "2      0.43100   -0.17365    0.60436   -0.24180    0.56045   -0.38238      g  \n",
       "3      1.00000   -0.20099    0.25682    1.00000   -0.32382    1.00000      b  \n",
       "4      0.02431   -0.62197   -0.05707   -0.59573   -0.04608   -0.65697      g  \n",
       "..         ...        ...        ...        ...        ...        ...    ...  \n",
       "346    1.00000    0.12815    0.86660   -0.10714    0.90546   -0.04307      g  \n",
       "347    0.93159    0.08168    0.94066   -0.00035    0.91483    0.04712      g  \n",
       "348    0.92120    0.02242    0.92459    0.00442    0.92697   -0.00577      g  \n",
       "349    0.82983   -0.17238    0.96022   -0.03757    0.87403   -0.16243      g  \n",
       "350    0.78207   -0.00703    0.75747   -0.06678    0.85764   -0.06151      g  \n",
       "\n",
       "[351 rows x 35 columns]"
      ]
     },
     "execution_count": 4,
     "metadata": {},
     "output_type": "execute_result"
    }
   ],
   "source": [
    "data"
   ]
  },
  {
   "cell_type": "markdown",
   "metadata": {
    "id": "4DJpmlnY0GnV"
   },
   "source": [
    "# **Check Missing Values ( If Exist ; Fill each record with mean of its feature ) or any usless column.**"
   ]
  },
  {
   "cell_type": "code",
   "execution_count": 5,
   "metadata": {
    "colab": {
     "base_uri": "https://localhost:8080/"
    },
    "id": "ZPdC24-AQk_z",
    "outputId": "01677320-2d74-4eae-979e-0ca336e75311"
   },
   "outputs": [
    {
     "data": {
      "text/plain": [
       "feature1     False\n",
       "feature2     False\n",
       "feature3     False\n",
       "feature4     False\n",
       "feature5     False\n",
       "feature6     False\n",
       "feature7     False\n",
       "feature8     False\n",
       "feature9     False\n",
       "feature10    False\n",
       "feature11    False\n",
       "feature12    False\n",
       "feature13    False\n",
       "feature14    False\n",
       "feature15    False\n",
       "feature16    False\n",
       "feature17    False\n",
       "feature18    False\n",
       "feature19    False\n",
       "feature20    False\n",
       "feature21    False\n",
       "feature22    False\n",
       "feature23    False\n",
       "feature24    False\n",
       "feature25    False\n",
       "feature26    False\n",
       "feature27    False\n",
       "feature28    False\n",
       "feature29    False\n",
       "feature30    False\n",
       "feature31    False\n",
       "feature32    False\n",
       "feature33    False\n",
       "feature34    False\n",
       "label        False\n",
       "dtype: bool"
      ]
     },
     "execution_count": 5,
     "metadata": {},
     "output_type": "execute_result"
    }
   ],
   "source": [
    "data.isnull().any()"
   ]
  },
  {
   "cell_type": "code",
   "execution_count": 6,
   "metadata": {
    "colab": {
     "base_uri": "https://localhost:8080/",
     "height": 308
    },
    "id": "S2soWTpYQua-",
    "outputId": "a9e2a01f-bb7a-4498-93e9-c9fb48c79d19"
   },
   "outputs": [
    {
     "data": {
      "text/html": [
       "<div>\n",
       "<style scoped>\n",
       "    .dataframe tbody tr th:only-of-type {\n",
       "        vertical-align: middle;\n",
       "    }\n",
       "\n",
       "    .dataframe tbody tr th {\n",
       "        vertical-align: top;\n",
       "    }\n",
       "\n",
       "    .dataframe thead th {\n",
       "        text-align: right;\n",
       "    }\n",
       "</style>\n",
       "<table border=\"1\" class=\"dataframe\">\n",
       "  <thead>\n",
       "    <tr style=\"text-align: right;\">\n",
       "      <th></th>\n",
       "      <th>feature1</th>\n",
       "      <th>feature2</th>\n",
       "      <th>feature3</th>\n",
       "      <th>feature4</th>\n",
       "      <th>feature5</th>\n",
       "      <th>feature6</th>\n",
       "      <th>feature7</th>\n",
       "      <th>feature8</th>\n",
       "      <th>feature9</th>\n",
       "      <th>feature10</th>\n",
       "      <th>...</th>\n",
       "      <th>feature25</th>\n",
       "      <th>feature26</th>\n",
       "      <th>feature27</th>\n",
       "      <th>feature28</th>\n",
       "      <th>feature29</th>\n",
       "      <th>feature30</th>\n",
       "      <th>feature31</th>\n",
       "      <th>feature32</th>\n",
       "      <th>feature33</th>\n",
       "      <th>feature34</th>\n",
       "    </tr>\n",
       "  </thead>\n",
       "  <tbody>\n",
       "    <tr>\n",
       "      <th>count</th>\n",
       "      <td>351.000000</td>\n",
       "      <td>351.0</td>\n",
       "      <td>351.000000</td>\n",
       "      <td>351.000000</td>\n",
       "      <td>351.000000</td>\n",
       "      <td>351.000000</td>\n",
       "      <td>351.000000</td>\n",
       "      <td>351.000000</td>\n",
       "      <td>351.000000</td>\n",
       "      <td>351.000000</td>\n",
       "      <td>...</td>\n",
       "      <td>351.000000</td>\n",
       "      <td>351.000000</td>\n",
       "      <td>351.000000</td>\n",
       "      <td>351.000000</td>\n",
       "      <td>351.000000</td>\n",
       "      <td>351.000000</td>\n",
       "      <td>351.000000</td>\n",
       "      <td>351.000000</td>\n",
       "      <td>351.000000</td>\n",
       "      <td>351.000000</td>\n",
       "    </tr>\n",
       "    <tr>\n",
       "      <th>mean</th>\n",
       "      <td>0.891738</td>\n",
       "      <td>0.0</td>\n",
       "      <td>0.641342</td>\n",
       "      <td>0.044372</td>\n",
       "      <td>0.601068</td>\n",
       "      <td>0.115889</td>\n",
       "      <td>0.550095</td>\n",
       "      <td>0.119360</td>\n",
       "      <td>0.511848</td>\n",
       "      <td>0.181345</td>\n",
       "      <td>...</td>\n",
       "      <td>0.396135</td>\n",
       "      <td>-0.071187</td>\n",
       "      <td>0.541641</td>\n",
       "      <td>-0.069538</td>\n",
       "      <td>0.378445</td>\n",
       "      <td>-0.027907</td>\n",
       "      <td>0.352514</td>\n",
       "      <td>-0.003794</td>\n",
       "      <td>0.349364</td>\n",
       "      <td>0.014480</td>\n",
       "    </tr>\n",
       "    <tr>\n",
       "      <th>std</th>\n",
       "      <td>0.311155</td>\n",
       "      <td>0.0</td>\n",
       "      <td>0.497708</td>\n",
       "      <td>0.441435</td>\n",
       "      <td>0.519862</td>\n",
       "      <td>0.460810</td>\n",
       "      <td>0.492654</td>\n",
       "      <td>0.520750</td>\n",
       "      <td>0.507066</td>\n",
       "      <td>0.483851</td>\n",
       "      <td>...</td>\n",
       "      <td>0.578451</td>\n",
       "      <td>0.508495</td>\n",
       "      <td>0.516205</td>\n",
       "      <td>0.550025</td>\n",
       "      <td>0.575886</td>\n",
       "      <td>0.507974</td>\n",
       "      <td>0.571483</td>\n",
       "      <td>0.513574</td>\n",
       "      <td>0.522663</td>\n",
       "      <td>0.468337</td>\n",
       "    </tr>\n",
       "    <tr>\n",
       "      <th>min</th>\n",
       "      <td>0.000000</td>\n",
       "      <td>0.0</td>\n",
       "      <td>-1.000000</td>\n",
       "      <td>-1.000000</td>\n",
       "      <td>-1.000000</td>\n",
       "      <td>-1.000000</td>\n",
       "      <td>-1.000000</td>\n",
       "      <td>-1.000000</td>\n",
       "      <td>-1.000000</td>\n",
       "      <td>-1.000000</td>\n",
       "      <td>...</td>\n",
       "      <td>-1.000000</td>\n",
       "      <td>-1.000000</td>\n",
       "      <td>-1.000000</td>\n",
       "      <td>-1.000000</td>\n",
       "      <td>-1.000000</td>\n",
       "      <td>-1.000000</td>\n",
       "      <td>-1.000000</td>\n",
       "      <td>-1.000000</td>\n",
       "      <td>-1.000000</td>\n",
       "      <td>-1.000000</td>\n",
       "    </tr>\n",
       "    <tr>\n",
       "      <th>25%</th>\n",
       "      <td>1.000000</td>\n",
       "      <td>0.0</td>\n",
       "      <td>0.472135</td>\n",
       "      <td>-0.064735</td>\n",
       "      <td>0.412660</td>\n",
       "      <td>-0.024795</td>\n",
       "      <td>0.211310</td>\n",
       "      <td>-0.054840</td>\n",
       "      <td>0.087110</td>\n",
       "      <td>-0.048075</td>\n",
       "      <td>...</td>\n",
       "      <td>0.000000</td>\n",
       "      <td>-0.332390</td>\n",
       "      <td>0.286435</td>\n",
       "      <td>-0.443165</td>\n",
       "      <td>0.000000</td>\n",
       "      <td>-0.236885</td>\n",
       "      <td>0.000000</td>\n",
       "      <td>-0.242595</td>\n",
       "      <td>0.000000</td>\n",
       "      <td>-0.165350</td>\n",
       "    </tr>\n",
       "    <tr>\n",
       "      <th>50%</th>\n",
       "      <td>1.000000</td>\n",
       "      <td>0.0</td>\n",
       "      <td>0.871110</td>\n",
       "      <td>0.016310</td>\n",
       "      <td>0.809200</td>\n",
       "      <td>0.022800</td>\n",
       "      <td>0.728730</td>\n",
       "      <td>0.014710</td>\n",
       "      <td>0.684210</td>\n",
       "      <td>0.018290</td>\n",
       "      <td>...</td>\n",
       "      <td>0.553890</td>\n",
       "      <td>-0.015050</td>\n",
       "      <td>0.708240</td>\n",
       "      <td>-0.017690</td>\n",
       "      <td>0.496640</td>\n",
       "      <td>0.000000</td>\n",
       "      <td>0.442770</td>\n",
       "      <td>0.000000</td>\n",
       "      <td>0.409560</td>\n",
       "      <td>0.000000</td>\n",
       "    </tr>\n",
       "    <tr>\n",
       "      <th>75%</th>\n",
       "      <td>1.000000</td>\n",
       "      <td>0.0</td>\n",
       "      <td>1.000000</td>\n",
       "      <td>0.194185</td>\n",
       "      <td>1.000000</td>\n",
       "      <td>0.334655</td>\n",
       "      <td>0.969240</td>\n",
       "      <td>0.445675</td>\n",
       "      <td>0.953240</td>\n",
       "      <td>0.534195</td>\n",
       "      <td>...</td>\n",
       "      <td>0.905240</td>\n",
       "      <td>0.156765</td>\n",
       "      <td>0.999945</td>\n",
       "      <td>0.153535</td>\n",
       "      <td>0.883465</td>\n",
       "      <td>0.154075</td>\n",
       "      <td>0.857620</td>\n",
       "      <td>0.200120</td>\n",
       "      <td>0.813765</td>\n",
       "      <td>0.171660</td>\n",
       "    </tr>\n",
       "    <tr>\n",
       "      <th>max</th>\n",
       "      <td>1.000000</td>\n",
       "      <td>0.0</td>\n",
       "      <td>1.000000</td>\n",
       "      <td>1.000000</td>\n",
       "      <td>1.000000</td>\n",
       "      <td>1.000000</td>\n",
       "      <td>1.000000</td>\n",
       "      <td>1.000000</td>\n",
       "      <td>1.000000</td>\n",
       "      <td>1.000000</td>\n",
       "      <td>...</td>\n",
       "      <td>1.000000</td>\n",
       "      <td>1.000000</td>\n",
       "      <td>1.000000</td>\n",
       "      <td>1.000000</td>\n",
       "      <td>1.000000</td>\n",
       "      <td>1.000000</td>\n",
       "      <td>1.000000</td>\n",
       "      <td>1.000000</td>\n",
       "      <td>1.000000</td>\n",
       "      <td>1.000000</td>\n",
       "    </tr>\n",
       "  </tbody>\n",
       "</table>\n",
       "<p>8 rows × 34 columns</p>\n",
       "</div>"
      ],
      "text/plain": [
       "         feature1  feature2    feature3    feature4    feature5    feature6  \\\n",
       "count  351.000000     351.0  351.000000  351.000000  351.000000  351.000000   \n",
       "mean     0.891738       0.0    0.641342    0.044372    0.601068    0.115889   \n",
       "std      0.311155       0.0    0.497708    0.441435    0.519862    0.460810   \n",
       "min      0.000000       0.0   -1.000000   -1.000000   -1.000000   -1.000000   \n",
       "25%      1.000000       0.0    0.472135   -0.064735    0.412660   -0.024795   \n",
       "50%      1.000000       0.0    0.871110    0.016310    0.809200    0.022800   \n",
       "75%      1.000000       0.0    1.000000    0.194185    1.000000    0.334655   \n",
       "max      1.000000       0.0    1.000000    1.000000    1.000000    1.000000   \n",
       "\n",
       "         feature7    feature8    feature9   feature10  ...   feature25  \\\n",
       "count  351.000000  351.000000  351.000000  351.000000  ...  351.000000   \n",
       "mean     0.550095    0.119360    0.511848    0.181345  ...    0.396135   \n",
       "std      0.492654    0.520750    0.507066    0.483851  ...    0.578451   \n",
       "min     -1.000000   -1.000000   -1.000000   -1.000000  ...   -1.000000   \n",
       "25%      0.211310   -0.054840    0.087110   -0.048075  ...    0.000000   \n",
       "50%      0.728730    0.014710    0.684210    0.018290  ...    0.553890   \n",
       "75%      0.969240    0.445675    0.953240    0.534195  ...    0.905240   \n",
       "max      1.000000    1.000000    1.000000    1.000000  ...    1.000000   \n",
       "\n",
       "        feature26   feature27   feature28   feature29   feature30   feature31  \\\n",
       "count  351.000000  351.000000  351.000000  351.000000  351.000000  351.000000   \n",
       "mean    -0.071187    0.541641   -0.069538    0.378445   -0.027907    0.352514   \n",
       "std      0.508495    0.516205    0.550025    0.575886    0.507974    0.571483   \n",
       "min     -1.000000   -1.000000   -1.000000   -1.000000   -1.000000   -1.000000   \n",
       "25%     -0.332390    0.286435   -0.443165    0.000000   -0.236885    0.000000   \n",
       "50%     -0.015050    0.708240   -0.017690    0.496640    0.000000    0.442770   \n",
       "75%      0.156765    0.999945    0.153535    0.883465    0.154075    0.857620   \n",
       "max      1.000000    1.000000    1.000000    1.000000    1.000000    1.000000   \n",
       "\n",
       "        feature32   feature33   feature34  \n",
       "count  351.000000  351.000000  351.000000  \n",
       "mean    -0.003794    0.349364    0.014480  \n",
       "std      0.513574    0.522663    0.468337  \n",
       "min     -1.000000   -1.000000   -1.000000  \n",
       "25%     -0.242595    0.000000   -0.165350  \n",
       "50%      0.000000    0.409560    0.000000  \n",
       "75%      0.200120    0.813765    0.171660  \n",
       "max      1.000000    1.000000    1.000000  \n",
       "\n",
       "[8 rows x 34 columns]"
      ]
     },
     "execution_count": 6,
     "metadata": {},
     "output_type": "execute_result"
    }
   ],
   "source": [
    "data.describe()"
   ]
  },
  {
   "cell_type": "code",
   "execution_count": 7,
   "metadata": {
    "colab": {
     "base_uri": "https://localhost:8080/"
    },
    "id": "P2e4A-64ee9M",
    "outputId": "5ee4747c-8110-4455-8149-cfcebb252fff"
   },
   "outputs": [
    {
     "data": {
      "text/plain": [
       "array([0], dtype=int64)"
      ]
     },
     "execution_count": 7,
     "metadata": {},
     "output_type": "execute_result"
    }
   ],
   "source": [
    "np.unique(data.feature2)"
   ]
  },
  {
   "cell_type": "code",
   "execution_count": 8,
   "metadata": {
    "id": "DQl8HTdLi7Hg"
   },
   "outputs": [],
   "source": [
    "data.sample(frac=0.4)\n",
    "data.drop(columns=[\"feature2\"] ,inplace=True,axis=0)"
   ]
  },
  {
   "cell_type": "markdown",
   "metadata": {
    "id": "4x7r6VCW0Qjh"
   },
   "source": [
    "# **Split into 60 and 40 ratio.**"
   ]
  },
  {
   "cell_type": "code",
   "execution_count": 9,
   "metadata": {
    "id": "ez50Wv9UkIyi"
   },
   "outputs": [],
   "source": [
    "labels = data.pop(\"label\")"
   ]
  },
  {
   "cell_type": "code",
   "execution_count": 10,
   "metadata": {
    "id": "0u1LWPpk2CdY"
   },
   "outputs": [],
   "source": [
    "data -= data.mean()\n",
    "data /= data.std()"
   ]
  },
  {
   "cell_type": "code",
   "execution_count": 11,
   "metadata": {
    "id": "pWw7vo1wmsId"
   },
   "outputs": [],
   "source": [
    "labels = pd.Series([0 if lbl == 'g' else 1 for lbl in labels]) "
   ]
  },
  {
   "cell_type": "code",
   "execution_count": 12,
   "metadata": {
    "id": "HncRgzlqk0Rd"
   },
   "outputs": [],
   "source": [
    "data_len = len(data)\n",
    "train_data = data.iloc[:data_len*60//100]\n",
    "test_data = data.iloc[data_len*60//100:]\n",
    "labels_len = len(labels)\n",
    "train_labels = labels.iloc[:labels_len*60//100]\n",
    "test_labels = labels.iloc[labels_len*60//100:]"
   ]
  },
  {
   "cell_type": "markdown",
   "metadata": {
    "id": "IqGCFS1h0Zru"
   },
   "source": [
    "# **Model : 1 hidden layers including 16 unit.  Train the Model with Epochs (100).**"
   ]
  },
  {
   "cell_type": "code",
   "execution_count": 13,
   "metadata": {
    "colab": {
     "base_uri": "https://localhost:8080/"
    },
    "id": "GC7FHwZnlB3_",
    "outputId": "e7e4fa58-5c18-4c21-c973-5f4e1d0e0f10"
   },
   "outputs": [
    {
     "name": "stdout",
     "output_type": "stream",
     "text": [
      "Epoch 1/100\n",
      "2/2 [==============================] - 2s 10ms/step - loss: 1.0568 - acc: 0.4451\n",
      "Epoch 2/100\n",
      "2/2 [==============================] - 0s 7ms/step - loss: 1.0511 - acc: 0.4035\n",
      "Epoch 3/100\n",
      "2/2 [==============================] - 0s 7ms/step - loss: 1.1009 - acc: 0.4197\n",
      "Epoch 4/100\n",
      "2/2 [==============================] - 0s 11ms/step - loss: 0.9838 - acc: 0.4396\n",
      "Epoch 5/100\n",
      "2/2 [==============================] - 0s 4ms/step - loss: 1.0188 - acc: 0.4376\n",
      "Epoch 6/100\n",
      "2/2 [==============================] - 0s 7ms/step - loss: 0.9041 - acc: 0.4705\n",
      "Epoch 7/100\n",
      "2/2 [==============================] - 0s 6ms/step - loss: 0.8619 - acc: 0.5332\n",
      "Epoch 8/100\n",
      "2/2 [==============================] - 0s 8ms/step - loss: 0.8268 - acc: 0.5685\n",
      "Epoch 9/100\n",
      "2/2 [==============================] - 0s 7ms/step - loss: 0.9014 - acc: 0.5257\n",
      "Epoch 10/100\n",
      "2/2 [==============================] - 0s 10ms/step - loss: 0.8969 - acc: 0.5110\n",
      "Epoch 11/100\n",
      "2/2 [==============================] - 0s 5ms/step - loss: 0.7755 - acc: 0.5569\n",
      "Epoch 12/100\n",
      "2/2 [==============================] - 0s 5ms/step - loss: 0.7789 - acc: 0.5846\n",
      "Epoch 13/100\n",
      "2/2 [==============================] - 0s 9ms/step - loss: 0.8338 - acc: 0.5260\n",
      "Epoch 14/100\n",
      "2/2 [==============================] - 0s 5ms/step - loss: 0.7811 - acc: 0.5852\n",
      "Epoch 15/100\n",
      "2/2 [==============================] - 0s 5ms/step - loss: 0.8034 - acc: 0.5479\n",
      "Epoch 16/100\n",
      "2/2 [==============================] - 0s 8ms/step - loss: 0.7696 - acc: 0.5612\n",
      "Epoch 17/100\n",
      "2/2 [==============================] - 0s 5ms/step - loss: 0.7964 - acc: 0.5401\n",
      "Epoch 18/100\n",
      "2/2 [==============================] - 0s 6ms/step - loss: 0.7428 - acc: 0.5869\n",
      "Epoch 19/100\n",
      "2/2 [==============================] - 0s 5ms/step - loss: 0.7514 - acc: 0.5763\n",
      "Epoch 20/100\n",
      "2/2 [==============================] - 0s 5ms/step - loss: 0.7348 - acc: 0.6190\n",
      "Epoch 21/100\n",
      "2/2 [==============================] - 0s 12ms/step - loss: 0.7223 - acc: 0.6130\n",
      "Epoch 22/100\n",
      "2/2 [==============================] - 0s 13ms/step - loss: 0.6573 - acc: 0.6095\n",
      "Epoch 23/100\n",
      "2/2 [==============================] - 0s 10ms/step - loss: 0.6647 - acc: 0.6280\n",
      "Epoch 24/100\n",
      "2/2 [==============================] - 0s 15ms/step - loss: 0.6173 - acc: 0.6901\n",
      "Epoch 25/100\n",
      "2/2 [==============================] - 0s 14ms/step - loss: 0.7253 - acc: 0.6190\n",
      "Epoch 26/100\n",
      "2/2 [==============================] - 0s 6ms/step - loss: 0.6105 - acc: 0.7264\n",
      "Epoch 27/100\n",
      "2/2 [==============================] - 0s 9ms/step - loss: 0.6783 - acc: 0.6494\n",
      "Epoch 28/100\n",
      "2/2 [==============================] - 0s 8ms/step - loss: 0.6854 - acc: 0.6701\n",
      "Epoch 29/100\n",
      "2/2 [==============================] - 0s 6ms/step - loss: 0.6427 - acc: 0.6921\n",
      "Epoch 30/100\n",
      "2/2 [==============================] - 0s 3ms/step - loss: 0.6969 - acc: 0.6158\n",
      "Epoch 31/100\n",
      "2/2 [==============================] - 0s 8ms/step - loss: 0.6067 - acc: 0.7369\n",
      "Epoch 32/100\n",
      "2/2 [==============================] - 0s 4ms/step - loss: 0.6943 - acc: 0.6406\n",
      "Epoch 33/100\n",
      "2/2 [==============================] - 0s 9ms/step - loss: 0.6219 - acc: 0.6537\n",
      "Epoch 34/100\n",
      "2/2 [==============================] - 0s 15ms/step - loss: 0.6109 - acc: 0.6606\n",
      "Epoch 35/100\n",
      "2/2 [==============================] - 0s 4ms/step - loss: 0.6185 - acc: 0.6759\n",
      "Epoch 36/100\n",
      "2/2 [==============================] - 0s 5ms/step - loss: 0.6321 - acc: 0.6537\n",
      "Epoch 37/100\n",
      "2/2 [==============================] - 0s 4ms/step - loss: 0.5542 - acc: 0.7132\n",
      "Epoch 38/100\n",
      "2/2 [==============================] - 0s 5ms/step - loss: 0.5684 - acc: 0.7068\n",
      "Epoch 39/100\n",
      "2/2 [==============================] - 0s 3ms/step - loss: 0.5946 - acc: 0.7230\n",
      "Epoch 40/100\n",
      "2/2 [==============================] - 0s 3ms/step - loss: 0.5722 - acc: 0.7169\n",
      "Epoch 41/100\n",
      "2/2 [==============================] - 0s 7ms/step - loss: 0.5474 - acc: 0.7631\n",
      "Epoch 42/100\n",
      "2/2 [==============================] - 0s 6ms/step - loss: 0.5648 - acc: 0.7478\n",
      "Epoch 43/100\n",
      "2/2 [==============================] - 0s 10ms/step - loss: 0.5663 - acc: 0.7175\n",
      "Epoch 44/100\n",
      "2/2 [==============================] - 0s 4ms/step - loss: 0.5174 - acc: 0.7464\n",
      "Epoch 45/100\n",
      "2/2 [==============================] - 0s 4ms/step - loss: 0.4828 - acc: 0.7600\n",
      "Epoch 46/100\n",
      "2/2 [==============================] - 0s 9ms/step - loss: 0.5368 - acc: 0.7620\n",
      "Epoch 47/100\n",
      "2/2 [==============================] - 0s 4ms/step - loss: 0.5290 - acc: 0.7516\n",
      "Epoch 48/100\n",
      "2/2 [==============================] - 0s 8ms/step - loss: 0.5209 - acc: 0.7473\n",
      "Epoch 49/100\n",
      "2/2 [==============================] - 0s 7ms/step - loss: 0.4788 - acc: 0.7984\n",
      "Epoch 50/100\n",
      "2/2 [==============================] - 0s 6ms/step - loss: 0.4516 - acc: 0.8062\n",
      "Epoch 51/100\n",
      "2/2 [==============================] - 0s 10ms/step - loss: 0.5323 - acc: 0.7784\n",
      "Epoch 52/100\n",
      "2/2 [==============================] - 0s 6ms/step - loss: 0.5422 - acc: 0.6886\n",
      "Epoch 53/100\n",
      "2/2 [==============================] - ETA: 0s - loss: 0.4999 - acc: 0.765 - 0s 8ms/step - loss: 0.4883 - acc: 0.7695\n",
      "Epoch 54/100\n",
      "2/2 [==============================] - 0s 4ms/step - loss: 0.4880 - acc: 0.7684\n",
      "Epoch 55/100\n",
      "2/2 [==============================] - 0s 7ms/step - loss: 0.4736 - acc: 0.7952\n",
      "Epoch 56/100\n",
      "2/2 [==============================] - 0s 4ms/step - loss: 0.4825 - acc: 0.7727\n",
      "Epoch 57/100\n",
      "2/2 [==============================] - 0s 10ms/step - loss: 0.4789 - acc: 0.7863\n",
      "Epoch 58/100\n",
      "2/2 [==============================] - 0s 20ms/step - loss: 0.5217 - acc: 0.7484\n",
      "Epoch 59/100\n",
      "2/2 [==============================] - 0s 4ms/step - loss: 0.4646 - acc: 0.8021\n",
      "Epoch 60/100\n",
      "2/2 [==============================] - 0s 6ms/step - loss: 0.4294 - acc: 0.7906\n",
      "Epoch 61/100\n",
      "2/2 [==============================] - 0s 4ms/step - loss: 0.4780 - acc: 0.7730\n",
      "Epoch 62/100\n",
      "2/2 [==============================] - 0s 6ms/step - loss: 0.4822 - acc: 0.7553\n",
      "Epoch 63/100\n",
      "2/2 [==============================] - 0s 5ms/step - loss: 0.4205 - acc: 0.8163\n",
      "Epoch 64/100\n",
      "2/2 [==============================] - 0s 8ms/step - loss: 0.4644 - acc: 0.7891\n",
      "Epoch 65/100\n",
      "2/2 [==============================] - 0s 5ms/step - loss: 0.4713 - acc: 0.7663\n",
      "Epoch 66/100\n",
      "2/2 [==============================] - 0s 5ms/step - loss: 0.4151 - acc: 0.8062\n",
      "Epoch 67/100\n",
      "2/2 [==============================] - 0s 3ms/step - loss: 0.4573 - acc: 0.8235\n",
      "Epoch 68/100\n",
      "2/2 [==============================] - 0s 6ms/step - loss: 0.4265 - acc: 0.8131\n",
      "Epoch 69/100\n",
      "2/2 [==============================] - 0s 4ms/step - loss: 0.4797 - acc: 0.7842\n",
      "Epoch 70/100\n",
      "2/2 [==============================] - 0s 3ms/step - loss: 0.4472 - acc: 0.7874\n",
      "Epoch 71/100\n",
      "2/2 [==============================] - 0s 7ms/step - loss: 0.4365 - acc: 0.8316\n",
      "Epoch 72/100\n",
      "2/2 [==============================] - 0s 5ms/step - loss: 0.4621 - acc: 0.7995\n",
      "Epoch 73/100\n",
      "2/2 [==============================] - 0s 5ms/step - loss: 0.4577 - acc: 0.8088\n",
      "Epoch 74/100\n",
      "2/2 [==============================] - 0s 5ms/step - loss: 0.4449 - acc: 0.7764\n",
      "Epoch 75/100\n",
      "2/2 [==============================] - 0s 9ms/step - loss: 0.4190 - acc: 0.8189\n",
      "Epoch 76/100\n",
      "2/2 [==============================] - 0s 4ms/step - loss: 0.4236 - acc: 0.8267\n",
      "Epoch 77/100\n",
      "2/2 [==============================] - 0s 6ms/step - loss: 0.4239 - acc: 0.8169\n",
      "Epoch 78/100\n",
      "2/2 [==============================] - 0s 5ms/step - loss: 0.3906 - acc: 0.8446\n",
      "Epoch 79/100\n",
      "2/2 [==============================] - 0s 4ms/step - loss: 0.4220 - acc: 0.8478\n",
      "Epoch 80/100\n",
      "2/2 [==============================] - 0s 4ms/step - loss: 0.4285 - acc: 0.8053\n",
      "Epoch 81/100\n",
      "2/2 [==============================] - 0s 3ms/step - loss: 0.4283 - acc: 0.8232\n",
      "Epoch 82/100\n",
      "2/2 [==============================] - 0s 5ms/step - loss: 0.4421 - acc: 0.8385\n",
      "Epoch 83/100\n",
      "2/2 [==============================] - 0s 5ms/step - loss: 0.4392 - acc: 0.7952\n",
      "Epoch 84/100\n",
      "2/2 [==============================] - 0s 6ms/step - loss: 0.4014 - acc: 0.8432\n",
      "Epoch 85/100\n",
      "2/2 [==============================] - 0s 4ms/step - loss: 0.4386 - acc: 0.8244\n",
      "Epoch 86/100\n",
      "2/2 [==============================] - 0s 3ms/step - loss: 0.3873 - acc: 0.8648\n",
      "Epoch 87/100\n",
      "2/2 [==============================] - 0s 6ms/step - loss: 0.3816 - acc: 0.8573\n",
      "Epoch 88/100\n",
      "2/2 [==============================] - 0s 4ms/step - loss: 0.3860 - acc: 0.8426\n",
      "Epoch 89/100\n",
      "2/2 [==============================] - 0s 7ms/step - loss: 0.3845 - acc: 0.8105\n",
      "Epoch 90/100\n",
      "2/2 [==============================] - 0s 5ms/step - loss: 0.3751 - acc: 0.8258\n",
      "Epoch 91/100\n",
      "2/2 [==============================] - 0s 4ms/step - loss: 0.4040 - acc: 0.8379\n",
      "Epoch 92/100\n",
      "2/2 [==============================] - 0s 5ms/step - loss: 0.3879 - acc: 0.8458\n",
      "Epoch 93/100\n",
      "2/2 [==============================] - 0s 4ms/step - loss: 0.3727 - acc: 0.8489\n",
      "Epoch 94/100\n",
      "2/2 [==============================] - 0s 4ms/step - loss: 0.3959 - acc: 0.8143\n",
      "Epoch 95/100\n",
      "2/2 [==============================] - 0s 5ms/step - loss: 0.3803 - acc: 0.8458\n",
      "Epoch 96/100\n",
      "2/2 [==============================] - 0s 4ms/step - loss: 0.3906 - acc: 0.8527\n",
      "Epoch 97/100\n",
      "2/2 [==============================] - 0s 5ms/step - loss: 0.4098 - acc: 0.8567\n",
      "Epoch 98/100\n",
      "2/2 [==============================] - 0s 5ms/step - loss: 0.3694 - acc: 0.8186\n",
      "Epoch 99/100\n",
      "2/2 [==============================] - 0s 5ms/step - loss: 0.3765 - acc: 0.8700\n",
      "Epoch 100/100\n",
      "2/2 [==============================] - 0s 6ms/step - loss: 0.3615 - acc: 0.8585\n",
      "Wall time: 3.5 s\n"
     ]
    }
   ],
   "source": [
    "from tensorflow.keras import models\n",
    "from tensorflow.keras import layers\n",
    "import tensorflow as tf\n",
    "network = models.Sequential()\n",
    "network.add(layers.Dense(16,activation=\"relu\",input_shape=(len(train_data.columns),)))\n",
    "# network.add(layers.Dense(13,activation=\"relu\"))\n",
    "network.add(layers.Dropout(0.5))\n",
    "\n",
    "network.add(layers.Dense(1,activation=\"sigmoid\"))\n",
    "network.compile(optimizer='rmsprop',loss='binary_crossentropy',metrics=['acc'])\n",
    "with tf.device('/device:GPU:1'):\n",
    "  %time MODEL = network.fit(train_data,train_labels,epochs=100,batch_size=128)"
   ]
  },
  {
   "cell_type": "markdown",
   "metadata": {
    "id": "qMPZ-IFe0muX"
   },
   "source": [
    "# **Evaluation Step**"
   ]
  },
  {
   "cell_type": "code",
   "execution_count": 14,
   "metadata": {
    "colab": {
     "base_uri": "https://localhost:8080/"
    },
    "id": "80xJvwUapWBy",
    "outputId": "7e9c92a3-5afb-4f23-e732-330242ec79be"
   },
   "outputs": [
    {
     "name": "stdout",
     "output_type": "stream",
     "text": [
      "5/5 [==============================] - 0s 2ms/step - loss: 0.3784 - acc: 0.8794\n"
     ]
    }
   ],
   "source": [
    "loss , acc = network.evaluate(test_data,test_labels)"
   ]
  },
  {
   "cell_type": "markdown",
   "metadata": {
    "id": "dmgzytJe0vhw"
   },
   "source": [
    "# **Prediction**"
   ]
  },
  {
   "cell_type": "code",
   "execution_count": 15,
   "metadata": {
    "colab": {
     "base_uri": "https://localhost:8080/"
    },
    "id": "5dTAo1hnp6QO",
    "outputId": "3a748089-167b-4336-85a1-22634f145d80"
   },
   "outputs": [
    {
     "data": {
      "text/plain": [
       "22"
      ]
     },
     "execution_count": 15,
     "metadata": {},
     "output_type": "execute_result"
    }
   ],
   "source": [
    "prediction_test_data = test_data[test_labels == 1]\n",
    "predictions = network.predict(prediction_test_data)\n",
    "len(np.round(predictions))"
   ]
  },
  {
   "cell_type": "markdown",
   "metadata": {
    "id": "8QVfBis200MY"
   },
   "source": [
    "# **Model : 2 hidden layers including 33 and 13 unit.  Train the Model with Epochs (80).**"
   ]
  },
  {
   "cell_type": "code",
   "execution_count": 16,
   "metadata": {
    "colab": {
     "base_uri": "https://localhost:8080/"
    },
    "id": "NrrxAqmVslgZ",
    "outputId": "335e6ffd-2125-48a8-883d-d83e88980900"
   },
   "outputs": [
    {
     "name": "stdout",
     "output_type": "stream",
     "text": [
      "Epoch 1/80\n",
      "4/4 [==============================] - 1s 3ms/step - loss: 0.8392 - acc: 0.5735\n",
      "Epoch 2/80\n",
      "4/4 [==============================] - 0s 4ms/step - loss: 0.6798 - acc: 0.6701\n",
      "Epoch 3/80\n",
      "4/4 [==============================] - 0s 7ms/step - loss: 0.6234 - acc: 0.6910\n",
      "Epoch 4/80\n",
      "4/4 [==============================] - 0s 5ms/step - loss: 0.5763 - acc: 0.7213\n",
      "Epoch 5/80\n",
      "4/4 [==============================] - 0s 5ms/step - loss: 0.5195 - acc: 0.7780\n",
      "Epoch 6/80\n",
      "4/4 [==============================] - 0s 4ms/step - loss: 0.4963 - acc: 0.7690\n",
      "Epoch 7/80\n",
      "4/4 [==============================] - 0s 5ms/step - loss: 0.4667 - acc: 0.7976\n",
      "Epoch 8/80\n",
      "4/4 [==============================] - 0s 6ms/step - loss: 0.4425 - acc: 0.8215\n",
      "Epoch 9/80\n",
      "4/4 [==============================] - 0s 7ms/step - loss: 0.3937 - acc: 0.8597\n",
      "Epoch 10/80\n",
      "4/4 [==============================] - 0s 7ms/step - loss: 0.4008 - acc: 0.8278\n",
      "Epoch 11/80\n",
      "4/4 [==============================] - 0s 7ms/step - loss: 0.3788 - acc: 0.8425\n",
      "Epoch 12/80\n",
      "4/4 [==============================] - 0s 4ms/step - loss: 0.3411 - acc: 0.8718\n",
      "Epoch 13/80\n",
      "4/4 [==============================] - 0s 6ms/step - loss: 0.3228 - acc: 0.8842\n",
      "Epoch 14/80\n",
      "4/4 [==============================] - 0s 4ms/step - loss: 0.3263 - acc: 0.8856\n",
      "Epoch 15/80\n",
      "4/4 [==============================] - 0s 4ms/step - loss: 0.3296 - acc: 0.8621\n",
      "Epoch 16/80\n",
      "4/4 [==============================] - 0s 3ms/step - loss: 0.3011 - acc: 0.8765\n",
      "Epoch 17/80\n",
      "4/4 [==============================] - 0s 4ms/step - loss: 0.2994 - acc: 0.8664\n",
      "Epoch 18/80\n",
      "4/4 [==============================] - 0s 6ms/step - loss: 0.2799 - acc: 0.8685\n",
      "Epoch 19/80\n",
      "4/4 [==============================] - 0s 3ms/step - loss: 0.2800 - acc: 0.8673\n",
      "Epoch 20/80\n",
      "4/4 [==============================] - 0s 4ms/step - loss: 0.2531 - acc: 0.8966\n",
      "Epoch 21/80\n",
      "4/4 [==============================] - 0s 3ms/step - loss: 0.2342 - acc: 0.9046\n",
      "Epoch 22/80\n",
      "4/4 [==============================] - 0s 6ms/step - loss: 0.2490 - acc: 0.8855\n",
      "Epoch 23/80\n",
      "4/4 [==============================] - 0s 3ms/step - loss: 0.2190 - acc: 0.9096\n",
      "Epoch 24/80\n",
      "4/4 [==============================] - 0s 4ms/step - loss: 0.2068 - acc: 0.9190\n",
      "Epoch 25/80\n",
      "4/4 [==============================] - 0s 6ms/step - loss: 0.2066 - acc: 0.9162\n",
      "Epoch 26/80\n",
      "4/4 [==============================] - ETA: 0s - loss: 0.2515 - acc: 0.859 - 0s 2ms/step - loss: 0.2185 - acc: 0.8980\n",
      "Epoch 27/80\n",
      "4/4 [==============================] - 0s 3ms/step - loss: 0.2098 - acc: 0.9086\n",
      "Epoch 28/80\n",
      "4/4 [==============================] - 0s 3ms/step - loss: 0.1940 - acc: 0.9258\n",
      "Epoch 29/80\n",
      "4/4 [==============================] - 0s 3ms/step - loss: 0.1850 - acc: 0.9268\n",
      "Epoch 30/80\n",
      "4/4 [==============================] - 0s 3ms/step - loss: 0.1780 - acc: 0.9346\n",
      "Epoch 31/80\n",
      "4/4 [==============================] - 0s 4ms/step - loss: 0.1847 - acc: 0.9211\n",
      "Epoch 32/80\n",
      "4/4 [==============================] - 0s 3ms/step - loss: 0.1764 - acc: 0.9242\n",
      "Epoch 33/80\n",
      "4/4 [==============================] - 0s 4ms/step - loss: 0.1680 - acc: 0.9258\n",
      "Epoch 34/80\n",
      "4/4 [==============================] - 0s 3ms/step - loss: 0.1566 - acc: 0.9305\n",
      "Epoch 35/80\n",
      "4/4 [==============================] - 0s 4ms/step - loss: 0.1703 - acc: 0.9162\n",
      "Epoch 36/80\n",
      "4/4 [==============================] - 0s 4ms/step - loss: 0.1529 - acc: 0.9421\n",
      "Epoch 37/80\n",
      "4/4 [==============================] - 0s 4ms/step - loss: 0.1576 - acc: 0.9270\n",
      "Epoch 38/80\n",
      "4/4 [==============================] - 0s 3ms/step - loss: 0.1465 - acc: 0.9379\n",
      "Epoch 39/80\n",
      "4/4 [==============================] - 0s 3ms/step - loss: 0.1361 - acc: 0.9390\n",
      "Epoch 40/80\n",
      "4/4 [==============================] - 0s 4ms/step - loss: 0.1475 - acc: 0.9332\n",
      "Epoch 41/80\n",
      "4/4 [==============================] - 0s 3ms/step - loss: 0.1505 - acc: 0.9289\n",
      "Epoch 42/80\n",
      "4/4 [==============================] - 0s 4ms/step - loss: 0.1178 - acc: 0.9513\n",
      "Epoch 43/80\n",
      "4/4 [==============================] - 0s 5ms/step - loss: 0.1465 - acc: 0.9289\n",
      "Epoch 44/80\n",
      "4/4 [==============================] - 0s 4ms/step - loss: 0.1241 - acc: 0.9419\n",
      "Epoch 45/80\n",
      "4/4 [==============================] - ETA: 0s - loss: 0.1576 - acc: 0.906 - 0s 3ms/step - loss: 0.1341 - acc: 0.9284\n",
      "Epoch 46/80\n",
      "4/4 [==============================] - 0s 4ms/step - loss: 0.1145 - acc: 0.9409\n",
      "Epoch 47/80\n",
      "4/4 [==============================] - 0s 3ms/step - loss: 0.1130 - acc: 0.9464\n",
      "Epoch 48/80\n",
      "4/4 [==============================] - 0s 4ms/step - loss: 0.1275 - acc: 0.9395\n",
      "Epoch 49/80\n",
      "4/4 [==============================] - 0s 4ms/step - loss: 0.1137 - acc: 0.9436\n",
      "Epoch 50/80\n",
      "4/4 [==============================] - 0s 4ms/step - loss: 0.1113 - acc: 0.9389\n",
      "Epoch 51/80\n",
      "4/4 [==============================] - 0s 3ms/step - loss: 0.1141 - acc: 0.9455\n",
      "Epoch 52/80\n",
      "4/4 [==============================] - 0s 7ms/step - loss: 0.1091 - acc: 0.9436\n",
      "Epoch 53/80\n",
      "4/4 [==============================] - 0s 3ms/step - loss: 0.1060 - acc: 0.9497\n",
      "Epoch 54/80\n",
      "4/4 [==============================] - 0s 7ms/step - loss: 0.0879 - acc: 0.9606\n",
      "Epoch 55/80\n",
      "4/4 [==============================] - 0s 5ms/step - loss: 0.0977 - acc: 0.9532\n",
      "Epoch 56/80\n",
      "4/4 [==============================] - 0s 5ms/step - loss: 0.1028 - acc: 0.9561\n",
      "Epoch 57/80\n",
      "4/4 [==============================] - 0s 8ms/step - loss: 0.0905 - acc: 0.9665\n",
      "Epoch 58/80\n",
      "4/4 [==============================] - 0s 3ms/step - loss: 0.0889 - acc: 0.9705\n",
      "Epoch 59/80\n",
      "4/4 [==============================] - 0s 4ms/step - loss: 0.0898 - acc: 0.9636\n",
      "Epoch 60/80\n",
      "4/4 [==============================] - 0s 5ms/step - loss: 0.0764 - acc: 0.9792\n",
      "Epoch 61/80\n",
      "4/4 [==============================] - 0s 3ms/step - loss: 0.0793 - acc: 0.9756\n",
      "Epoch 62/80\n",
      "4/4 [==============================] - 0s 8ms/step - loss: 0.0850 - acc: 0.9696\n",
      "Epoch 63/80\n",
      "4/4 [==============================] - 0s 4ms/step - loss: 0.0753 - acc: 0.9754\n",
      "Epoch 64/80\n",
      "4/4 [==============================] - 0s 3ms/step - loss: 0.0773 - acc: 0.9846\n",
      "Epoch 65/80\n",
      "4/4 [==============================] - 0s 7ms/step - loss: 0.0773 - acc: 0.9773\n",
      "Epoch 66/80\n",
      "4/4 [==============================] - 0s 4ms/step - loss: 0.0792 - acc: 0.9681\n",
      "Epoch 67/80\n",
      "4/4 [==============================] - 0s 3ms/step - loss: 0.0685 - acc: 0.9835\n",
      "Epoch 68/80\n",
      "4/4 [==============================] - 0s 3ms/step - loss: 0.0660 - acc: 0.9820\n",
      "Epoch 69/80\n",
      "4/4 [==============================] - 0s 4ms/step - loss: 0.0707 - acc: 0.9783\n",
      "Epoch 70/80\n",
      "4/4 [==============================] - 0s 3ms/step - loss: 0.0601 - acc: 0.9860\n",
      "Epoch 71/80\n",
      "4/4 [==============================] - 0s 6ms/step - loss: 0.0618 - acc: 0.9742\n",
      "Epoch 72/80\n",
      "4/4 [==============================] - 0s 5ms/step - loss: 0.0555 - acc: 0.9872\n",
      "Epoch 73/80\n",
      "4/4 [==============================] - 0s 3ms/step - loss: 0.0609 - acc: 0.9818\n",
      "Epoch 74/80\n",
      "4/4 [==============================] - ETA: 0s - loss: 0.0891 - acc: 0.968 - 0s 4ms/step - loss: 0.0641 - acc: 0.9818\n",
      "Epoch 75/80\n",
      "4/4 [==============================] - 0s 4ms/step - loss: 0.0571 - acc: 0.9833\n",
      "Epoch 76/80\n",
      "4/4 [==============================] - 0s 3ms/step - loss: 0.0469 - acc: 0.9880\n",
      "Epoch 77/80\n",
      "4/4 [==============================] - 0s 4ms/step - loss: 0.0495 - acc: 0.9875\n",
      "Epoch 78/80\n",
      "4/4 [==============================] - 0s 5ms/step - loss: 0.0443 - acc: 0.9922\n",
      "Epoch 79/80\n",
      "4/4 [==============================] - 0s 4ms/step - loss: 0.0556 - acc: 0.9833\n",
      "Epoch 80/80\n",
      "4/4 [==============================] - 0s 5ms/step - loss: 0.0495 - acc: 0.9896\n",
      "Wall time: 3.32 s\n"
     ]
    }
   ],
   "source": [
    "from tensorflow.keras import models\n",
    "from tensorflow.keras import layers\n",
    "import tensorflow as tf\n",
    "network1 = models.Sequential()\n",
    "network1.add(layers.Dense(33,activation=\"relu\",input_shape=(len(train_data.columns),)))\n",
    "network1.add(layers.Dense(13,activation=\"relu\"))\n",
    "network1.add(layers.Dense(1,activation=\"sigmoid\"))\n",
    "network1.compile(optimizer='rmsprop',loss='binary_crossentropy',metrics=['acc'])\n",
    "with tf.device('/device:GPU:1'):\n",
    "  %time MODEL1 = network1.fit(train_data,train_labels, validation_split=0.,epochs=80,batch_size=64)"
   ]
  },
  {
   "cell_type": "markdown",
   "metadata": {
    "id": "2NZTu3pg1IO-"
   },
   "source": [
    "# **Training loss visualization**"
   ]
  },
  {
   "cell_type": "code",
   "execution_count": 17,
   "metadata": {
    "colab": {
     "base_uri": "https://localhost:8080/",
     "height": 295
    },
    "id": "5gmQ4jMqvbvO",
    "outputId": "3f4d2c84-f0b2-4419-f68b-008899319dd0"
   },
   "outputs": [
    {
     "data": {
      "image/png": "[encoded data removed]",
      "text/plain": [
       "<Figure size 432x288 with 1 Axes>"
      ]
     },
     "metadata": {
      "needs_background": "light"
     },
     "output_type": "display_data"
    }
   ],
   "source": [
    "history_dict = MODEL1.history\n",
    "acc_values = history_dict['loss']\n",
    "epoches = np.arange(1,len(history_dict['acc'])+1)\n",
    "plt.plot(epoches,acc_values,'r',label=\"Training Accuracy\")\n",
    "plt.title('Training loss')\n",
    "plt.xlabel(\"Epoches\")\n",
    "plt.ylabel(\"Accuracy\")\n",
    "plt.legend()\n",
    "plt.show()"
   ]
  },
  {
   "cell_type": "markdown",
   "metadata": {
    "id": "e5imVa-A1c9s"
   },
   "source": [
    "# **Evaluation Step**"
   ]
  },
  {
   "cell_type": "code",
   "execution_count": 18,
   "metadata": {
    "colab": {
     "base_uri": "https://localhost:8080/"
    },
    "id": "n40sn567tUhB",
    "outputId": "a8d9bc34-9172-43b2-98a3-3bcff5e71bef"
   },
   "outputs": [
    {
     "name": "stdout",
     "output_type": "stream",
     "text": [
      "5/5 [==============================] - 0s 3ms/step - loss: 0.0767 - acc: 0.9716\n"
     ]
    }
   ],
   "source": [
    "loss , acc = network1.evaluate(test_data,test_labels)"
   ]
  },
  {
   "cell_type": "markdown",
   "metadata": {
    "id": "TJTWugDN1hTZ"
   },
   "source": [
    "# **Predictions**"
   ]
  },
  {
   "cell_type": "code",
   "execution_count": 19,
   "metadata": {
    "id": "sJiWAhdWtC6o"
   },
   "outputs": [],
   "source": [
    "prediction_test_data = test_data\n",
    "predictions = network1.predict(prediction_test_data)"
   ]
  },
  {
   "cell_type": "code",
   "execution_count": 20,
   "metadata": {
    "colab": {
     "base_uri": "https://localhost:8080/"
    },
    "id": "uSwq41nKtIcV",
    "outputId": "ec4742f4-ef26-4e62-bd6c-d9ece37b49cc"
   },
   "outputs": [
    {
     "name": "stdout",
     "output_type": "stream",
     "text": [
      "Fanally Alhumdullah i got accuracy upto 97.16312289237976%\n"
     ]
    }
   ],
   "source": [
    "print(f\"Fanally Alhumdullah i got accuracy upto {acc*100}%\")"
   ]
  },
  {
   "cell_type": "code",
   "execution_count": 21,
   "metadata": {
    "id": "6u7OHEtwXHTz"
   },
   "outputs": [],
   "source": [
    "predictions = np.round(predictions)\n",
    "test_labels2 = test_labels"
   ]
  },
  {
   "cell_type": "code",
   "execution_count": 22,
   "metadata": {
    "colab": {
     "base_uri": "https://localhost:8080/"
    },
    "id": "HOgNOnYC10DR",
    "outputId": "c8f12f4b-70eb-4ea9-e754-63b464cf1840"
   },
   "outputs": [
    {
     "data": {
      "text/plain": [
       "<tf.Tensor: shape=(2, 2), dtype=int32, numpy=\n",
       "array([[116,   3],\n",
       "       [  1,  21]])>"
      ]
     },
     "execution_count": 22,
     "metadata": {},
     "output_type": "execute_result"
    }
   ],
   "source": [
    "tf.math.confusion_matrix(\n",
    "    test_labels2, predictions, num_classes=None, weights=None, dtype=tf.dtypes.int32,\n",
    "    name=None\n",
    ")"
   ]
  },
  {
   "cell_type": "code",
   "execution_count": 20,
   "metadata": {
    "id": "F8bNiPSu7MIm"
   },
   "outputs": [],
   "source": []
  }
 ],
 "metadata": {
  "accelerator": "GPU",
  "colab": {
   "collapsed_sections": [],
   "name": "Ionosphere_Assignment5.ipynb",
   "provenance": []
  },
  "kernelspec": {
   "display_name": "Python 3",
   "language": "python",
   "name": "python3"
  },
  "language_info": {
   "codemirror_mode": {
    "name": "ipython",
    "version": 3
   },
   "file_extension": ".py",
   "mimetype": "text/x-python",
   "name": "python",
   "nbconvert_exporter": "python",
   "pygments_lexer": "ipython3",
   "version": "3.9.4"
  }
 },
 "nbformat": 4,
 "nbformat_minor": 1
}
