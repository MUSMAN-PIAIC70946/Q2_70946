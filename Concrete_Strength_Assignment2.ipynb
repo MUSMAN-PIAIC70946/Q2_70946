{
  "nbformat": 4,
  "nbformat_minor": 0,
  "metadata": {
    "colab": {
      "name": "Concrete Strength Assignment2.ipynb",
      "provenance": [],
      "collapsed_sections": []
    },
    "kernelspec": {
      "display_name": "Python 3",
      "name": "python3"
    },
    "language_info": {
      "name": "python"
    }
  },
  "cells": [
    {
      "cell_type": "code",
      "metadata": {
        "id": "7sutBJ-Rh7xR"
      },
      "source": [
        "import pandas as pd\n",
        "import numpy as np\n",
        "import matplotlib.pyplot as plt\n",
        "import requests\n",
        "from io import StringIO"
      ],
      "execution_count": 51,
      "outputs": []
    },
    {
      "cell_type": "markdown",
      "metadata": {
        "id": "o_YiguYDopD1"
      },
      "source": [
        "# **Loading Data**"
      ]
    },
    {
      "cell_type": "code",
      "metadata": {
        "id": "_kmHMqFrilbu"
      },
      "source": [
        "data = pd.read_csv(\"https://raw.githubusercontent.com/ramsha275/ML_Datasets/main/compresive_strength_concrete.csv\")"
      ],
      "execution_count": 52,
      "outputs": []
    },
    {
      "cell_type": "code",
      "metadata": {
        "colab": {
          "base_uri": "https://localhost:8080/",
          "height": 459
        },
        "id": "WdJTxF2iH4Ah",
        "outputId": "8d1c1d42-4b13-488c-e703-57f76889834d"
      },
      "source": [
        "data"
      ],
      "execution_count": 53,
      "outputs": [
        {
          "output_type": "execute_result",
          "data": {
            "text/html": [
              "<div>\n",
              "<style scoped>\n",
              "    .dataframe tbody tr th:only-of-type {\n",
              "        vertical-align: middle;\n",
              "    }\n",
              "\n",
              "    .dataframe tbody tr th {\n",
              "        vertical-align: top;\n",
              "    }\n",
              "\n",
              "    .dataframe thead th {\n",
              "        text-align: right;\n",
              "    }\n",
              "</style>\n",
              "<table border=\"1\" class=\"dataframe\">\n",
              "  <thead>\n",
              "    <tr style=\"text-align: right;\">\n",
              "      <th></th>\n",
              "      <th>Cement (component 1)(kg in a m^3 mixture)</th>\n",
              "      <th>Blast Furnace Slag (component 2)(kg in a m^3 mixture)</th>\n",
              "      <th>Fly Ash (component 3)(kg in a m^3 mixture)</th>\n",
              "      <th>Water  (component 4)(kg in a m^3 mixture)</th>\n",
              "      <th>Superplasticizer (component 5)(kg in a m^3 mixture)</th>\n",
              "      <th>Coarse Aggregate  (component 6)(kg in a m^3 mixture)</th>\n",
              "      <th>Fine Aggregate (component 7)(kg in a m^3 mixture)</th>\n",
              "      <th>Age (day)</th>\n",
              "      <th>Concrete compressive strength(MPa, megapascals)</th>\n",
              "    </tr>\n",
              "  </thead>\n",
              "  <tbody>\n",
              "    <tr>\n",
              "      <th>0</th>\n",
              "      <td>540.0</td>\n",
              "      <td>0.0</td>\n",
              "      <td>0.0</td>\n",
              "      <td>162.0</td>\n",
              "      <td>2.5</td>\n",
              "      <td>1040.0</td>\n",
              "      <td>676.0</td>\n",
              "      <td>28</td>\n",
              "      <td>79.99</td>\n",
              "    </tr>\n",
              "    <tr>\n",
              "      <th>1</th>\n",
              "      <td>540.0</td>\n",
              "      <td>0.0</td>\n",
              "      <td>0.0</td>\n",
              "      <td>162.0</td>\n",
              "      <td>2.5</td>\n",
              "      <td>1055.0</td>\n",
              "      <td>676.0</td>\n",
              "      <td>28</td>\n",
              "      <td>61.89</td>\n",
              "    </tr>\n",
              "    <tr>\n",
              "      <th>2</th>\n",
              "      <td>332.5</td>\n",
              "      <td>142.5</td>\n",
              "      <td>0.0</td>\n",
              "      <td>228.0</td>\n",
              "      <td>0.0</td>\n",
              "      <td>932.0</td>\n",
              "      <td>594.0</td>\n",
              "      <td>270</td>\n",
              "      <td>40.27</td>\n",
              "    </tr>\n",
              "    <tr>\n",
              "      <th>3</th>\n",
              "      <td>332.5</td>\n",
              "      <td>142.5</td>\n",
              "      <td>0.0</td>\n",
              "      <td>228.0</td>\n",
              "      <td>0.0</td>\n",
              "      <td>932.0</td>\n",
              "      <td>594.0</td>\n",
              "      <td>365</td>\n",
              "      <td>41.05</td>\n",
              "    </tr>\n",
              "    <tr>\n",
              "      <th>4</th>\n",
              "      <td>198.6</td>\n",
              "      <td>132.4</td>\n",
              "      <td>0.0</td>\n",
              "      <td>192.0</td>\n",
              "      <td>0.0</td>\n",
              "      <td>978.4</td>\n",
              "      <td>825.5</td>\n",
              "      <td>360</td>\n",
              "      <td>44.30</td>\n",
              "    </tr>\n",
              "    <tr>\n",
              "      <th>...</th>\n",
              "      <td>...</td>\n",
              "      <td>...</td>\n",
              "      <td>...</td>\n",
              "      <td>...</td>\n",
              "      <td>...</td>\n",
              "      <td>...</td>\n",
              "      <td>...</td>\n",
              "      <td>...</td>\n",
              "      <td>...</td>\n",
              "    </tr>\n",
              "    <tr>\n",
              "      <th>1025</th>\n",
              "      <td>276.4</td>\n",
              "      <td>116.0</td>\n",
              "      <td>90.3</td>\n",
              "      <td>179.6</td>\n",
              "      <td>8.9</td>\n",
              "      <td>870.1</td>\n",
              "      <td>768.3</td>\n",
              "      <td>28</td>\n",
              "      <td>44.28</td>\n",
              "    </tr>\n",
              "    <tr>\n",
              "      <th>1026</th>\n",
              "      <td>322.2</td>\n",
              "      <td>0.0</td>\n",
              "      <td>115.6</td>\n",
              "      <td>196.0</td>\n",
              "      <td>10.4</td>\n",
              "      <td>817.9</td>\n",
              "      <td>813.4</td>\n",
              "      <td>28</td>\n",
              "      <td>31.18</td>\n",
              "    </tr>\n",
              "    <tr>\n",
              "      <th>1027</th>\n",
              "      <td>148.5</td>\n",
              "      <td>139.4</td>\n",
              "      <td>108.6</td>\n",
              "      <td>192.7</td>\n",
              "      <td>6.1</td>\n",
              "      <td>892.4</td>\n",
              "      <td>780.0</td>\n",
              "      <td>28</td>\n",
              "      <td>23.70</td>\n",
              "    </tr>\n",
              "    <tr>\n",
              "      <th>1028</th>\n",
              "      <td>159.1</td>\n",
              "      <td>186.7</td>\n",
              "      <td>0.0</td>\n",
              "      <td>175.6</td>\n",
              "      <td>11.3</td>\n",
              "      <td>989.6</td>\n",
              "      <td>788.9</td>\n",
              "      <td>28</td>\n",
              "      <td>32.77</td>\n",
              "    </tr>\n",
              "    <tr>\n",
              "      <th>1029</th>\n",
              "      <td>260.9</td>\n",
              "      <td>100.5</td>\n",
              "      <td>78.3</td>\n",
              "      <td>200.6</td>\n",
              "      <td>8.6</td>\n",
              "      <td>864.5</td>\n",
              "      <td>761.5</td>\n",
              "      <td>28</td>\n",
              "      <td>32.40</td>\n",
              "    </tr>\n",
              "  </tbody>\n",
              "</table>\n",
              "<p>1030 rows × 9 columns</p>\n",
              "</div>"
            ],
            "text/plain": [
              "      Cement (component 1)(kg in a m^3 mixture)  ...  Concrete compressive strength(MPa, megapascals) \n",
              "0                                         540.0  ...                                             79.99\n",
              "1                                         540.0  ...                                             61.89\n",
              "2                                         332.5  ...                                             40.27\n",
              "3                                         332.5  ...                                             41.05\n",
              "4                                         198.6  ...                                             44.30\n",
              "...                                         ...  ...                                               ...\n",
              "1025                                      276.4  ...                                             44.28\n",
              "1026                                      322.2  ...                                             31.18\n",
              "1027                                      148.5  ...                                             23.70\n",
              "1028                                      159.1  ...                                             32.77\n",
              "1029                                      260.9  ...                                             32.40\n",
              "\n",
              "[1030 rows x 9 columns]"
            ]
          },
          "metadata": {
            "tags": []
          },
          "execution_count": 53
        }
      ]
    },
    {
      "cell_type": "markdown",
      "metadata": {
        "id": "9z1Rr14HE6dv"
      },
      "source": [
        "# **Shuffling Data**"
      ]
    },
    {
      "cell_type": "code",
      "metadata": {
        "colab": {
          "base_uri": "https://localhost:8080/",
          "height": 459
        },
        "id": "qxKns-j-ISwA",
        "outputId": "6cb98406-fe6e-497d-af3c-8d0ebe7df0a6"
      },
      "source": [
        "data = data.sample(frac=1).reset_index(drop=True)\n",
        "data"
      ],
      "execution_count": 54,
      "outputs": [
        {
          "output_type": "execute_result",
          "data": {
            "text/html": [
              "<div>\n",
              "<style scoped>\n",
              "    .dataframe tbody tr th:only-of-type {\n",
              "        vertical-align: middle;\n",
              "    }\n",
              "\n",
              "    .dataframe tbody tr th {\n",
              "        vertical-align: top;\n",
              "    }\n",
              "\n",
              "    .dataframe thead th {\n",
              "        text-align: right;\n",
              "    }\n",
              "</style>\n",
              "<table border=\"1\" class=\"dataframe\">\n",
              "  <thead>\n",
              "    <tr style=\"text-align: right;\">\n",
              "      <th></th>\n",
              "      <th>Cement (component 1)(kg in a m^3 mixture)</th>\n",
              "      <th>Blast Furnace Slag (component 2)(kg in a m^3 mixture)</th>\n",
              "      <th>Fly Ash (component 3)(kg in a m^3 mixture)</th>\n",
              "      <th>Water  (component 4)(kg in a m^3 mixture)</th>\n",
              "      <th>Superplasticizer (component 5)(kg in a m^3 mixture)</th>\n",
              "      <th>Coarse Aggregate  (component 6)(kg in a m^3 mixture)</th>\n",
              "      <th>Fine Aggregate (component 7)(kg in a m^3 mixture)</th>\n",
              "      <th>Age (day)</th>\n",
              "      <th>Concrete compressive strength(MPa, megapascals)</th>\n",
              "    </tr>\n",
              "  </thead>\n",
              "  <tbody>\n",
              "    <tr>\n",
              "      <th>0</th>\n",
              "      <td>186.2</td>\n",
              "      <td>124.1</td>\n",
              "      <td>0.0</td>\n",
              "      <td>185.7</td>\n",
              "      <td>0.0</td>\n",
              "      <td>1083.4</td>\n",
              "      <td>764.3</td>\n",
              "      <td>7</td>\n",
              "      <td>8.00</td>\n",
              "    </tr>\n",
              "    <tr>\n",
              "      <th>1</th>\n",
              "      <td>310.0</td>\n",
              "      <td>0.0</td>\n",
              "      <td>0.0</td>\n",
              "      <td>192.0</td>\n",
              "      <td>0.0</td>\n",
              "      <td>970.0</td>\n",
              "      <td>850.0</td>\n",
              "      <td>7</td>\n",
              "      <td>14.99</td>\n",
              "    </tr>\n",
              "    <tr>\n",
              "      <th>2</th>\n",
              "      <td>233.8</td>\n",
              "      <td>0.0</td>\n",
              "      <td>94.6</td>\n",
              "      <td>197.9</td>\n",
              "      <td>4.6</td>\n",
              "      <td>947.0</td>\n",
              "      <td>852.2</td>\n",
              "      <td>100</td>\n",
              "      <td>34.56</td>\n",
              "    </tr>\n",
              "    <tr>\n",
              "      <th>3</th>\n",
              "      <td>393.0</td>\n",
              "      <td>0.0</td>\n",
              "      <td>0.0</td>\n",
              "      <td>192.0</td>\n",
              "      <td>0.0</td>\n",
              "      <td>940.6</td>\n",
              "      <td>785.6</td>\n",
              "      <td>3</td>\n",
              "      <td>19.20</td>\n",
              "    </tr>\n",
              "    <tr>\n",
              "      <th>4</th>\n",
              "      <td>349.0</td>\n",
              "      <td>0.0</td>\n",
              "      <td>0.0</td>\n",
              "      <td>192.0</td>\n",
              "      <td>0.0</td>\n",
              "      <td>1047.0</td>\n",
              "      <td>806.9</td>\n",
              "      <td>3</td>\n",
              "      <td>15.05</td>\n",
              "    </tr>\n",
              "    <tr>\n",
              "      <th>...</th>\n",
              "      <td>...</td>\n",
              "      <td>...</td>\n",
              "      <td>...</td>\n",
              "      <td>...</td>\n",
              "      <td>...</td>\n",
              "      <td>...</td>\n",
              "      <td>...</td>\n",
              "      <td>...</td>\n",
              "      <td>...</td>\n",
              "    </tr>\n",
              "    <tr>\n",
              "      <th>1025</th>\n",
              "      <td>202.0</td>\n",
              "      <td>11.0</td>\n",
              "      <td>141.0</td>\n",
              "      <td>206.0</td>\n",
              "      <td>1.7</td>\n",
              "      <td>942.0</td>\n",
              "      <td>801.0</td>\n",
              "      <td>7</td>\n",
              "      <td>15.07</td>\n",
              "    </tr>\n",
              "    <tr>\n",
              "      <th>1026</th>\n",
              "      <td>251.8</td>\n",
              "      <td>0.0</td>\n",
              "      <td>99.9</td>\n",
              "      <td>146.1</td>\n",
              "      <td>12.4</td>\n",
              "      <td>1006.0</td>\n",
              "      <td>899.8</td>\n",
              "      <td>56</td>\n",
              "      <td>44.14</td>\n",
              "    </tr>\n",
              "    <tr>\n",
              "      <th>1027</th>\n",
              "      <td>133.1</td>\n",
              "      <td>210.2</td>\n",
              "      <td>0.0</td>\n",
              "      <td>195.7</td>\n",
              "      <td>3.1</td>\n",
              "      <td>949.4</td>\n",
              "      <td>795.3</td>\n",
              "      <td>28</td>\n",
              "      <td>28.94</td>\n",
              "    </tr>\n",
              "    <tr>\n",
              "      <th>1028</th>\n",
              "      <td>531.3</td>\n",
              "      <td>0.0</td>\n",
              "      <td>0.0</td>\n",
              "      <td>141.8</td>\n",
              "      <td>28.2</td>\n",
              "      <td>852.1</td>\n",
              "      <td>893.7</td>\n",
              "      <td>3</td>\n",
              "      <td>41.30</td>\n",
              "    </tr>\n",
              "    <tr>\n",
              "      <th>1029</th>\n",
              "      <td>425.0</td>\n",
              "      <td>106.3</td>\n",
              "      <td>0.0</td>\n",
              "      <td>151.4</td>\n",
              "      <td>18.6</td>\n",
              "      <td>936.0</td>\n",
              "      <td>803.7</td>\n",
              "      <td>56</td>\n",
              "      <td>64.90</td>\n",
              "    </tr>\n",
              "  </tbody>\n",
              "</table>\n",
              "<p>1030 rows × 9 columns</p>\n",
              "</div>"
            ],
            "text/plain": [
              "      Cement (component 1)(kg in a m^3 mixture)  ...  Concrete compressive strength(MPa, megapascals) \n",
              "0                                         186.2  ...                                              8.00\n",
              "1                                         310.0  ...                                             14.99\n",
              "2                                         233.8  ...                                             34.56\n",
              "3                                         393.0  ...                                             19.20\n",
              "4                                         349.0  ...                                             15.05\n",
              "...                                         ...  ...                                               ...\n",
              "1025                                      202.0  ...                                             15.07\n",
              "1026                                      251.8  ...                                             44.14\n",
              "1027                                      133.1  ...                                             28.94\n",
              "1028                                      531.3  ...                                             41.30\n",
              "1029                                      425.0  ...                                             64.90\n",
              "\n",
              "[1030 rows x 9 columns]"
            ]
          },
          "metadata": {
            "tags": []
          },
          "execution_count": 54
        }
      ]
    },
    {
      "cell_type": "markdown",
      "metadata": {
        "id": "ZwtkOdvVoh_d"
      },
      "source": [
        "# **Checking MIssing Values**"
      ]
    },
    {
      "cell_type": "code",
      "metadata": {
        "colab": {
          "base_uri": "https://localhost:8080/"
        },
        "id": "FtRCABzMir49",
        "outputId": "c1de1fa5-1464-49f3-af0f-29c4ffc90569"
      },
      "source": [
        "data.isnull().any()"
      ],
      "execution_count": 55,
      "outputs": [
        {
          "output_type": "execute_result",
          "data": {
            "text/plain": [
              "Cement (component 1)(kg in a m^3 mixture)                False\n",
              "Blast Furnace Slag (component 2)(kg in a m^3 mixture)    False\n",
              "Fly Ash (component 3)(kg in a m^3 mixture)               False\n",
              "Water  (component 4)(kg in a m^3 mixture)                False\n",
              "Superplasticizer (component 5)(kg in a m^3 mixture)      False\n",
              "Coarse Aggregate  (component 6)(kg in a m^3 mixture)     False\n",
              "Fine Aggregate (component 7)(kg in a m^3 mixture)        False\n",
              "Age (day)                                                False\n",
              "Concrete compressive strength(MPa, megapascals)          False\n",
              "dtype: bool"
            ]
          },
          "metadata": {
            "tags": []
          },
          "execution_count": 55
        }
      ]
    },
    {
      "cell_type": "markdown",
      "metadata": {
        "id": "ROO9h_L2oz9v"
      },
      "source": [
        "# **Standardized the Input Variables. Hint: Centeralized the data**"
      ]
    },
    {
      "cell_type": "code",
      "metadata": {
        "colab": {
          "base_uri": "https://localhost:8080/"
        },
        "id": "0jdXak4wWJKn",
        "outputId": "aed9c5f8-7a3f-4c7b-8daa-01e0dc745a90"
      },
      "source": [
        "labels_mean = np.mean(data['Concrete compressive strength(MPa, megapascals) '])\n",
        "labels_std = np.std(data['Concrete compressive strength(MPa, megapascals) '])\n",
        "labels_mean"
      ],
      "execution_count": 56,
      "outputs": [
        {
          "output_type": "execute_result",
          "data": {
            "text/plain": [
              "35.81796116504856"
            ]
          },
          "metadata": {
            "tags": []
          },
          "execution_count": 56
        }
      ]
    },
    {
      "cell_type": "code",
      "metadata": {
        "id": "JQ1kaamqofIu"
      },
      "source": [
        "for col in data.columns:\n",
        "  data[col] -= np.mean(data[col])\n",
        "  data[col] /= np.std(data[col])\n"
      ],
      "execution_count": 57,
      "outputs": []
    },
    {
      "cell_type": "code",
      "metadata": {
        "colab": {
          "base_uri": "https://localhost:8080/"
        },
        "id": "r0TISWcwJj2j",
        "outputId": "2ca9389c-2068-4aae-83e0-37e981d94cfb"
      },
      "source": [
        "print(data.head())"
      ],
      "execution_count": 58,
      "outputs": [
        {
          "output_type": "stream",
          "text": [
            "   Cement (component 1)(kg in a m^3 mixture)  ...  Concrete compressive strength(MPa, megapascals) \n",
            "0                                  -0.909169  ...                                         -1.665983\n",
            "1                                   0.276023  ...                                         -1.247360\n",
            "2                                  -0.453474  ...                                         -0.075338\n",
            "3                                   1.070619  ...                                         -0.995229\n",
            "4                                   0.649387  ...                                         -1.243767\n",
            "\n",
            "[5 rows x 9 columns]\n"
          ],
          "name": "stdout"
        }
      ]
    },
    {
      "cell_type": "markdown",
      "metadata": {
        "id": "wIHHDQRWpm6N"
      },
      "source": [
        "# **Split into 70% Training(Samples,Labels) , 30% Test(Samples,Labels)** "
      ]
    },
    {
      "cell_type": "code",
      "metadata": {
        "colab": {
          "base_uri": "https://localhost:8080/",
          "height": 426
        },
        "id": "NurGIPDhpXlP",
        "outputId": "8f03c955-236d-4e6c-a581-8a53fbaf30f9"
      },
      "source": [
        "data.describe()"
      ],
      "execution_count": 59,
      "outputs": [
        {
          "output_type": "execute_result",
          "data": {
            "text/html": [
              "<div>\n",
              "<style scoped>\n",
              "    .dataframe tbody tr th:only-of-type {\n",
              "        vertical-align: middle;\n",
              "    }\n",
              "\n",
              "    .dataframe tbody tr th {\n",
              "        vertical-align: top;\n",
              "    }\n",
              "\n",
              "    .dataframe thead th {\n",
              "        text-align: right;\n",
              "    }\n",
              "</style>\n",
              "<table border=\"1\" class=\"dataframe\">\n",
              "  <thead>\n",
              "    <tr style=\"text-align: right;\">\n",
              "      <th></th>\n",
              "      <th>Cement (component 1)(kg in a m^3 mixture)</th>\n",
              "      <th>Blast Furnace Slag (component 2)(kg in a m^3 mixture)</th>\n",
              "      <th>Fly Ash (component 3)(kg in a m^3 mixture)</th>\n",
              "      <th>Water  (component 4)(kg in a m^3 mixture)</th>\n",
              "      <th>Superplasticizer (component 5)(kg in a m^3 mixture)</th>\n",
              "      <th>Coarse Aggregate  (component 6)(kg in a m^3 mixture)</th>\n",
              "      <th>Fine Aggregate (component 7)(kg in a m^3 mixture)</th>\n",
              "      <th>Age (day)</th>\n",
              "      <th>Concrete compressive strength(MPa, megapascals)</th>\n",
              "    </tr>\n",
              "  </thead>\n",
              "  <tbody>\n",
              "    <tr>\n",
              "      <th>count</th>\n",
              "      <td>1.030000e+03</td>\n",
              "      <td>1.030000e+03</td>\n",
              "      <td>1.030000e+03</td>\n",
              "      <td>1.030000e+03</td>\n",
              "      <td>1.030000e+03</td>\n",
              "      <td>1.030000e+03</td>\n",
              "      <td>1.030000e+03</td>\n",
              "      <td>1.030000e+03</td>\n",
              "      <td>1.030000e+03</td>\n",
              "    </tr>\n",
              "    <tr>\n",
              "      <th>mean</th>\n",
              "      <td>2.295683e-15</td>\n",
              "      <td>-8.542250e-17</td>\n",
              "      <td>6.682896e-18</td>\n",
              "      <td>1.146009e-15</td>\n",
              "      <td>-5.389432e-17</td>\n",
              "      <td>7.991504e-15</td>\n",
              "      <td>9.314556e-16</td>\n",
              "      <td>-9.620136e-17</td>\n",
              "      <td>-8.685609e-16</td>\n",
              "    </tr>\n",
              "    <tr>\n",
              "      <th>std</th>\n",
              "      <td>1.000486e+00</td>\n",
              "      <td>1.000486e+00</td>\n",
              "      <td>1.000486e+00</td>\n",
              "      <td>1.000486e+00</td>\n",
              "      <td>1.000486e+00</td>\n",
              "      <td>1.000486e+00</td>\n",
              "      <td>1.000486e+00</td>\n",
              "      <td>1.000486e+00</td>\n",
              "      <td>1.000486e+00</td>\n",
              "    </tr>\n",
              "    <tr>\n",
              "      <th>min</th>\n",
              "      <td>-1.715253e+00</td>\n",
              "      <td>-8.568879e-01</td>\n",
              "      <td>-8.471439e-01</td>\n",
              "      <td>-2.800211e+00</td>\n",
              "      <td>-1.039143e+00</td>\n",
              "      <td>-2.212138e+00</td>\n",
              "      <td>-2.240917e+00</td>\n",
              "      <td>-7.073594e-01</td>\n",
              "      <td>-2.005552e+00</td>\n",
              "    </tr>\n",
              "    <tr>\n",
              "      <th>25%</th>\n",
              "      <td>-8.500535e-01</td>\n",
              "      <td>-8.568879e-01</td>\n",
              "      <td>-8.471439e-01</td>\n",
              "      <td>-7.808939e-01</td>\n",
              "      <td>-1.039143e+00</td>\n",
              "      <td>-5.265174e-01</td>\n",
              "      <td>-5.319697e-01</td>\n",
              "      <td>-6.123314e-01</td>\n",
              "      <td>-7.251305e-01</td>\n",
              "    </tr>\n",
              "    <tr>\n",
              "      <th>50%</th>\n",
              "      <td>-7.915193e-02</td>\n",
              "      <td>-6.017783e-01</td>\n",
              "      <td>-8.471439e-01</td>\n",
              "      <td>1.608294e-01</td>\n",
              "      <td>3.271508e-02</td>\n",
              "      <td>-6.329352e-02</td>\n",
              "      <td>7.386739e-02</td>\n",
              "      <td>-2.797331e-01</td>\n",
              "      <td>-8.222491e-02</td>\n",
              "    </tr>\n",
              "    <tr>\n",
              "      <th>75%</th>\n",
              "      <td>6.589606e-01</td>\n",
              "      <td>8.007446e-01</td>\n",
              "      <td>1.002278e+00</td>\n",
              "      <td>4.887927e-01</td>\n",
              "      <td>6.691307e-01</td>\n",
              "      <td>7.267605e-01</td>\n",
              "      <td>6.291661e-01</td>\n",
              "      <td>1.637312e-01</td>\n",
              "      <td>6.178744e-01</td>\n",
              "    </tr>\n",
              "    <tr>\n",
              "      <th>max</th>\n",
              "      <td>2.477915e+00</td>\n",
              "      <td>3.310675e+00</td>\n",
              "      <td>2.281084e+00</td>\n",
              "      <td>3.065647e+00</td>\n",
              "      <td>4.353642e+00</td>\n",
              "      <td>2.214224e+00</td>\n",
              "      <td>2.733062e+00</td>\n",
              "      <td>5.057677e+00</td>\n",
              "      <td>2.801717e+00</td>\n",
              "    </tr>\n",
              "  </tbody>\n",
              "</table>\n",
              "</div>"
            ],
            "text/plain": [
              "       Cement (component 1)(kg in a m^3 mixture)  ...  Concrete compressive strength(MPa, megapascals) \n",
              "count                               1.030000e+03  ...                                      1.030000e+03\n",
              "mean                                2.295683e-15  ...                                     -8.685609e-16\n",
              "std                                 1.000486e+00  ...                                      1.000486e+00\n",
              "min                                -1.715253e+00  ...                                     -2.005552e+00\n",
              "25%                                -8.500535e-01  ...                                     -7.251305e-01\n",
              "50%                                -7.915193e-02  ...                                     -8.222491e-02\n",
              "75%                                 6.589606e-01  ...                                      6.178744e-01\n",
              "max                                 2.477915e+00  ...                                      2.801717e+00\n",
              "\n",
              "[8 rows x 9 columns]"
            ]
          },
          "metadata": {
            "tags": []
          },
          "execution_count": 59
        }
      ]
    },
    {
      "cell_type": "code",
      "metadata": {
        "id": "xgS9hqMcpgPe"
      },
      "source": [
        "labels = data.pop('Concrete compressive strength(MPa, megapascals) ')"
      ],
      "execution_count": 60,
      "outputs": []
    },
    {
      "cell_type": "code",
      "metadata": {
        "id": "9xSaqxwIqhYu"
      },
      "source": [
        "data_len = len(data)\n",
        "train_data = data.iloc[:data_len*70//100]\n",
        "test_data = data.iloc[data_len*70//100:]\n",
        "\n",
        "labels_len = len(labels)\n",
        "train_labels = labels.iloc[:labels_len*70//100]\n",
        "test_labels = labels.iloc[labels_len*70//100:]"
      ],
      "execution_count": 61,
      "outputs": []
    },
    {
      "cell_type": "markdown",
      "metadata": {
        "id": "31L4lppEsPFH"
      },
      "source": [
        "# **Model : input Layer (No. of features ), 3 hidden layers including 10,8,6 unit & Output Layer with activation function relu/tanh (check by experiment).**"
      ]
    },
    {
      "cell_type": "code",
      "metadata": {
        "id": "-io-yW8irr0X"
      },
      "source": [
        "from tensorflow.keras import models\n",
        "from tensorflow.keras import layers\n",
        "def Train_Me_with_10_8_6_node(activation_function=\"relu\"):\n",
        "  network = models.Sequential()\n",
        "  network.add(layers.Dense(10, activation=activation_function,input_shape=(train_data.shape[1],)))\n",
        "  network.add(layers.Dense(8, activation=activation_function))\n",
        "  network.add(layers.Dense(6, activation=activation_function))\n",
        "  network.add(layers.Dense(1,activation=activation_function))\n",
        "  network.compile(\n",
        "      optimizer=\"rmsprop\",\n",
        "      loss=\"mse\",\n",
        "      metrics=['mae']\n",
        "  )\n",
        "  return network"
      ],
      "execution_count": 62,
      "outputs": []
    },
    {
      "cell_type": "code",
      "metadata": {
        "id": "GcZ770JpvwYL"
      },
      "source": [
        "from tensorflow.keras import models\n",
        "from tensorflow.keras import layers\n",
        "def Train_Me_with_10_8_6_node_without_act_func_output(activation_function=\"relu\"):\n",
        "  network = models.Sequential()\n",
        "  network.add(layers.Dense(10, activation=activation_function,input_shape=(train_data.shape[1],)))\n",
        "  network.add(layers.Dense(8, activation=activation_function))\n",
        "  network.add(layers.Dense(6, activation=activation_function))\n",
        "  network.add(layers.Dense(1))\n",
        "  network.compile(\n",
        "      optimizer=\"rmsprop\",\n",
        "      loss=\"mse\",\n",
        "      metrics=['mae']\n",
        "  )\n",
        "  return network"
      ],
      "execution_count": 63,
      "outputs": []
    },
    {
      "cell_type": "code",
      "metadata": {
        "id": "vkVtbY1gsDk8"
      },
      "source": [
        "from tensorflow.keras import models\n",
        "from tensorflow.keras import layers\n",
        "def Train_Me_with_8_6_4_node(activation_function=\"relu\"):\n",
        "  network = models.Sequential()\n",
        "  network.add(layers.Dense(8, activation=activation_function,input_shape=(train_data.shape[1],)))\n",
        "  network.add(layers.Dense(6, activation=activation_function))\n",
        "  network.add(layers.Dense(4, activation=activation_function))\n",
        "  network.add(layers.Dense(1))\n",
        "  network.compile(\n",
        "      optimizer=\"rmsprop\",\n",
        "      loss=\"mse\",\n",
        "      metrics=['mae']\n",
        "  )\n",
        "  return network"
      ],
      "execution_count": 64,
      "outputs": []
    },
    {
      "cell_type": "code",
      "metadata": {
        "id": "_0KETF1xwUZR"
      },
      "source": [
        "from tensorflow.keras import models\n",
        "from tensorflow.keras import layers\n",
        "def Train_Me_with_8_6_4_node_without_act_func_output(activation_function=\"relu\"):\n",
        "  network = models.Sequential()\n",
        "  network.add(layers.Dense(8, activation=activation_function,input_shape=(train_data.shape[1],)))\n",
        "  network.add(layers.Dense(6, activation=activation_function))\n",
        "  network.add(layers.Dense(4, activation=activation_function))\n",
        "  network.add(layers.Dense(1))\n",
        "  network.compile(\n",
        "      optimizer=\"rmsprop\",\n",
        "      loss=\"mse\",\n",
        "      metrics=['mae']\n",
        "  )\n",
        "  return network"
      ],
      "execution_count": 65,
      "outputs": []
    },
    {
      "cell_type": "markdown",
      "metadata": {
        "id": "FpDXvOm_uw1R"
      },
      "source": [
        "# **Training Model with activation function tanh with node 10 8 6 with tanh in output layer**"
      ]
    },
    {
      "cell_type": "code",
      "metadata": {
        "colab": {
          "base_uri": "https://localhost:8080/",
          "height": 313
        },
        "id": "tyHycrVbtkU1",
        "outputId": "a033bae9-83f4-4f0d-886e-067f4c2e6c2e"
      },
      "source": [
        "Model_Results1 = Train_Me_with_10_8_6_node(activation_function=\"tanh\").fit(\n",
        "      train_data,train_labels,batch_size=32,epochs=100,validation_data=(test_data,test_labels),verbose=0\n",
        "  )\n",
        "history_dict = Model_Results1.history\n",
        "mae_values = history_dict['mae']\n",
        "val_mae_values = history_dict['val_mae']\n",
        "epoches = np.arange(1,len(history_dict['mae'])+1)\n",
        "plt.plot(epoches,mae_values,'r',label=\"Training Mae\")\n",
        "plt.plot(epoches,val_mae_values,'g',label=\"Validating Mae\")\n",
        "plt.title('Training and validation Mae')\n",
        "plt.xlabel(\"Epoches\")\n",
        "plt.ylabel(\"Mae\")\n",
        "plt.legend()\n",
        "plt.show()\n",
        "history_dict = Model_Results1.history\n",
        "val_acc_values = history_dict['val_mae']\n",
        "maxi = np.max(val_acc_values)\n",
        "j = 0\n",
        "for x,y in enumerate(val_acc_values):\n",
        "  if maxi >= y:\n",
        "    maxi = y\n",
        "    j = x\n",
        "print(f\"FOR MODEL1 Minimum Absolute Error = {maxi} at index {j}\")"
      ],
      "execution_count": 66,
      "outputs": [
        {
          "output_type": "display_data",
          "data": {
            "image/png": "[encoded data removed]",
            "text/plain": [
              "<Figure size 432x288 with 1 Axes>"
            ]
          },
          "metadata": {
            "tags": [],
            "needs_background": "light"
          }
        },
        {
          "output_type": "stream",
          "text": [
            "FOR MODEL1 Minimum Absolute Error = 0.3898472785949707 at index 99\n"
          ],
          "name": "stdout"
        }
      ]
    },
    {
      "cell_type": "markdown",
      "metadata": {
        "id": "3FT3cC5LvTlF"
      },
      "source": [
        "# **Training Model with activation function relu with node 10 8 6 with relu in output layer**"
      ]
    },
    {
      "cell_type": "code",
      "metadata": {
        "colab": {
          "base_uri": "https://localhost:8080/",
          "height": 313
        },
        "id": "J5fvqZs0vSBb",
        "outputId": "03f66c7c-6d26-4569-8400-d8ebe8904323"
      },
      "source": [
        "Model_Results2 = Train_Me_with_10_8_6_node(activation_function=\"relu\").fit(\n",
        "      train_data,train_labels,batch_size=32,epochs=100,validation_data=(test_data,test_labels),verbose=0\n",
        "  )\n",
        "history_dict = Model_Results2.history\n",
        "mae_values = history_dict['mae']\n",
        "val_mae_values = history_dict['val_mae']\n",
        "epoches = np.arange(1,len(history_dict['mae'])+1)\n",
        "plt.plot(epoches,mae_values,'r',label=\"Training Mae\")\n",
        "plt.plot(epoches,val_mae_values,'g',label=\"Validating Mae\")\n",
        "plt.title('Training and validation Mae')\n",
        "plt.xlabel(\"Epoches\")\n",
        "plt.ylabel(\"Mae\")\n",
        "plt.legend()\n",
        "plt.show()\n",
        "history_dict = Model_Results2.history\n",
        "val_acc_values = history_dict['val_mae']\n",
        "maxi = np.max(val_acc_values)\n",
        "j = 0\n",
        "for x,y in enumerate(val_acc_values):\n",
        "  if maxi >= y:\n",
        "    maxi = y\n",
        "    j = x\n",
        "print(f\"FOR MODEL1 Minimum Absolute Error = {maxi} at index {j}\")"
      ],
      "execution_count": 67,
      "outputs": [
        {
          "output_type": "display_data",
          "data": {
            "image/png": "[encoded data removed]",
            "text/plain": [
              "<Figure size 432x288 with 1 Axes>"
            ]
          },
          "metadata": {
            "tags": [],
            "needs_background": "light"
          }
        },
        {
          "output_type": "stream",
          "text": [
            "FOR MODEL1 Minimum Absolute Error = 0.5901369452476501 at index 94\n"
          ],
          "name": "stdout"
        }
      ]
    },
    {
      "cell_type": "markdown",
      "metadata": {
        "id": "JqWX1mD7voxL"
      },
      "source": [
        "# **Training Model with activation function tanh with node 10 8 6 without tanh in output layer**"
      ]
    },
    {
      "cell_type": "code",
      "metadata": {
        "colab": {
          "base_uri": "https://localhost:8080/",
          "height": 313
        },
        "id": "r4xLCeMTw2vv",
        "outputId": "1e9d1349-a2d8-4b0c-9935-2cf1270b1eb0"
      },
      "source": [
        "Model_Results3 = Train_Me_with_10_8_6_node_without_act_func_output(activation_function=\"tanh\").fit(\n",
        "      train_data,train_labels,batch_size=32,epochs=100,validation_data=(test_data,test_labels),verbose=0\n",
        "  )\n",
        "history_dict = Model_Results3.history\n",
        "mae_values = history_dict['mae']\n",
        "val_mae_values = history_dict['val_mae']\n",
        "epoches = np.arange(1,len(history_dict['mae'])+1)\n",
        "plt.plot(epoches,mae_values,'r',label=\"Training Mae\")\n",
        "plt.plot(epoches,val_mae_values,'g',label=\"Validating Mae\")\n",
        "plt.title('Training and validation Mae')\n",
        "plt.xlabel(\"Epoches\")\n",
        "plt.ylabel(\"Mae\")\n",
        "plt.legend()\n",
        "plt.show()\n",
        "history_dict = Model_Results3.history\n",
        "val_acc_values = history_dict['val_mae']\n",
        "maxi = np.max(val_acc_values)\n",
        "j = 0\n",
        "for x,y in enumerate(val_acc_values):\n",
        "  if maxi >= y:\n",
        "    maxi = y\n",
        "    j = x\n",
        "print(f\"FOR MODEL1 Minimum Absolute Error = {maxi} at index {j}\")"
      ],
      "execution_count": 68,
      "outputs": [
        {
          "output_type": "display_data",
          "data": {
            "image/png": "[encoded data removed]",
            "text/plain": [
              "<Figure size 432x288 with 1 Axes>"
            ]
          },
          "metadata": {
            "tags": [],
            "needs_background": "light"
          }
        },
        {
          "output_type": "stream",
          "text": [
            "FOR MODEL1 Minimum Absolute Error = 0.2948044538497925 at index 99\n"
          ],
          "name": "stdout"
        }
      ]
    },
    {
      "cell_type": "markdown",
      "metadata": {
        "id": "uA1nW-tuwtVM"
      },
      "source": [
        "# **Training Model with activation function relu with node 10 8 6 without relu in output layer**"
      ]
    },
    {
      "cell_type": "code",
      "metadata": {
        "colab": {
          "base_uri": "https://localhost:8080/",
          "height": 313
        },
        "id": "Uj3VeGp4vm4l",
        "outputId": "334268cc-618d-476f-d7a8-8fc8d8e944b0"
      },
      "source": [
        "Model_Results4 = Train_Me_with_10_8_6_node_without_act_func_output(activation_function=\"relu\").fit(\n",
        "      train_data,train_labels,batch_size=32,epochs=100,validation_data=(test_data,test_labels),verbose=0\n",
        "  )\n",
        "history_dict = Model_Results4.history\n",
        "mae_values = history_dict['mae']\n",
        "val_mae_values = history_dict['val_mae']\n",
        "epoches = np.arange(1,len(history_dict['mae'])+1)\n",
        "plt.plot(epoches,mae_values,'r',label=\"Training Mae\")\n",
        "plt.plot(epoches,val_mae_values,'g',label=\"Validating Mae\")\n",
        "plt.title('Training and validation Mae')\n",
        "plt.xlabel(\"Epoches\")\n",
        "plt.ylabel(\"Mae\")\n",
        "plt.legend()\n",
        "plt.show()\n",
        "history_dict = Model_Results4.history\n",
        "val_acc_values = history_dict['val_mae']\n",
        "maxi = np.max(val_acc_values)\n",
        "j = 0\n",
        "for x,y in enumerate(val_acc_values):\n",
        "  if maxi >= y:\n",
        "    maxi = y\n",
        "    j = x\n",
        "print(f\"FOR MODEL1 Minimum Absolute Error = {maxi} at index {j}\")"
      ],
      "execution_count": 69,
      "outputs": [
        {
          "output_type": "display_data",
          "data": {
            "image/png": "[encoded data removed]",
            "text/plain": [
              "<Figure size 432x288 with 1 Axes>"
            ]
          },
          "metadata": {
            "tags": [],
            "needs_background": "light"
          }
        },
        {
          "output_type": "stream",
          "text": [
            "FOR MODEL1 Minimum Absolute Error = 0.3098066747188568 at index 99\n"
          ],
          "name": "stdout"
        }
      ]
    },
    {
      "cell_type": "markdown",
      "metadata": {
        "id": "Wdkf2MJ0xlgl"
      },
      "source": [
        "# **Training Model with activation function tanh with node 8 6 4 with tanh in output layer**"
      ]
    },
    {
      "cell_type": "code",
      "metadata": {
        "colab": {
          "base_uri": "https://localhost:8080/",
          "height": 313
        },
        "id": "Bkp3lMXWyIMo",
        "outputId": "9c53e113-d729-40db-b169-ccbd1963a451"
      },
      "source": [
        "Model_Results5 = Train_Me_with_8_6_4_node(activation_function=\"tanh\").fit(\n",
        "      train_data,train_labels,batch_size=32,epochs=100,validation_data=(test_data,test_labels),verbose=0\n",
        "  )\n",
        "history_dict = Model_Results5.history\n",
        "mae_values = history_dict['mae']\n",
        "val_mae_values = history_dict['val_mae']\n",
        "epoches = np.arange(1,len(history_dict['mae'])+1)\n",
        "plt.plot(epoches,mae_values,'r',label=\"Training Mae\")\n",
        "plt.plot(epoches,val_mae_values,'g',label=\"Validating Mae\")\n",
        "plt.title('Training and validation Mae')\n",
        "plt.xlabel(\"Epoches\")\n",
        "plt.ylabel(\"Mae\")\n",
        "plt.legend()\n",
        "plt.show()\n",
        "history_dict = Model_Results5.history\n",
        "val_acc_values = history_dict['val_mae']\n",
        "maxi = np.max(val_acc_values)\n",
        "j = 0\n",
        "for x,y in enumerate(val_acc_values):\n",
        "  if maxi >= y:\n",
        "    maxi = y\n",
        "    j = x\n",
        "print(f\"FOR MODEL1 Minimum Absolute Error = {maxi} at index {j}\")"
      ],
      "execution_count": 70,
      "outputs": [
        {
          "output_type": "display_data",
          "data": {
            "image/png": "[encoded data removed]",
            "text/plain": [
              "<Figure size 432x288 with 1 Axes>"
            ]
          },
          "metadata": {
            "tags": [],
            "needs_background": "light"
          }
        },
        {
          "output_type": "stream",
          "text": [
            "FOR MODEL1 Minimum Absolute Error = 0.2908425033092499 at index 95\n"
          ],
          "name": "stdout"
        }
      ]
    },
    {
      "cell_type": "markdown",
      "metadata": {
        "id": "Xf1Jmg-Ex3Dv"
      },
      "source": [
        "# **Training Model with activation function relu with node 8 6 4 with relu in output layer**"
      ]
    },
    {
      "cell_type": "code",
      "metadata": {
        "colab": {
          "base_uri": "https://localhost:8080/",
          "height": 313
        },
        "id": "1p_O4XXzyJmT",
        "outputId": "f447d0da-6195-42e5-97ff-52b61f418fa8"
      },
      "source": [
        "Model_Results6 = Train_Me_with_8_6_4_node(activation_function=\"relu\").fit(\n",
        "      train_data,train_labels,batch_size=32,epochs=100,validation_data=(test_data,test_labels),verbose=0\n",
        "  )\n",
        "history_dict = Model_Results6.history\n",
        "mae_values = history_dict['mae']\n",
        "val_mae_values = history_dict['val_mae']\n",
        "epoches = np.arange(1,len(history_dict['mae'])+1)\n",
        "plt.plot(epoches,mae_values,'r',label=\"Training Mae\")\n",
        "plt.plot(epoches,val_mae_values,'g',label=\"Validating Mae\")\n",
        "plt.title('Training and validation Mae')\n",
        "plt.xlabel(\"Epoches\")\n",
        "plt.ylabel(\"Mae\")\n",
        "plt.legend()\n",
        "plt.show()\n",
        "history_dict = Model_Results6.history\n",
        "val_acc_values = history_dict['val_mae']\n",
        "maxi = np.max(val_acc_values)\n",
        "j = 0\n",
        "for x,y in enumerate(val_acc_values):\n",
        "  if maxi >= y:\n",
        "    maxi = y\n",
        "    j = x\n",
        "print(f\"FOR MODEL1 Minimum Absolute Error = {maxi} at index {j}\")"
      ],
      "execution_count": 71,
      "outputs": [
        {
          "output_type": "display_data",
          "data": {
            "image/png": "[encoded data removed]",
            "text/plain": [
              "<Figure size 432x288 with 1 Axes>"
            ]
          },
          "metadata": {
            "tags": [],
            "needs_background": "light"
          }
        },
        {
          "output_type": "stream",
          "text": [
            "FOR MODEL1 Minimum Absolute Error = 0.33553725481033325 at index 98\n"
          ],
          "name": "stdout"
        }
      ]
    },
    {
      "cell_type": "markdown",
      "metadata": {
        "id": "D-sf-TOzx2wh"
      },
      "source": [
        "# **Training Model with activation function tanh with node 8 6 4 without tanh in output layer**"
      ]
    },
    {
      "cell_type": "code",
      "metadata": {
        "colab": {
          "base_uri": "https://localhost:8080/",
          "height": 313
        },
        "id": "89_B47CPyMeu",
        "outputId": "0dacd4c2-690a-410a-9fcf-9409d8619b8c"
      },
      "source": [
        "Model_Results7 = Train_Me_with_8_6_4_node_without_act_func_output(activation_function=\"tanh\").fit(\n",
        "      train_data,train_labels,batch_size=32,epochs=100,validation_data=(test_data,test_labels),verbose=0\n",
        "  )\n",
        "history_dict = Model_Results7.history\n",
        "mae_values = history_dict['mae']\n",
        "val_mae_values = history_dict['val_mae']\n",
        "epoches = np.arange(1,len(history_dict['mae'])+1)\n",
        "plt.plot(epoches,mae_values,'r',label=\"Training Mae\")\n",
        "plt.plot(epoches,val_mae_values,'g',label=\"Validating Mae\")\n",
        "plt.title('Training and validation Mae')\n",
        "plt.xlabel(\"Epoches\")\n",
        "plt.ylabel(\"Mae\")\n",
        "plt.legend()\n",
        "plt.show()\n",
        "history_dict = Model_Results7.history\n",
        "val_acc_values = history_dict['val_mae']\n",
        "maxi = np.max(val_acc_values)\n",
        "j = 0\n",
        "for x,y in enumerate(val_acc_values):\n",
        "  if maxi >= y:\n",
        "    maxi = y\n",
        "    j = x\n",
        "print(f\"FOR MODEL1 Minimum Absolute Error = {maxi} at index {j}\")"
      ],
      "execution_count": 72,
      "outputs": [
        {
          "output_type": "display_data",
          "data": {
            "image/png": "[encoded data removed]",
            "text/plain": [
              "<Figure size 432x288 with 1 Axes>"
            ]
          },
          "metadata": {
            "tags": [],
            "needs_background": "light"
          }
        },
        {
          "output_type": "stream",
          "text": [
            "FOR MODEL1 Minimum Absolute Error = 0.31267452239990234 at index 98\n"
          ],
          "name": "stdout"
        }
      ]
    },
    {
      "cell_type": "markdown",
      "metadata": {
        "id": "ZPttcy8Tx2Oo"
      },
      "source": [
        "# **Training Model with activation function relu with node 8 6 4 without relu in output layer**"
      ]
    },
    {
      "cell_type": "code",
      "metadata": {
        "id": "b-BiWI_4xfeN",
        "colab": {
          "base_uri": "https://localhost:8080/",
          "height": 313
        },
        "outputId": "9f2694d0-a716-4da4-f696-f9779c07e688"
      },
      "source": [
        "Model_Results8 = Train_Me_with_8_6_4_node_without_act_func_output(activation_function=\"relu\").fit(\n",
        "      train_data,train_labels,batch_size=32,epochs=100,validation_data=(test_data,test_labels),verbose=0\n",
        "  )\n",
        "history_dict = Model_Results8.history\n",
        "mae_values = history_dict['mae']\n",
        "val_mae_values = history_dict['val_mae']\n",
        "epoches = np.arange(1,len(history_dict['mae'])+1)\n",
        "plt.plot(epoches,mae_values,'r',label=\"Training Mae\")\n",
        "plt.plot(epoches,val_mae_values,'g',label=\"Validating Mae\")\n",
        "plt.title('Training and validation Mae')\n",
        "plt.xlabel(\"Epoches\")\n",
        "plt.ylabel(\"Mae\")\n",
        "plt.legend()\n",
        "plt.show()\n",
        "history_dict = Model_Results8.history\n",
        "val_acc_values = history_dict['val_mae']\n",
        "maxi = np.max(val_acc_values)\n",
        "j = 0\n",
        "for x,y in enumerate(val_acc_values):\n",
        "  if maxi >= y:\n",
        "    maxi = y\n",
        "    j = x\n",
        "print(f\"FOR MODEL1 Minimum Absolute Error = {maxi} at index {j}\")"
      ],
      "execution_count": 73,
      "outputs": [
        {
          "output_type": "display_data",
          "data": {
            "image/png": "[encoded data removed]",
            "text/plain": [
              "<Figure size 432x288 with 1 Axes>"
            ]
          },
          "metadata": {
            "tags": [],
            "needs_background": "light"
          }
        },
        {
          "output_type": "stream",
          "text": [
            "FOR MODEL1 Minimum Absolute Error = 0.29225239157676697 at index 95\n"
          ],
          "name": "stdout"
        }
      ]
    },
    {
      "cell_type": "code",
      "metadata": {
        "id": "TVRKWqu45jVJ"
      },
      "source": [
        ""
      ],
      "execution_count": 73,
      "outputs": []
    },
    {
      "cell_type": "markdown",
      "metadata": {
        "id": "RlJxd7tf5K7W"
      },
      "source": [
        "# **After all Experiments We conclude that Model with activation function tanh with node 8 6 4 and with tanh in output layer has mininum MAE value**"
      ]
    },
    {
      "cell_type": "markdown",
      "metadata": {
        "id": "JEmIrm0n-BgO"
      },
      "source": [
        "**Now Removing OverFitting**"
      ]
    },
    {
      "cell_type": "code",
      "metadata": {
        "colab": {
          "base_uri": "https://localhost:8080/",
          "height": 313
        },
        "id": "j_ENTX6_4py9",
        "outputId": "e02eead1-cfec-40a7-acfd-638d0eb708e7"
      },
      "source": [
        "Model_OPT_Results = Train_Me_with_8_6_4_node(activation_function=\"tanh\").fit(\n",
        "      train_data,train_labels,batch_size=32,epochs=30,validation_data=(test_data,test_labels),verbose=0\n",
        "  )\n",
        "history_dict = Model_OPT_Results.history\n",
        "mae_values = history_dict['mae']\n",
        "val_mae_values = history_dict['val_mae']\n",
        "epoches = np.arange(1,len(history_dict['mae'])+1)\n",
        "plt.plot(epoches,mae_values,'r',label=\"Training Mae\")\n",
        "plt.plot(epoches,val_mae_values,'g',label=\"Validating Mae\")\n",
        "plt.title('Training and validation Mae')\n",
        "plt.xlabel(\"Epoches\")\n",
        "plt.ylabel(\"Mae\")\n",
        "plt.legend()\n",
        "plt.show()\n",
        "history_dict = Model_OPT_Results.history\n",
        "val_acc_values = history_dict['val_mae']\n",
        "maxi = np.max(val_acc_values)\n",
        "j = 0\n",
        "for x,y in enumerate(val_acc_values):\n",
        "  if maxi >= y:\n",
        "    maxi = y\n",
        "    j = x\n",
        "print(f\"FOR MODEL1 Minimum Absolute Error = {maxi} at index {j}\")"
      ],
      "execution_count": 74,
      "outputs": [
        {
          "output_type": "display_data",
          "data": {
            "image/png": "[encoded data removed]",
            "text/plain": [
              "<Figure size 432x288 with 1 Axes>"
            ]
          },
          "metadata": {
            "tags": [],
            "needs_background": "light"
          }
        },
        {
          "output_type": "stream",
          "text": [
            "FOR MODEL1 Minimum Absolute Error = 0.3758995831012726 at index 29\n"
          ],
          "name": "stdout"
        }
      ]
    },
    {
      "cell_type": "markdown",
      "metadata": {
        "id": "xTyZnb3x-4CK"
      },
      "source": [
        "# **Using K_fold technique**"
      ]
    },
    {
      "cell_type": "code",
      "metadata": {
        "colab": {
          "base_uri": "https://localhost:8080/"
        },
        "id": "Fo_emfS7-c31",
        "outputId": "83bc6935-09ff-42a4-8a26-24d22485c5a4"
      },
      "source": [
        "k =  5\n",
        "num_val_samples = len(train_data) // k\n",
        "num_epochs = 30\n",
        "all_scores_relu = []\n",
        "model = Train_Me_with_8_6_4_node(activation_function=\"tanh\")\n",
        "\n",
        "for i in range(k):\n",
        "  print('processing fold #', i)\n",
        "  val_data = train_data[i * num_val_samples: (i + 1) * num_val_samples]\n",
        "  val_targets = train_labels[i * num_val_samples: (i + 1) * num_val_samples]\n",
        "  partial_train_data = np.concatenate([train_data[:i * num_val_samples],train_data[(i + 1) * num_val_samples:]],  axis=0)\n",
        "  partial_train_targets = np.concatenate([train_labels[:i * num_val_samples],train_labels[(i + 1) * num_val_samples:]],axis=0)\n",
        "  Final_Model = model.fit(partial_train_data, partial_train_targets,epochs = num_epochs, batch_size=1,verbose=0)\n",
        "  val_mse, val_mae = model.evaluate(val_data, val_targets, verbose=0)\n",
        "  all_scores_relu.append(val_mae)\n",
        "  history_dict = Final_Model.history\n",
        "  mae_values = history_dict['mae']\n",
        "print(f\"On Eveluation Average using RELU and having {num_epochs} epoches is {np.average(all_scores_relu)}\")"
      ],
      "execution_count": 81,
      "outputs": [
        {
          "output_type": "stream",
          "text": [
            "processing fold # 0\n",
            "processing fold # 1\n",
            "processing fold # 2\n",
            "processing fold # 3\n",
            "processing fold # 4\n",
            "On Eveluation Average using RELU and having 30 epoches is 0.2868521809577942\n"
          ],
          "name": "stdout"
        }
      ]
    },
    {
      "cell_type": "markdown",
      "metadata": {
        "id": "QzUCDvcbAY_9"
      },
      "source": [
        "# **Predictions show**"
      ]
    },
    {
      "cell_type": "code",
      "metadata": {
        "id": "76ENxkw0_ihD"
      },
      "source": [
        "Predicted_val = model.predict(test_data)"
      ],
      "execution_count": 82,
      "outputs": []
    },
    {
      "cell_type": "code",
      "metadata": {
        "id": "DVDrWmbOHA_Z"
      },
      "source": [
        "test_labels = np.array(test_labels)"
      ],
      "execution_count": 83,
      "outputs": []
    },
    {
      "cell_type": "code",
      "metadata": {
        "id": "L6-SQsWxALlj"
      },
      "source": [
        "def Predit(m=4):\n",
        "  print(f\" the Actual value Price was : {test_labels[m]*labels_std+labels_mean} \\n the Predicted value Price was : {Predicted_val[m]*labels_std+labels_mean} \")\n"
      ],
      "execution_count": 84,
      "outputs": []
    },
    {
      "cell_type": "code",
      "metadata": {
        "id": "zy7JQdngArss"
      },
      "source": [
        "y_true = test_labels\n",
        "y_pred = Predicted_val.flatten()"
      ],
      "execution_count": 85,
      "outputs": []
    },
    {
      "cell_type": "code",
      "metadata": {
        "colab": {
          "base_uri": "https://localhost:8080/",
          "height": 313
        },
        "id": "PUBv9yVnRy2B",
        "outputId": "d687bc85-dd31-499e-9970-47092c406316"
      },
      "source": [
        "import numpy as np\n",
        "import matplotlib.pyplot as plt\n",
        "%matplotlib inline\n",
        "coef = np.polyfit(y_true,y_pred,1)\n",
        "poly1d_fn = np.poly1d(coef) \n",
        "# poly1d_fn is now a function which takes in x and returns an estimate for y\n",
        "plt.figure()\n",
        "plt.plot(y_true,y_pred, 'yo', y_true, poly1d_fn(y_true), '--k')\n",
        "plt.title('MAE with K fold and with relu')\n",
        "plt.xlabel('Thousand Dollar True' )\n",
        "plt.ylabel('Thousand Dollar Predictions' )\n",
        "plt.xlim(0, 1)\n",
        "plt.ylim(0, 1)"
      ],
      "execution_count": 86,
      "outputs": [
        {
          "output_type": "execute_result",
          "data": {
            "text/plain": [
              "(0.0, 1.0)"
            ]
          },
          "metadata": {
            "tags": []
          },
          "execution_count": 86
        },
        {
          "output_type": "display_data",
          "data": {
            "image/png": "[encoded data removed]",
            "text/plain": [
              "<Figure size 432x288 with 1 Axes>"
            ]
          },
          "metadata": {
            "tags": [],
            "needs_background": "light"
          }
        }
      ]
    },
    {
      "cell_type": "code",
      "metadata": {
        "id": "3Xrsv91LYSPe"
      },
      "source": [
        ""
      ],
      "execution_count": 86,
      "outputs": []
    }
  ]
}