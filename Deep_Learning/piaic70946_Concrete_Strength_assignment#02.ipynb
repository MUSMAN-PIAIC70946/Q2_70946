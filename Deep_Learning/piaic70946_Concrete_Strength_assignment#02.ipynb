{
 "cells": [
  {
   "cell_type": "code",
   "execution_count": 1,
   "metadata": {
    "id": "7sutBJ-Rh7xR"
   },
   "outputs": [],
   "source": [
    "import pandas as pd\n",
    "import numpy as np\n",
    "import matplotlib.pyplot as plt\n",
    "import requests\n",
    "from io import StringIO"
   ]
  },
  {
   "cell_type": "markdown",
   "metadata": {
    "id": "o_YiguYDopD1"
   },
   "source": [
    "# **Loading Data**"
   ]
  },
  {
   "cell_type": "code",
   "execution_count": 2,
   "metadata": {
    "id": "_kmHMqFrilbu"
   },
   "outputs": [],
   "source": [
    "data = pd.read_csv(\"https://raw.githubusercontent.com/ramsha275/ML_Datasets/main/compresive_strength_concrete.csv\")"
   ]
  },
  {
   "cell_type": "code",
   "execution_count": 3,
   "metadata": {
    "colab": {
     "base_uri": "https://localhost:8080/",
     "height": 459
    },
    "id": "WdJTxF2iH4Ah",
    "outputId": "8d1c1d42-4b13-488c-e703-57f76889834d"
   },
   "outputs": [
    {
     "data": {
      "text/html": [
       "<div>\n",
       "<style scoped>\n",
       "    .dataframe tbody tr th:only-of-type {\n",
       "        vertical-align: middle;\n",
       "    }\n",
       "\n",
       "    .dataframe tbody tr th {\n",
       "        vertical-align: top;\n",
       "    }\n",
       "\n",
       "    .dataframe thead th {\n",
       "        text-align: right;\n",
       "    }\n",
       "</style>\n",
       "<table border=\"1\" class=\"dataframe\">\n",
       "  <thead>\n",
       "    <tr style=\"text-align: right;\">\n",
       "      <th></th>\n",
       "      <th>Cement (component 1)(kg in a m^3 mixture)</th>\n",
       "      <th>Blast Furnace Slag (component 2)(kg in a m^3 mixture)</th>\n",
       "      <th>Fly Ash (component 3)(kg in a m^3 mixture)</th>\n",
       "      <th>Water  (component 4)(kg in a m^3 mixture)</th>\n",
       "      <th>Superplasticizer (component 5)(kg in a m^3 mixture)</th>\n",
       "      <th>Coarse Aggregate  (component 6)(kg in a m^3 mixture)</th>\n",
       "      <th>Fine Aggregate (component 7)(kg in a m^3 mixture)</th>\n",
       "      <th>Age (day)</th>\n",
       "      <th>Concrete compressive strength(MPa, megapascals)</th>\n",
       "    </tr>\n",
       "  </thead>\n",
       "  <tbody>\n",
       "    <tr>\n",
       "      <th>0</th>\n",
       "      <td>540.0</td>\n",
       "      <td>0.0</td>\n",
       "      <td>0.0</td>\n",
       "      <td>162.0</td>\n",
       "      <td>2.5</td>\n",
       "      <td>1040.0</td>\n",
       "      <td>676.0</td>\n",
       "      <td>28</td>\n",
       "      <td>79.99</td>\n",
       "    </tr>\n",
       "    <tr>\n",
       "      <th>1</th>\n",
       "      <td>540.0</td>\n",
       "      <td>0.0</td>\n",
       "      <td>0.0</td>\n",
       "      <td>162.0</td>\n",
       "      <td>2.5</td>\n",
       "      <td>1055.0</td>\n",
       "      <td>676.0</td>\n",
       "      <td>28</td>\n",
       "      <td>61.89</td>\n",
       "    </tr>\n",
       "    <tr>\n",
       "      <th>2</th>\n",
       "      <td>332.5</td>\n",
       "      <td>142.5</td>\n",
       "      <td>0.0</td>\n",
       "      <td>228.0</td>\n",
       "      <td>0.0</td>\n",
       "      <td>932.0</td>\n",
       "      <td>594.0</td>\n",
       "      <td>270</td>\n",
       "      <td>40.27</td>\n",
       "    </tr>\n",
       "    <tr>\n",
       "      <th>3</th>\n",
       "      <td>332.5</td>\n",
       "      <td>142.5</td>\n",
       "      <td>0.0</td>\n",
       "      <td>228.0</td>\n",
       "      <td>0.0</td>\n",
       "      <td>932.0</td>\n",
       "      <td>594.0</td>\n",
       "      <td>365</td>\n",
       "      <td>41.05</td>\n",
       "    </tr>\n",
       "    <tr>\n",
       "      <th>4</th>\n",
       "      <td>198.6</td>\n",
       "      <td>132.4</td>\n",
       "      <td>0.0</td>\n",
       "      <td>192.0</td>\n",
       "      <td>0.0</td>\n",
       "      <td>978.4</td>\n",
       "      <td>825.5</td>\n",
       "      <td>360</td>\n",
       "      <td>44.30</td>\n",
       "    </tr>\n",
       "    <tr>\n",
       "      <th>...</th>\n",
       "      <td>...</td>\n",
       "      <td>...</td>\n",
       "      <td>...</td>\n",
       "      <td>...</td>\n",
       "      <td>...</td>\n",
       "      <td>...</td>\n",
       "      <td>...</td>\n",
       "      <td>...</td>\n",
       "      <td>...</td>\n",
       "    </tr>\n",
       "    <tr>\n",
       "      <th>1025</th>\n",
       "      <td>276.4</td>\n",
       "      <td>116.0</td>\n",
       "      <td>90.3</td>\n",
       "      <td>179.6</td>\n",
       "      <td>8.9</td>\n",
       "      <td>870.1</td>\n",
       "      <td>768.3</td>\n",
       "      <td>28</td>\n",
       "      <td>44.28</td>\n",
       "    </tr>\n",
       "    <tr>\n",
       "      <th>1026</th>\n",
       "      <td>322.2</td>\n",
       "      <td>0.0</td>\n",
       "      <td>115.6</td>\n",
       "      <td>196.0</td>\n",
       "      <td>10.4</td>\n",
       "      <td>817.9</td>\n",
       "      <td>813.4</td>\n",
       "      <td>28</td>\n",
       "      <td>31.18</td>\n",
       "    </tr>\n",
       "    <tr>\n",
       "      <th>1027</th>\n",
       "      <td>148.5</td>\n",
       "      <td>139.4</td>\n",
       "      <td>108.6</td>\n",
       "      <td>192.7</td>\n",
       "      <td>6.1</td>\n",
       "      <td>892.4</td>\n",
       "      <td>780.0</td>\n",
       "      <td>28</td>\n",
       "      <td>23.70</td>\n",
       "    </tr>\n",
       "    <tr>\n",
       "      <th>1028</th>\n",
       "      <td>159.1</td>\n",
       "      <td>186.7</td>\n",
       "      <td>0.0</td>\n",
       "      <td>175.6</td>\n",
       "      <td>11.3</td>\n",
       "      <td>989.6</td>\n",
       "      <td>788.9</td>\n",
       "      <td>28</td>\n",
       "      <td>32.77</td>\n",
       "    </tr>\n",
       "    <tr>\n",
       "      <th>1029</th>\n",
       "      <td>260.9</td>\n",
       "      <td>100.5</td>\n",
       "      <td>78.3</td>\n",
       "      <td>200.6</td>\n",
       "      <td>8.6</td>\n",
       "      <td>864.5</td>\n",
       "      <td>761.5</td>\n",
       "      <td>28</td>\n",
       "      <td>32.40</td>\n",
       "    </tr>\n",
       "  </tbody>\n",
       "</table>\n",
       "<p>1030 rows × 9 columns</p>\n",
       "</div>"
      ],
      "text/plain": [
       "      Cement (component 1)(kg in a m^3 mixture)  \\\n",
       "0                                         540.0   \n",
       "1                                         540.0   \n",
       "2                                         332.5   \n",
       "3                                         332.5   \n",
       "4                                         198.6   \n",
       "...                                         ...   \n",
       "1025                                      276.4   \n",
       "1026                                      322.2   \n",
       "1027                                      148.5   \n",
       "1028                                      159.1   \n",
       "1029                                      260.9   \n",
       "\n",
       "      Blast Furnace Slag (component 2)(kg in a m^3 mixture)  \\\n",
       "0                                                   0.0       \n",
       "1                                                   0.0       \n",
       "2                                                 142.5       \n",
       "3                                                 142.5       \n",
       "4                                                 132.4       \n",
       "...                                                 ...       \n",
       "1025                                              116.0       \n",
       "1026                                                0.0       \n",
       "1027                                              139.4       \n",
       "1028                                              186.7       \n",
       "1029                                              100.5       \n",
       "\n",
       "      Fly Ash (component 3)(kg in a m^3 mixture)  \\\n",
       "0                                            0.0   \n",
       "1                                            0.0   \n",
       "2                                            0.0   \n",
       "3                                            0.0   \n",
       "4                                            0.0   \n",
       "...                                          ...   \n",
       "1025                                        90.3   \n",
       "1026                                       115.6   \n",
       "1027                                       108.6   \n",
       "1028                                         0.0   \n",
       "1029                                        78.3   \n",
       "\n",
       "      Water  (component 4)(kg in a m^3 mixture)  \\\n",
       "0                                         162.0   \n",
       "1                                         162.0   \n",
       "2                                         228.0   \n",
       "3                                         228.0   \n",
       "4                                         192.0   \n",
       "...                                         ...   \n",
       "1025                                      179.6   \n",
       "1026                                      196.0   \n",
       "1027                                      192.7   \n",
       "1028                                      175.6   \n",
       "1029                                      200.6   \n",
       "\n",
       "      Superplasticizer (component 5)(kg in a m^3 mixture)  \\\n",
       "0                                                   2.5     \n",
       "1                                                   2.5     \n",
       "2                                                   0.0     \n",
       "3                                                   0.0     \n",
       "4                                                   0.0     \n",
       "...                                                 ...     \n",
       "1025                                                8.9     \n",
       "1026                                               10.4     \n",
       "1027                                                6.1     \n",
       "1028                                               11.3     \n",
       "1029                                                8.6     \n",
       "\n",
       "      Coarse Aggregate  (component 6)(kg in a m^3 mixture)  \\\n",
       "0                                                1040.0      \n",
       "1                                                1055.0      \n",
       "2                                                 932.0      \n",
       "3                                                 932.0      \n",
       "4                                                 978.4      \n",
       "...                                                 ...      \n",
       "1025                                              870.1      \n",
       "1026                                              817.9      \n",
       "1027                                              892.4      \n",
       "1028                                              989.6      \n",
       "1029                                              864.5      \n",
       "\n",
       "      Fine Aggregate (component 7)(kg in a m^3 mixture)  Age (day)  \\\n",
       "0                                                 676.0         28   \n",
       "1                                                 676.0         28   \n",
       "2                                                 594.0        270   \n",
       "3                                                 594.0        365   \n",
       "4                                                 825.5        360   \n",
       "...                                                 ...        ...   \n",
       "1025                                              768.3         28   \n",
       "1026                                              813.4         28   \n",
       "1027                                              780.0         28   \n",
       "1028                                              788.9         28   \n",
       "1029                                              761.5         28   \n",
       "\n",
       "      Concrete compressive strength(MPa, megapascals)   \n",
       "0                                                79.99  \n",
       "1                                                61.89  \n",
       "2                                                40.27  \n",
       "3                                                41.05  \n",
       "4                                                44.30  \n",
       "...                                                ...  \n",
       "1025                                             44.28  \n",
       "1026                                             31.18  \n",
       "1027                                             23.70  \n",
       "1028                                             32.77  \n",
       "1029                                             32.40  \n",
       "\n",
       "[1030 rows x 9 columns]"
      ]
     },
     "execution_count": 3,
     "metadata": {},
     "output_type": "execute_result"
    }
   ],
   "source": [
    "data"
   ]
  },
  {
   "cell_type": "markdown",
   "metadata": {
    "id": "9z1Rr14HE6dv"
   },
   "source": [
    "# **Shuffling Data**"
   ]
  },
  {
   "cell_type": "code",
   "execution_count": 4,
   "metadata": {
    "colab": {
     "base_uri": "https://localhost:8080/",
     "height": 459
    },
    "id": "qxKns-j-ISwA",
    "outputId": "6cb98406-fe6e-497d-af3c-8d0ebe7df0a6"
   },
   "outputs": [
    {
     "data": {
      "text/html": [
       "<div>\n",
       "<style scoped>\n",
       "    .dataframe tbody tr th:only-of-type {\n",
       "        vertical-align: middle;\n",
       "    }\n",
       "\n",
       "    .dataframe tbody tr th {\n",
       "        vertical-align: top;\n",
       "    }\n",
       "\n",
       "    .dataframe thead th {\n",
       "        text-align: right;\n",
       "    }\n",
       "</style>\n",
       "<table border=\"1\" class=\"dataframe\">\n",
       "  <thead>\n",
       "    <tr style=\"text-align: right;\">\n",
       "      <th></th>\n",
       "      <th>Cement (component 1)(kg in a m^3 mixture)</th>\n",
       "      <th>Blast Furnace Slag (component 2)(kg in a m^3 mixture)</th>\n",
       "      <th>Fly Ash (component 3)(kg in a m^3 mixture)</th>\n",
       "      <th>Water  (component 4)(kg in a m^3 mixture)</th>\n",
       "      <th>Superplasticizer (component 5)(kg in a m^3 mixture)</th>\n",
       "      <th>Coarse Aggregate  (component 6)(kg in a m^3 mixture)</th>\n",
       "      <th>Fine Aggregate (component 7)(kg in a m^3 mixture)</th>\n",
       "      <th>Age (day)</th>\n",
       "      <th>Concrete compressive strength(MPa, megapascals)</th>\n",
       "    </tr>\n",
       "  </thead>\n",
       "  <tbody>\n",
       "    <tr>\n",
       "      <th>0</th>\n",
       "      <td>148.1</td>\n",
       "      <td>0.0</td>\n",
       "      <td>182.1</td>\n",
       "      <td>181.4</td>\n",
       "      <td>15.0</td>\n",
       "      <td>838.9</td>\n",
       "      <td>884.3</td>\n",
       "      <td>28</td>\n",
       "      <td>15.53</td>\n",
       "    </tr>\n",
       "    <tr>\n",
       "      <th>1</th>\n",
       "      <td>166.8</td>\n",
       "      <td>250.2</td>\n",
       "      <td>0.0</td>\n",
       "      <td>203.5</td>\n",
       "      <td>0.0</td>\n",
       "      <td>975.6</td>\n",
       "      <td>692.6</td>\n",
       "      <td>7</td>\n",
       "      <td>15.75</td>\n",
       "    </tr>\n",
       "    <tr>\n",
       "      <th>2</th>\n",
       "      <td>147.8</td>\n",
       "      <td>175.1</td>\n",
       "      <td>0.0</td>\n",
       "      <td>171.2</td>\n",
       "      <td>2.2</td>\n",
       "      <td>1000.0</td>\n",
       "      <td>828.5</td>\n",
       "      <td>28</td>\n",
       "      <td>26.92</td>\n",
       "    </tr>\n",
       "    <tr>\n",
       "      <th>3</th>\n",
       "      <td>213.7</td>\n",
       "      <td>0.0</td>\n",
       "      <td>174.7</td>\n",
       "      <td>154.8</td>\n",
       "      <td>10.2</td>\n",
       "      <td>1053.5</td>\n",
       "      <td>776.4</td>\n",
       "      <td>56</td>\n",
       "      <td>46.64</td>\n",
       "    </tr>\n",
       "    <tr>\n",
       "      <th>4</th>\n",
       "      <td>167.4</td>\n",
       "      <td>129.9</td>\n",
       "      <td>128.6</td>\n",
       "      <td>175.5</td>\n",
       "      <td>7.8</td>\n",
       "      <td>1006.3</td>\n",
       "      <td>746.6</td>\n",
       "      <td>100</td>\n",
       "      <td>53.66</td>\n",
       "    </tr>\n",
       "    <tr>\n",
       "      <th>...</th>\n",
       "      <td>...</td>\n",
       "      <td>...</td>\n",
       "      <td>...</td>\n",
       "      <td>...</td>\n",
       "      <td>...</td>\n",
       "      <td>...</td>\n",
       "      <td>...</td>\n",
       "      <td>...</td>\n",
       "      <td>...</td>\n",
       "    </tr>\n",
       "    <tr>\n",
       "      <th>1025</th>\n",
       "      <td>155.0</td>\n",
       "      <td>184.0</td>\n",
       "      <td>143.0</td>\n",
       "      <td>194.0</td>\n",
       "      <td>9.0</td>\n",
       "      <td>880.0</td>\n",
       "      <td>699.0</td>\n",
       "      <td>28</td>\n",
       "      <td>28.99</td>\n",
       "    </tr>\n",
       "    <tr>\n",
       "      <th>1026</th>\n",
       "      <td>158.8</td>\n",
       "      <td>238.2</td>\n",
       "      <td>0.0</td>\n",
       "      <td>185.7</td>\n",
       "      <td>0.0</td>\n",
       "      <td>1040.6</td>\n",
       "      <td>734.3</td>\n",
       "      <td>7</td>\n",
       "      <td>9.62</td>\n",
       "    </tr>\n",
       "    <tr>\n",
       "      <th>1027</th>\n",
       "      <td>250.0</td>\n",
       "      <td>0.0</td>\n",
       "      <td>95.7</td>\n",
       "      <td>187.4</td>\n",
       "      <td>5.5</td>\n",
       "      <td>956.9</td>\n",
       "      <td>861.2</td>\n",
       "      <td>3</td>\n",
       "      <td>13.82</td>\n",
       "    </tr>\n",
       "    <tr>\n",
       "      <th>1028</th>\n",
       "      <td>272.8</td>\n",
       "      <td>181.9</td>\n",
       "      <td>0.0</td>\n",
       "      <td>185.7</td>\n",
       "      <td>0.0</td>\n",
       "      <td>1012.4</td>\n",
       "      <td>714.3</td>\n",
       "      <td>28</td>\n",
       "      <td>31.38</td>\n",
       "    </tr>\n",
       "    <tr>\n",
       "      <th>1029</th>\n",
       "      <td>491.0</td>\n",
       "      <td>26.0</td>\n",
       "      <td>123.0</td>\n",
       "      <td>210.0</td>\n",
       "      <td>3.9</td>\n",
       "      <td>882.0</td>\n",
       "      <td>699.0</td>\n",
       "      <td>7</td>\n",
       "      <td>33.49</td>\n",
       "    </tr>\n",
       "  </tbody>\n",
       "</table>\n",
       "<p>1030 rows × 9 columns</p>\n",
       "</div>"
      ],
      "text/plain": [
       "      Cement (component 1)(kg in a m^3 mixture)  \\\n",
       "0                                         148.1   \n",
       "1                                         166.8   \n",
       "2                                         147.8   \n",
       "3                                         213.7   \n",
       "4                                         167.4   \n",
       "...                                         ...   \n",
       "1025                                      155.0   \n",
       "1026                                      158.8   \n",
       "1027                                      250.0   \n",
       "1028                                      272.8   \n",
       "1029                                      491.0   \n",
       "\n",
       "      Blast Furnace Slag (component 2)(kg in a m^3 mixture)  \\\n",
       "0                                                   0.0       \n",
       "1                                                 250.2       \n",
       "2                                                 175.1       \n",
       "3                                                   0.0       \n",
       "4                                                 129.9       \n",
       "...                                                 ...       \n",
       "1025                                              184.0       \n",
       "1026                                              238.2       \n",
       "1027                                                0.0       \n",
       "1028                                              181.9       \n",
       "1029                                               26.0       \n",
       "\n",
       "      Fly Ash (component 3)(kg in a m^3 mixture)  \\\n",
       "0                                          182.1   \n",
       "1                                            0.0   \n",
       "2                                            0.0   \n",
       "3                                          174.7   \n",
       "4                                          128.6   \n",
       "...                                          ...   \n",
       "1025                                       143.0   \n",
       "1026                                         0.0   \n",
       "1027                                        95.7   \n",
       "1028                                         0.0   \n",
       "1029                                       123.0   \n",
       "\n",
       "      Water  (component 4)(kg in a m^3 mixture)  \\\n",
       "0                                         181.4   \n",
       "1                                         203.5   \n",
       "2                                         171.2   \n",
       "3                                         154.8   \n",
       "4                                         175.5   \n",
       "...                                         ...   \n",
       "1025                                      194.0   \n",
       "1026                                      185.7   \n",
       "1027                                      187.4   \n",
       "1028                                      185.7   \n",
       "1029                                      210.0   \n",
       "\n",
       "      Superplasticizer (component 5)(kg in a m^3 mixture)  \\\n",
       "0                                                  15.0     \n",
       "1                                                   0.0     \n",
       "2                                                   2.2     \n",
       "3                                                  10.2     \n",
       "4                                                   7.8     \n",
       "...                                                 ...     \n",
       "1025                                                9.0     \n",
       "1026                                                0.0     \n",
       "1027                                                5.5     \n",
       "1028                                                0.0     \n",
       "1029                                                3.9     \n",
       "\n",
       "      Coarse Aggregate  (component 6)(kg in a m^3 mixture)  \\\n",
       "0                                                 838.9      \n",
       "1                                                 975.6      \n",
       "2                                                1000.0      \n",
       "3                                                1053.5      \n",
       "4                                                1006.3      \n",
       "...                                                 ...      \n",
       "1025                                              880.0      \n",
       "1026                                             1040.6      \n",
       "1027                                              956.9      \n",
       "1028                                             1012.4      \n",
       "1029                                              882.0      \n",
       "\n",
       "      Fine Aggregate (component 7)(kg in a m^3 mixture)  Age (day)  \\\n",
       "0                                                 884.3         28   \n",
       "1                                                 692.6          7   \n",
       "2                                                 828.5         28   \n",
       "3                                                 776.4         56   \n",
       "4                                                 746.6        100   \n",
       "...                                                 ...        ...   \n",
       "1025                                              699.0         28   \n",
       "1026                                              734.3          7   \n",
       "1027                                              861.2          3   \n",
       "1028                                              714.3         28   \n",
       "1029                                              699.0          7   \n",
       "\n",
       "      Concrete compressive strength(MPa, megapascals)   \n",
       "0                                                15.53  \n",
       "1                                                15.75  \n",
       "2                                                26.92  \n",
       "3                                                46.64  \n",
       "4                                                53.66  \n",
       "...                                                ...  \n",
       "1025                                             28.99  \n",
       "1026                                              9.62  \n",
       "1027                                             13.82  \n",
       "1028                                             31.38  \n",
       "1029                                             33.49  \n",
       "\n",
       "[1030 rows x 9 columns]"
      ]
     },
     "execution_count": 4,
     "metadata": {},
     "output_type": "execute_result"
    }
   ],
   "source": [
    "data = data.sample(frac=1).reset_index(drop=True)\n",
    "data"
   ]
  },
  {
   "cell_type": "markdown",
   "metadata": {
    "id": "ZwtkOdvVoh_d"
   },
   "source": [
    "# **Checking MIssing Values**"
   ]
  },
  {
   "cell_type": "code",
   "execution_count": 5,
   "metadata": {
    "colab": {
     "base_uri": "https://localhost:8080/"
    },
    "id": "FtRCABzMir49",
    "outputId": "c1de1fa5-1464-49f3-af0f-29c4ffc90569"
   },
   "outputs": [
    {
     "data": {
      "text/plain": [
       "Cement (component 1)(kg in a m^3 mixture)                False\n",
       "Blast Furnace Slag (component 2)(kg in a m^3 mixture)    False\n",
       "Fly Ash (component 3)(kg in a m^3 mixture)               False\n",
       "Water  (component 4)(kg in a m^3 mixture)                False\n",
       "Superplasticizer (component 5)(kg in a m^3 mixture)      False\n",
       "Coarse Aggregate  (component 6)(kg in a m^3 mixture)     False\n",
       "Fine Aggregate (component 7)(kg in a m^3 mixture)        False\n",
       "Age (day)                                                False\n",
       "Concrete compressive strength(MPa, megapascals)          False\n",
       "dtype: bool"
      ]
     },
     "execution_count": 5,
     "metadata": {},
     "output_type": "execute_result"
    }
   ],
   "source": [
    "data.isnull().any()"
   ]
  },
  {
   "cell_type": "markdown",
   "metadata": {
    "id": "ROO9h_L2oz9v"
   },
   "source": [
    "# **Standardized the Input Variables. Hint: Centeralized the data**"
   ]
  },
  {
   "cell_type": "code",
   "execution_count": 6,
   "metadata": {
    "colab": {
     "base_uri": "https://localhost:8080/"
    },
    "id": "0jdXak4wWJKn",
    "outputId": "aed9c5f8-7a3f-4c7b-8daa-01e0dc745a90"
   },
   "outputs": [
    {
     "data": {
      "text/plain": [
       "35.817961165048544"
      ]
     },
     "execution_count": 6,
     "metadata": {},
     "output_type": "execute_result"
    }
   ],
   "source": [
    "labels_mean = np.mean(data['Concrete compressive strength(MPa, megapascals) '])\n",
    "labels_std = np.std(data['Concrete compressive strength(MPa, megapascals) '])\n",
    "labels_mean"
   ]
  },
  {
   "cell_type": "code",
   "execution_count": 7,
   "metadata": {
    "id": "JQ1kaamqofIu"
   },
   "outputs": [],
   "source": [
    "for col in data.columns:\n",
    "  data[col] -= np.mean(data[col])\n",
    "  data[col] /= np.std(data[col])\n"
   ]
  },
  {
   "cell_type": "code",
   "execution_count": 8,
   "metadata": {
    "colab": {
     "base_uri": "https://localhost:8080/"
    },
    "id": "r0TISWcwJj2j",
    "outputId": "2ca9389c-2068-4aae-83e0-37e981d94cfb"
   },
   "outputs": [
    {
     "name": "stdout",
     "output_type": "stream",
     "text": [
      "   Cement (component 1)(kg in a m^3 mixture)  \\\n",
      "0                                  -1.273918   \n",
      "1                                  -1.094894   \n",
      "2                                  -1.276790   \n",
      "3                                  -0.645900   \n",
      "4                                  -1.089150   \n",
      "\n",
      "   Blast Furnace Slag (component 2)(kg in a m^3 mixture)  \\\n",
      "0                                          -0.856888       \n",
      "1                                           2.044404       \n",
      "2                                           1.173553       \n",
      "3                                          -0.856888       \n",
      "4                                           0.649418       \n",
      "\n",
      "   Fly Ash (component 3)(kg in a m^3 mixture)  \\\n",
      "0                                    1.999684   \n",
      "1                                   -0.847144   \n",
      "2                                   -0.847144   \n",
      "3                                    1.883997   \n",
      "4                                    1.163301   \n",
      "\n",
      "   Water  (component 4)(kg in a m^3 mixture)  \\\n",
      "0                                  -0.007837   \n",
      "1                                   1.027590   \n",
      "2                                  -0.485727   \n",
      "3                                  -1.254098   \n",
      "4                                  -0.284264   \n",
      "\n",
      "   Superplasticizer (component 5)(kg in a m^3 mixture)  \\\n",
      "0                                           1.473024     \n",
      "1                                          -1.039143     \n",
      "2                                          -0.670692     \n",
      "3                                           0.669131     \n",
      "4                                           0.267184     \n",
      "\n",
      "   Coarse Aggregate  (component 6)(kg in a m^3 mixture)  \\\n",
      "0                                          -1.724466      \n",
      "1                                           0.034498      \n",
      "2                                           0.348461      \n",
      "3                                           1.036863      \n",
      "4                                           0.429525      \n",
      "\n",
      "   Fine Aggregate (component 7)(kg in a m^3 mixture)  Age (day)  \\\n",
      "0                                           1.381627  -0.279733   \n",
      "1                                          -1.010525  -0.612331   \n",
      "2                                           0.685320  -0.279733   \n",
      "3                                           0.035184   0.163731   \n",
      "4                                          -0.336679   0.860604   \n",
      "\n",
      "   Concrete compressive strength(MPa, megapascals)   \n",
      "0                                         -1.215020  \n",
      "1                                         -1.201845  \n",
      "2                                         -0.532888  \n",
      "3                                          0.648118  \n",
      "4                                          1.068537  \n"
     ]
    }
   ],
   "source": [
    "print(data.head())"
   ]
  },
  {
   "cell_type": "markdown",
   "metadata": {
    "id": "wIHHDQRWpm6N"
   },
   "source": [
    "# **Split into 70% Training(Samples,Labels) , 30% Test(Samples,Labels)** "
   ]
  },
  {
   "cell_type": "code",
   "execution_count": 9,
   "metadata": {
    "colab": {
     "base_uri": "https://localhost:8080/",
     "height": 426
    },
    "id": "NurGIPDhpXlP",
    "outputId": "8f03c955-236d-4e6c-a581-8a53fbaf30f9"
   },
   "outputs": [
    {
     "data": {
      "text/html": [
       "<div>\n",
       "<style scoped>\n",
       "    .dataframe tbody tr th:only-of-type {\n",
       "        vertical-align: middle;\n",
       "    }\n",
       "\n",
       "    .dataframe tbody tr th {\n",
       "        vertical-align: top;\n",
       "    }\n",
       "\n",
       "    .dataframe thead th {\n",
       "        text-align: right;\n",
       "    }\n",
       "</style>\n",
       "<table border=\"1\" class=\"dataframe\">\n",
       "  <thead>\n",
       "    <tr style=\"text-align: right;\">\n",
       "      <th></th>\n",
       "      <th>Cement (component 1)(kg in a m^3 mixture)</th>\n",
       "      <th>Blast Furnace Slag (component 2)(kg in a m^3 mixture)</th>\n",
       "      <th>Fly Ash (component 3)(kg in a m^3 mixture)</th>\n",
       "      <th>Water  (component 4)(kg in a m^3 mixture)</th>\n",
       "      <th>Superplasticizer (component 5)(kg in a m^3 mixture)</th>\n",
       "      <th>Coarse Aggregate  (component 6)(kg in a m^3 mixture)</th>\n",
       "      <th>Fine Aggregate (component 7)(kg in a m^3 mixture)</th>\n",
       "      <th>Age (day)</th>\n",
       "      <th>Concrete compressive strength(MPa, megapascals)</th>\n",
       "    </tr>\n",
       "  </thead>\n",
       "  <tbody>\n",
       "    <tr>\n",
       "      <th>count</th>\n",
       "      <td>1.030000e+03</td>\n",
       "      <td>1.030000e+03</td>\n",
       "      <td>1.030000e+03</td>\n",
       "      <td>1.030000e+03</td>\n",
       "      <td>1.030000e+03</td>\n",
       "      <td>1.030000e+03</td>\n",
       "      <td>1.030000e+03</td>\n",
       "      <td>1.030000e+03</td>\n",
       "      <td>1.030000e+03</td>\n",
       "    </tr>\n",
       "    <tr>\n",
       "      <th>mean</th>\n",
       "      <td>-4.156330e-16</td>\n",
       "      <td>2.414466e-17</td>\n",
       "      <td>-3.449237e-18</td>\n",
       "      <td>-1.483172e-16</td>\n",
       "      <td>-2.069542e-17</td>\n",
       "      <td>6.967458e-16</td>\n",
       "      <td>-4.863424e-16</td>\n",
       "      <td>7.243397e-17</td>\n",
       "      <td>-3.190544e-17</td>\n",
       "    </tr>\n",
       "    <tr>\n",
       "      <th>std</th>\n",
       "      <td>1.000486e+00</td>\n",
       "      <td>1.000486e+00</td>\n",
       "      <td>1.000486e+00</td>\n",
       "      <td>1.000486e+00</td>\n",
       "      <td>1.000486e+00</td>\n",
       "      <td>1.000486e+00</td>\n",
       "      <td>1.000486e+00</td>\n",
       "      <td>1.000486e+00</td>\n",
       "      <td>1.000486e+00</td>\n",
       "    </tr>\n",
       "    <tr>\n",
       "      <th>min</th>\n",
       "      <td>-1.715253e+00</td>\n",
       "      <td>-8.568879e-01</td>\n",
       "      <td>-8.471439e-01</td>\n",
       "      <td>-2.800211e+00</td>\n",
       "      <td>-1.039143e+00</td>\n",
       "      <td>-2.212138e+00</td>\n",
       "      <td>-2.240917e+00</td>\n",
       "      <td>-7.073594e-01</td>\n",
       "      <td>-2.005552e+00</td>\n",
       "    </tr>\n",
       "    <tr>\n",
       "      <th>25%</th>\n",
       "      <td>-8.500535e-01</td>\n",
       "      <td>-8.568879e-01</td>\n",
       "      <td>-8.471439e-01</td>\n",
       "      <td>-7.808939e-01</td>\n",
       "      <td>-1.039143e+00</td>\n",
       "      <td>-5.265174e-01</td>\n",
       "      <td>-5.319697e-01</td>\n",
       "      <td>-6.123314e-01</td>\n",
       "      <td>-7.251305e-01</td>\n",
       "    </tr>\n",
       "    <tr>\n",
       "      <th>50%</th>\n",
       "      <td>-7.915193e-02</td>\n",
       "      <td>-6.017783e-01</td>\n",
       "      <td>-8.471439e-01</td>\n",
       "      <td>1.608294e-01</td>\n",
       "      <td>3.271508e-02</td>\n",
       "      <td>-6.329352e-02</td>\n",
       "      <td>7.386739e-02</td>\n",
       "      <td>-2.797331e-01</td>\n",
       "      <td>-8.222491e-02</td>\n",
       "    </tr>\n",
       "    <tr>\n",
       "      <th>75%</th>\n",
       "      <td>6.589606e-01</td>\n",
       "      <td>8.007446e-01</td>\n",
       "      <td>1.002278e+00</td>\n",
       "      <td>4.887927e-01</td>\n",
       "      <td>6.691307e-01</td>\n",
       "      <td>7.267605e-01</td>\n",
       "      <td>6.291661e-01</td>\n",
       "      <td>1.637312e-01</td>\n",
       "      <td>6.178744e-01</td>\n",
       "    </tr>\n",
       "    <tr>\n",
       "      <th>max</th>\n",
       "      <td>2.477915e+00</td>\n",
       "      <td>3.310675e+00</td>\n",
       "      <td>2.281084e+00</td>\n",
       "      <td>3.065647e+00</td>\n",
       "      <td>4.353642e+00</td>\n",
       "      <td>2.214224e+00</td>\n",
       "      <td>2.733062e+00</td>\n",
       "      <td>5.057677e+00</td>\n",
       "      <td>2.801717e+00</td>\n",
       "    </tr>\n",
       "  </tbody>\n",
       "</table>\n",
       "</div>"
      ],
      "text/plain": [
       "       Cement (component 1)(kg in a m^3 mixture)  \\\n",
       "count                               1.030000e+03   \n",
       "mean                               -4.156330e-16   \n",
       "std                                 1.000486e+00   \n",
       "min                                -1.715253e+00   \n",
       "25%                                -8.500535e-01   \n",
       "50%                                -7.915193e-02   \n",
       "75%                                 6.589606e-01   \n",
       "max                                 2.477915e+00   \n",
       "\n",
       "       Blast Furnace Slag (component 2)(kg in a m^3 mixture)  \\\n",
       "count                                       1.030000e+03       \n",
       "mean                                        2.414466e-17       \n",
       "std                                         1.000486e+00       \n",
       "min                                        -8.568879e-01       \n",
       "25%                                        -8.568879e-01       \n",
       "50%                                        -6.017783e-01       \n",
       "75%                                         8.007446e-01       \n",
       "max                                         3.310675e+00       \n",
       "\n",
       "       Fly Ash (component 3)(kg in a m^3 mixture)  \\\n",
       "count                                1.030000e+03   \n",
       "mean                                -3.449237e-18   \n",
       "std                                  1.000486e+00   \n",
       "min                                 -8.471439e-01   \n",
       "25%                                 -8.471439e-01   \n",
       "50%                                 -8.471439e-01   \n",
       "75%                                  1.002278e+00   \n",
       "max                                  2.281084e+00   \n",
       "\n",
       "       Water  (component 4)(kg in a m^3 mixture)  \\\n",
       "count                               1.030000e+03   \n",
       "mean                               -1.483172e-16   \n",
       "std                                 1.000486e+00   \n",
       "min                                -2.800211e+00   \n",
       "25%                                -7.808939e-01   \n",
       "50%                                 1.608294e-01   \n",
       "75%                                 4.887927e-01   \n",
       "max                                 3.065647e+00   \n",
       "\n",
       "       Superplasticizer (component 5)(kg in a m^3 mixture)  \\\n",
       "count                                       1.030000e+03     \n",
       "mean                                       -2.069542e-17     \n",
       "std                                         1.000486e+00     \n",
       "min                                        -1.039143e+00     \n",
       "25%                                        -1.039143e+00     \n",
       "50%                                         3.271508e-02     \n",
       "75%                                         6.691307e-01     \n",
       "max                                         4.353642e+00     \n",
       "\n",
       "       Coarse Aggregate  (component 6)(kg in a m^3 mixture)  \\\n",
       "count                                       1.030000e+03      \n",
       "mean                                        6.967458e-16      \n",
       "std                                         1.000486e+00      \n",
       "min                                        -2.212138e+00      \n",
       "25%                                        -5.265174e-01      \n",
       "50%                                        -6.329352e-02      \n",
       "75%                                         7.267605e-01      \n",
       "max                                         2.214224e+00      \n",
       "\n",
       "       Fine Aggregate (component 7)(kg in a m^3 mixture)     Age (day)  \\\n",
       "count                                       1.030000e+03  1.030000e+03   \n",
       "mean                                       -4.863424e-16  7.243397e-17   \n",
       "std                                         1.000486e+00  1.000486e+00   \n",
       "min                                        -2.240917e+00 -7.073594e-01   \n",
       "25%                                        -5.319697e-01 -6.123314e-01   \n",
       "50%                                         7.386739e-02 -2.797331e-01   \n",
       "75%                                         6.291661e-01  1.637312e-01   \n",
       "max                                         2.733062e+00  5.057677e+00   \n",
       "\n",
       "       Concrete compressive strength(MPa, megapascals)   \n",
       "count                                      1.030000e+03  \n",
       "mean                                      -3.190544e-17  \n",
       "std                                        1.000486e+00  \n",
       "min                                       -2.005552e+00  \n",
       "25%                                       -7.251305e-01  \n",
       "50%                                       -8.222491e-02  \n",
       "75%                                        6.178744e-01  \n",
       "max                                        2.801717e+00  "
      ]
     },
     "execution_count": 9,
     "metadata": {},
     "output_type": "execute_result"
    }
   ],
   "source": [
    "data.describe()"
   ]
  },
  {
   "cell_type": "code",
   "execution_count": 10,
   "metadata": {
    "id": "xgS9hqMcpgPe"
   },
   "outputs": [],
   "source": [
    "labels = data.pop('Concrete compressive strength(MPa, megapascals) ')"
   ]
  },
  {
   "cell_type": "code",
   "execution_count": 11,
   "metadata": {
    "id": "9xSaqxwIqhYu"
   },
   "outputs": [],
   "source": [
    "data_len = len(data)\n",
    "train_data = data.iloc[:data_len*70//100]\n",
    "test_data = data.iloc[data_len*70//100:]\n",
    "\n",
    "labels_len = len(labels)\n",
    "train_labels = labels.iloc[:labels_len*70//100]\n",
    "test_labels = labels.iloc[labels_len*70//100:]"
   ]
  },
  {
   "cell_type": "markdown",
   "metadata": {
    "id": "31L4lppEsPFH"
   },
   "source": [
    "# **Model : input Layer (No. of features ), 3 hidden layers including 10,8,6 unit & Output Layer with activation function relu/tanh (check by experiment).**"
   ]
  },
  {
   "cell_type": "code",
   "execution_count": 12,
   "metadata": {
    "id": "-io-yW8irr0X"
   },
   "outputs": [
    {
     "name": "stdout",
     "output_type": "stream",
     "text": [
      "INFO:tensorflow:Enabling eager execution\n",
      "INFO:tensorflow:Enabling v2 tensorshape\n",
      "INFO:tensorflow:Enabling resource variables\n",
      "INFO:tensorflow:Enabling tensor equality\n",
      "INFO:tensorflow:Enabling control flow v2\n"
     ]
    }
   ],
   "source": [
    "from tensorflow.keras import models\n",
    "from tensorflow.keras import layers\n",
    "def Train_Me_with_10_8_6_node(activation_function=\"relu\"):\n",
    "  network = models.Sequential()\n",
    "  network.add(layers.Dense(10, activation=activation_function,input_shape=(train_data.shape[1],)))\n",
    "  network.add(layers.Dense(8, activation=activation_function))\n",
    "  network.add(layers.Dense(6, activation=activation_function))\n",
    "  network.add(layers.Dense(1,activation=activation_function))\n",
    "  network.compile(\n",
    "      optimizer=\"rmsprop\",\n",
    "      loss=\"mse\",\n",
    "      metrics=['mae']\n",
    "  )\n",
    "  return network"
   ]
  },
  {
   "cell_type": "code",
   "execution_count": 13,
   "metadata": {
    "id": "GcZ770JpvwYL"
   },
   "outputs": [],
   "source": [
    "from tensorflow.keras import models\n",
    "from tensorflow.keras import layers\n",
    "def Train_Me_with_10_8_6_node_without_act_func_output(activation_function=\"relu\"):\n",
    "  network = models.Sequential()\n",
    "  network.add(layers.Dense(10, activation=activation_function,input_shape=(train_data.shape[1],)))\n",
    "  network.add(layers.Dense(8, activation=activation_function))\n",
    "  network.add(layers.Dense(6, activation=activation_function))\n",
    "  network.add(layers.Dense(1))\n",
    "  network.compile(\n",
    "      optimizer=\"rmsprop\",\n",
    "      loss=\"mse\",\n",
    "      metrics=['mae']\n",
    "  )\n",
    "  return network"
   ]
  },
  {
   "cell_type": "code",
   "execution_count": 14,
   "metadata": {
    "id": "vkVtbY1gsDk8"
   },
   "outputs": [],
   "source": [
    "from tensorflow.keras import models\n",
    "from tensorflow.keras import layers\n",
    "def Train_Me_with_8_6_4_node(activation_function=\"relu\"):\n",
    "  network = models.Sequential()\n",
    "  network.add(layers.Dense(8, activation=activation_function,input_shape=(train_data.shape[1],)))\n",
    "  network.add(layers.Dense(6, activation=activation_function))\n",
    "  network.add(layers.Dense(4, activation=activation_function))\n",
    "  network.add(layers.Dense(1))\n",
    "  network.compile(\n",
    "      optimizer=\"rmsprop\",\n",
    "      loss=\"mse\",\n",
    "      metrics=['mae']\n",
    "  )\n",
    "  return network"
   ]
  },
  {
   "cell_type": "code",
   "execution_count": 15,
   "metadata": {
    "id": "_0KETF1xwUZR"
   },
   "outputs": [],
   "source": [
    "from tensorflow.keras import models\n",
    "from tensorflow.keras import layers\n",
    "def Train_Me_with_8_6_4_node_without_act_func_output(activation_function=\"relu\"):\n",
    "  network = models.Sequential()\n",
    "  network.add(layers.Dense(8, activation=activation_function,input_shape=(train_data.shape[1],)))\n",
    "  network.add(layers.Dense(6, activation=activation_function))\n",
    "  network.add(layers.Dense(4, activation=activation_function))\n",
    "  network.add(layers.Dense(1))\n",
    "  network.compile(\n",
    "      optimizer=\"rmsprop\",\n",
    "      loss=\"mse\",\n",
    "      metrics=['mae']\n",
    "  )\n",
    "  return network"
   ]
  },
  {
   "cell_type": "markdown",
   "metadata": {
    "id": "FpDXvOm_uw1R"
   },
   "source": [
    "# **Training Model with activation function tanh with node 10 8 6 with tanh in output layer**"
   ]
  },
  {
   "cell_type": "code",
   "execution_count": 16,
   "metadata": {
    "colab": {
     "base_uri": "https://localhost:8080/",
     "height": 313
    },
    "id": "tyHycrVbtkU1",
    "outputId": "a033bae9-83f4-4f0d-886e-067f4c2e6c2e"
   },
   "outputs": [
    {
     "data": {
      "image/png": "[encoded data removed]",
      "text/plain": [
       "<Figure size 432x288 with 1 Axes>"
      ]
     },
     "metadata": {
      "needs_background": "light"
     },
     "output_type": "display_data"
    },
    {
     "name": "stdout",
     "output_type": "stream",
     "text": [
      "FOR MODEL1 Minimum Absolute Error = 0.38212892413139343 at index 99\n"
     ]
    }
   ],
   "source": [
    "Model_Results1 = Train_Me_with_10_8_6_node(activation_function=\"tanh\").fit(\n",
    "      train_data,train_labels,batch_size=32,epochs=100,validation_data=(test_data,test_labels),verbose=0\n",
    "  )\n",
    "history_dict = Model_Results1.history\n",
    "mae_values = history_dict['mae']\n",
    "val_mae_values = history_dict['val_mae']\n",
    "epoches = np.arange(1,len(history_dict['mae'])+1)\n",
    "plt.plot(epoches,mae_values,'r',label=\"Training Mae\")\n",
    "plt.plot(epoches,val_mae_values,'g',label=\"Validating Mae\")\n",
    "plt.title('Training and validation Mae')\n",
    "plt.xlabel(\"Epoches\")\n",
    "plt.ylabel(\"Mae\")\n",
    "plt.legend()\n",
    "plt.show()\n",
    "history_dict = Model_Results1.history\n",
    "val_acc_values = history_dict['val_mae']\n",
    "maxi = np.max(val_acc_values)\n",
    "j = 0\n",
    "for x,y in enumerate(val_acc_values):\n",
    "  if maxi >= y:\n",
    "    maxi = y\n",
    "    j = x\n",
    "print(f\"FOR MODEL1 Minimum Absolute Error = {maxi} at index {j}\")"
   ]
  },
  {
   "cell_type": "markdown",
   "metadata": {
    "id": "3FT3cC5LvTlF"
   },
   "source": [
    "# **Training Model with activation function relu with node 10 8 6 with relu in output layer**"
   ]
  },
  {
   "cell_type": "code",
   "execution_count": 17,
   "metadata": {
    "colab": {
     "base_uri": "https://localhost:8080/",
     "height": 313
    },
    "id": "J5fvqZs0vSBb",
    "outputId": "03f66c7c-6d26-4569-8400-d8ebe8904323"
   },
   "outputs": [
    {
     "data": {
      "image/png": "[encoded data removed]",
      "text/plain": [
       "<Figure size 432x288 with 1 Axes>"
      ]
     },
     "metadata": {
      "needs_background": "light"
     },
     "output_type": "display_data"
    },
    {
     "name": "stdout",
     "output_type": "stream",
     "text": [
      "FOR MODEL1 Minimum Absolute Error = 0.5817824006080627 at index 96\n"
     ]
    }
   ],
   "source": [
    "Model_Results2 = Train_Me_with_10_8_6_node(activation_function=\"relu\").fit(\n",
    "      train_data,train_labels,batch_size=32,epochs=100,validation_data=(test_data,test_labels),verbose=0\n",
    "  )\n",
    "history_dict = Model_Results2.history\n",
    "mae_values = history_dict['mae']\n",
    "val_mae_values = history_dict['val_mae']\n",
    "epoches = np.arange(1,len(history_dict['mae'])+1)\n",
    "plt.plot(epoches,mae_values,'r',label=\"Training Mae\")\n",
    "plt.plot(epoches,val_mae_values,'g',label=\"Validating Mae\")\n",
    "plt.title('Training and validation Mae')\n",
    "plt.xlabel(\"Epoches\")\n",
    "plt.ylabel(\"Mae\")\n",
    "plt.legend()\n",
    "plt.show()\n",
    "history_dict = Model_Results2.history\n",
    "val_acc_values = history_dict['val_mae']\n",
    "maxi = np.max(val_acc_values)\n",
    "j = 0\n",
    "for x,y in enumerate(val_acc_values):\n",
    "  if maxi >= y:\n",
    "    maxi = y\n",
    "    j = x\n",
    "print(f\"FOR MODEL1 Minimum Absolute Error = {maxi} at index {j}\")"
   ]
  },
  {
   "cell_type": "markdown",
   "metadata": {
    "id": "JqWX1mD7voxL"
   },
   "source": [
    "# **Training Model with activation function tanh with node 10 8 6 without tanh in output layer**"
   ]
  },
  {
   "cell_type": "code",
   "execution_count": 18,
   "metadata": {
    "colab": {
     "base_uri": "https://localhost:8080/",
     "height": 313
    },
    "id": "r4xLCeMTw2vv",
    "outputId": "1e9d1349-a2d8-4b0c-9935-2cf1270b1eb0"
   },
   "outputs": [
    {
     "data": {
      "image/png": "[encoded data removed]",
      "text/plain": [
       "<Figure size 432x288 with 1 Axes>"
      ]
     },
     "metadata": {
      "needs_background": "light"
     },
     "output_type": "display_data"
    },
    {
     "name": "stdout",
     "output_type": "stream",
     "text": [
      "FOR MODEL1 Minimum Absolute Error = 0.2932048439979553 at index 98\n"
     ]
    }
   ],
   "source": [
    "Model_Results3 = Train_Me_with_10_8_6_node_without_act_func_output(activation_function=\"tanh\").fit(\n",
    "      train_data,train_labels,batch_size=32,epochs=100,validation_data=(test_data,test_labels),verbose=0\n",
    "  )\n",
    "history_dict = Model_Results3.history\n",
    "mae_values = history_dict['mae']\n",
    "val_mae_values = history_dict['val_mae']\n",
    "epoches = np.arange(1,len(history_dict['mae'])+1)\n",
    "plt.plot(epoches,mae_values,'r',label=\"Training Mae\")\n",
    "plt.plot(epoches,val_mae_values,'g',label=\"Validating Mae\")\n",
    "plt.title('Training and validation Mae')\n",
    "plt.xlabel(\"Epoches\")\n",
    "plt.ylabel(\"Mae\")\n",
    "plt.legend()\n",
    "plt.show()\n",
    "history_dict = Model_Results3.history\n",
    "val_acc_values = history_dict['val_mae']\n",
    "maxi = np.max(val_acc_values)\n",
    "j = 0\n",
    "for x,y in enumerate(val_acc_values):\n",
    "  if maxi >= y:\n",
    "    maxi = y\n",
    "    j = x\n",
    "print(f\"FOR MODEL1 Minimum Absolute Error = {maxi} at index {j}\")"
   ]
  },
  {
   "cell_type": "markdown",
   "metadata": {
    "id": "uA1nW-tuwtVM"
   },
   "source": [
    "# **Training Model with activation function relu with node 10 8 6 without relu in output layer**"
   ]
  },
  {
   "cell_type": "code",
   "execution_count": 19,
   "metadata": {
    "colab": {
     "base_uri": "https://localhost:8080/",
     "height": 313
    },
    "id": "Uj3VeGp4vm4l",
    "outputId": "334268cc-618d-476f-d7a8-8fc8d8e944b0"
   },
   "outputs": [
    {
     "data": {
      "image/png": "[encoded data removed]",
      "text/plain": [
       "<Figure size 432x288 with 1 Axes>"
      ]
     },
     "metadata": {
      "needs_background": "light"
     },
     "output_type": "display_data"
    },
    {
     "name": "stdout",
     "output_type": "stream",
     "text": [
      "FOR MODEL1 Minimum Absolute Error = 0.3297099769115448 at index 99\n"
     ]
    }
   ],
   "source": [
    "Model_Results4 = Train_Me_with_10_8_6_node_without_act_func_output(activation_function=\"relu\").fit(\n",
    "      train_data,train_labels,batch_size=32,epochs=100,validation_data=(test_data,test_labels),verbose=0\n",
    "  )\n",
    "history_dict = Model_Results4.history\n",
    "mae_values = history_dict['mae']\n",
    "val_mae_values = history_dict['val_mae']\n",
    "epoches = np.arange(1,len(history_dict['mae'])+1)\n",
    "plt.plot(epoches,mae_values,'r',label=\"Training Mae\")\n",
    "plt.plot(epoches,val_mae_values,'g',label=\"Validating Mae\")\n",
    "plt.title('Training and validation Mae')\n",
    "plt.xlabel(\"Epoches\")\n",
    "plt.ylabel(\"Mae\")\n",
    "plt.legend()\n",
    "plt.show()\n",
    "history_dict = Model_Results4.history\n",
    "val_acc_values = history_dict['val_mae']\n",
    "maxi = np.max(val_acc_values)\n",
    "j = 0\n",
    "for x,y in enumerate(val_acc_values):\n",
    "  if maxi >= y:\n",
    "    maxi = y\n",
    "    j = x\n",
    "print(f\"FOR MODEL1 Minimum Absolute Error = {maxi} at index {j}\")"
   ]
  },
  {
   "cell_type": "markdown",
   "metadata": {
    "id": "Wdkf2MJ0xlgl"
   },
   "source": [
    "# **Training Model with activation function tanh with node 8 6 4 with tanh in output layer**"
   ]
  },
  {
   "cell_type": "code",
   "execution_count": 20,
   "metadata": {
    "colab": {
     "base_uri": "https://localhost:8080/",
     "height": 313
    },
    "id": "Bkp3lMXWyIMo",
    "outputId": "9c53e113-d729-40db-b169-ccbd1963a451"
   },
   "outputs": [
    {
     "data": {
      "image/png": "[encoded data removed]",
      "text/plain": [
       "<Figure size 432x288 with 1 Axes>"
      ]
     },
     "metadata": {
      "needs_background": "light"
     },
     "output_type": "display_data"
    },
    {
     "name": "stdout",
     "output_type": "stream",
     "text": [
      "FOR MODEL1 Minimum Absolute Error = 0.3110593855381012 at index 99\n"
     ]
    }
   ],
   "source": [
    "Model_Results5 = Train_Me_with_8_6_4_node(activation_function=\"tanh\").fit(\n",
    "      train_data,train_labels,batch_size=32,epochs=100,validation_data=(test_data,test_labels),verbose=0\n",
    "  )\n",
    "history_dict = Model_Results5.history\n",
    "mae_values = history_dict['mae']\n",
    "val_mae_values = history_dict['val_mae']\n",
    "epoches = np.arange(1,len(history_dict['mae'])+1)\n",
    "plt.plot(epoches,mae_values,'r',label=\"Training Mae\")\n",
    "plt.plot(epoches,val_mae_values,'g',label=\"Validating Mae\")\n",
    "plt.title('Training and validation Mae')\n",
    "plt.xlabel(\"Epoches\")\n",
    "plt.ylabel(\"Mae\")\n",
    "plt.legend()\n",
    "plt.show()\n",
    "history_dict = Model_Results5.history\n",
    "val_acc_values = history_dict['val_mae']\n",
    "maxi = np.max(val_acc_values)\n",
    "j = 0\n",
    "for x,y in enumerate(val_acc_values):\n",
    "  if maxi >= y:\n",
    "    maxi = y\n",
    "    j = x\n",
    "print(f\"FOR MODEL1 Minimum Absolute Error = {maxi} at index {j}\")"
   ]
  },
  {
   "cell_type": "markdown",
   "metadata": {
    "id": "Xf1Jmg-Ex3Dv"
   },
   "source": [
    "# **Training Model with activation function relu with node 8 6 4 with relu in output layer**"
   ]
  },
  {
   "cell_type": "code",
   "execution_count": 21,
   "metadata": {
    "colab": {
     "base_uri": "https://localhost:8080/",
     "height": 313
    },
    "id": "1p_O4XXzyJmT",
    "outputId": "f447d0da-6195-42e5-97ff-52b61f418fa8"
   },
   "outputs": [
    {
     "data": {
      "image/png": "[encoded data removed]",
      "text/plain": [
       "<Figure size 432x288 with 1 Axes>"
      ]
     },
     "metadata": {
      "needs_background": "light"
     },
     "output_type": "display_data"
    },
    {
     "name": "stdout",
     "output_type": "stream",
     "text": [
      "FOR MODEL1 Minimum Absolute Error = 0.2906022369861603 at index 99\n"
     ]
    }
   ],
   "source": [
    "Model_Results6 = Train_Me_with_8_6_4_node(activation_function=\"relu\").fit(\n",
    "      train_data,train_labels,batch_size=32,epochs=100,validation_data=(test_data,test_labels),verbose=0\n",
    "  )\n",
    "history_dict = Model_Results6.history\n",
    "mae_values = history_dict['mae']\n",
    "val_mae_values = history_dict['val_mae']\n",
    "epoches = np.arange(1,len(history_dict['mae'])+1)\n",
    "plt.plot(epoches,mae_values,'r',label=\"Training Mae\")\n",
    "plt.plot(epoches,val_mae_values,'g',label=\"Validating Mae\")\n",
    "plt.title('Training and validation Mae')\n",
    "plt.xlabel(\"Epoches\")\n",
    "plt.ylabel(\"Mae\")\n",
    "plt.legend()\n",
    "plt.show()\n",
    "history_dict = Model_Results6.history\n",
    "val_acc_values = history_dict['val_mae']\n",
    "maxi = np.max(val_acc_values)\n",
    "j = 0\n",
    "for x,y in enumerate(val_acc_values):\n",
    "  if maxi >= y:\n",
    "    maxi = y\n",
    "    j = x\n",
    "print(f\"FOR MODEL1 Minimum Absolute Error = {maxi} at index {j}\")"
   ]
  },
  {
   "cell_type": "markdown",
   "metadata": {
    "id": "D-sf-TOzx2wh"
   },
   "source": [
    "# **Training Model with activation function tanh with node 8 6 4 without tanh in output layer**"
   ]
  },
  {
   "cell_type": "code",
   "execution_count": 22,
   "metadata": {
    "colab": {
     "base_uri": "https://localhost:8080/",
     "height": 313
    },
    "id": "89_B47CPyMeu",
    "outputId": "0dacd4c2-690a-410a-9fcf-9409d8619b8c"
   },
   "outputs": [
    {
     "data": {
      "image/png": "[encoded data removed]",
      "text/plain": [
       "<Figure size 432x288 with 1 Axes>"
      ]
     },
     "metadata": {
      "needs_background": "light"
     },
     "output_type": "display_data"
    },
    {
     "name": "stdout",
     "output_type": "stream",
     "text": [
      "FOR MODEL1 Minimum Absolute Error = 0.3074028193950653 at index 92\n"
     ]
    }
   ],
   "source": [
    "Model_Results7 = Train_Me_with_8_6_4_node_without_act_func_output(activation_function=\"tanh\").fit(\n",
    "      train_data,train_labels,batch_size=32,epochs=100,validation_data=(test_data,test_labels),verbose=0\n",
    "  )\n",
    "history_dict = Model_Results7.history\n",
    "mae_values = history_dict['mae']\n",
    "val_mae_values = history_dict['val_mae']\n",
    "epoches = np.arange(1,len(history_dict['mae'])+1)\n",
    "plt.plot(epoches,mae_values,'r',label=\"Training Mae\")\n",
    "plt.plot(epoches,val_mae_values,'g',label=\"Validating Mae\")\n",
    "plt.title('Training and validation Mae')\n",
    "plt.xlabel(\"Epoches\")\n",
    "plt.ylabel(\"Mae\")\n",
    "plt.legend()\n",
    "plt.show()\n",
    "history_dict = Model_Results7.history\n",
    "val_acc_values = history_dict['val_mae']\n",
    "maxi = np.max(val_acc_values)\n",
    "j = 0\n",
    "for x,y in enumerate(val_acc_values):\n",
    "  if maxi >= y:\n",
    "    maxi = y\n",
    "    j = x\n",
    "print(f\"FOR MODEL1 Minimum Absolute Error = {maxi} at index {j}\")"
   ]
  },
  {
   "cell_type": "markdown",
   "metadata": {
    "id": "ZPttcy8Tx2Oo"
   },
   "source": [
    "# **Training Model with activation function relu with node 8 6 4 without relu in output layer**"
   ]
  },
  {
   "cell_type": "code",
   "execution_count": 23,
   "metadata": {
    "colab": {
     "base_uri": "https://localhost:8080/",
     "height": 313
    },
    "id": "b-BiWI_4xfeN",
    "outputId": "9f2694d0-a716-4da4-f696-f9779c07e688"
   },
   "outputs": [
    {
     "data": {
      "image/png": "[encoded data removed]",
      "text/plain": [
       "<Figure size 432x288 with 1 Axes>"
      ]
     },
     "metadata": {
      "needs_background": "light"
     },
     "output_type": "display_data"
    },
    {
     "name": "stdout",
     "output_type": "stream",
     "text": [
      "FOR MODEL1 Minimum Absolute Error = 0.3020952045917511 at index 97\n"
     ]
    }
   ],
   "source": [
    "Model_Results8 = Train_Me_with_8_6_4_node_without_act_func_output(activation_function=\"relu\").fit(\n",
    "      train_data,train_labels,batch_size=32,epochs=100,validation_data=(test_data,test_labels),verbose=0\n",
    "  )\n",
    "history_dict = Model_Results8.history\n",
    "mae_values = history_dict['mae']\n",
    "val_mae_values = history_dict['val_mae']\n",
    "epoches = np.arange(1,len(history_dict['mae'])+1)\n",
    "plt.plot(epoches,mae_values,'r',label=\"Training Mae\")\n",
    "plt.plot(epoches,val_mae_values,'g',label=\"Validating Mae\")\n",
    "plt.title('Training and validation Mae')\n",
    "plt.xlabel(\"Epoches\")\n",
    "plt.ylabel(\"Mae\")\n",
    "plt.legend()\n",
    "plt.show()\n",
    "history_dict = Model_Results8.history\n",
    "val_acc_values = history_dict['val_mae']\n",
    "maxi = np.max(val_acc_values)\n",
    "j = 0\n",
    "for x,y in enumerate(val_acc_values):\n",
    "  if maxi >= y:\n",
    "    maxi = y\n",
    "    j = x\n",
    "print(f\"FOR MODEL1 Minimum Absolute Error = {maxi} at index {j}\")"
   ]
  },
  {
   "cell_type": "markdown",
   "metadata": {
    "id": "RlJxd7tf5K7W"
   },
   "source": [
    "# **After all Experiments We conclude that Model with activation function tanh with node 8 6 4 and with tanh in output layer has mininum MAE value**"
   ]
  },
  {
   "cell_type": "markdown",
   "metadata": {
    "id": "JEmIrm0n-BgO"
   },
   "source": [
    "**Now Removing OverFitting**"
   ]
  },
  {
   "cell_type": "code",
   "execution_count": 24,
   "metadata": {
    "colab": {
     "base_uri": "https://localhost:8080/",
     "height": 313
    },
    "id": "j_ENTX6_4py9",
    "outputId": "e02eead1-cfec-40a7-acfd-638d0eb708e7"
   },
   "outputs": [
    {
     "data": {
      "image/png": "[encoded data removed]",
      "text/plain": [
       "<Figure size 432x288 with 1 Axes>"
      ]
     },
     "metadata": {
      "needs_background": "light"
     },
     "output_type": "display_data"
    },
    {
     "name": "stdout",
     "output_type": "stream",
     "text": [
      "FOR MODEL1 Minimum Absolute Error = 0.38202860951423645 at index 29\n"
     ]
    }
   ],
   "source": [
    "Model_OPT_Results = Train_Me_with_8_6_4_node(activation_function=\"tanh\").fit(\n",
    "      train_data,train_labels,batch_size=32,epochs=30,validation_data=(test_data,test_labels),verbose=0\n",
    "  )\n",
    "history_dict = Model_OPT_Results.history\n",
    "mae_values = history_dict['mae']\n",
    "val_mae_values = history_dict['val_mae']\n",
    "epoches = np.arange(1,len(history_dict['mae'])+1)\n",
    "plt.plot(epoches,mae_values,'r',label=\"Training Mae\")\n",
    "plt.plot(epoches,val_mae_values,'g',label=\"Validating Mae\")\n",
    "plt.title('Training and validation Mae')\n",
    "plt.xlabel(\"Epoches\")\n",
    "plt.ylabel(\"Mae\")\n",
    "plt.legend()\n",
    "plt.show()\n",
    "history_dict = Model_OPT_Results.history\n",
    "val_acc_values = history_dict['val_mae']\n",
    "maxi = np.max(val_acc_values)\n",
    "j = 0\n",
    "for x,y in enumerate(val_acc_values):\n",
    "  if maxi >= y:\n",
    "    maxi = y\n",
    "    j = x\n",
    "print(f\"FOR MODEL1 Minimum Absolute Error = {maxi} at index {j}\")"
   ]
  },
  {
   "cell_type": "markdown",
   "metadata": {
    "id": "xTyZnb3x-4CK"
   },
   "source": [
    "# **Using K_fold technique**"
   ]
  },
  {
   "cell_type": "code",
   "execution_count": 25,
   "metadata": {
    "colab": {
     "base_uri": "https://localhost:8080/"
    },
    "id": "Fo_emfS7-c31",
    "outputId": "83bc6935-09ff-42a4-8a26-24d22485c5a4"
   },
   "outputs": [
    {
     "name": "stdout",
     "output_type": "stream",
     "text": [
      "processing fold # 0\n",
      "processing fold # 1\n",
      "processing fold # 2\n",
      "processing fold # 3\n",
      "processing fold # 4\n",
      "On Eveluation Average using RELU and having 30 epoches is 0.2695469260215759\n"
     ]
    }
   ],
   "source": [
    "k =  5\n",
    "num_val_samples = len(train_data) // k\n",
    "num_epochs = 30\n",
    "all_scores_relu = []\n",
    "model = Train_Me_with_8_6_4_node(activation_function=\"tanh\")\n",
    "\n",
    "for i in range(k):\n",
    "  print('processing fold #', i)\n",
    "  val_data = train_data[i * num_val_samples: (i + 1) * num_val_samples]\n",
    "  val_targets = train_labels[i * num_val_samples: (i + 1) * num_val_samples]\n",
    "  partial_train_data = np.concatenate([train_data[:i * num_val_samples],train_data[(i + 1) * num_val_samples:]],  axis=0)\n",
    "  partial_train_targets = np.concatenate([train_labels[:i * num_val_samples],train_labels[(i + 1) * num_val_samples:]],axis=0)\n",
    "  Final_Model = model.fit(partial_train_data, partial_train_targets,epochs = num_epochs, batch_size=1,verbose=0)\n",
    "  val_mse, val_mae = model.evaluate(val_data, val_targets, verbose=0)\n",
    "  all_scores_relu.append(val_mae)\n",
    "  history_dict = Final_Model.history\n",
    "  mae_values = history_dict['mae']\n",
    "print(f\"On Eveluation Average using RELU and having {num_epochs} epoches is {np.average(all_scores_relu)}\")"
   ]
  },
  {
   "cell_type": "markdown",
   "metadata": {
    "id": "QzUCDvcbAY_9"
   },
   "source": [
    "# **Predictions show**"
   ]
  },
  {
   "cell_type": "code",
   "execution_count": 26,
   "metadata": {
    "id": "76ENxkw0_ihD"
   },
   "outputs": [],
   "source": [
    "Predicted_val = model.predict(test_data)"
   ]
  },
  {
   "cell_type": "code",
   "execution_count": 27,
   "metadata": {
    "id": "DVDrWmbOHA_Z"
   },
   "outputs": [],
   "source": [
    "test_labels = np.array(test_labels)"
   ]
  },
  {
   "cell_type": "code",
   "execution_count": 28,
   "metadata": {
    "id": "L6-SQsWxALlj"
   },
   "outputs": [],
   "source": [
    "def Predit(m=4):\n",
    "  print(f\" the Actual value Price was : {test_labels[m]*labels_std+labels_mean} \\n the Predicted value Price was : {Predicted_val[m]*labels_std+labels_mean} \")\n"
   ]
  },
  {
   "cell_type": "code",
   "execution_count": 29,
   "metadata": {
    "id": "zy7JQdngArss"
   },
   "outputs": [],
   "source": [
    "y_true = test_labels\n",
    "y_pred = Predicted_val.flatten()"
   ]
  },
  {
   "cell_type": "code",
   "execution_count": 30,
   "metadata": {
    "colab": {
     "base_uri": "https://localhost:8080/",
     "height": 313
    },
    "id": "PUBv9yVnRy2B",
    "outputId": "d687bc85-dd31-499e-9970-47092c406316"
   },
   "outputs": [
    {
     "data": {
      "text/plain": [
       "(0.0, 1.0)"
      ]
     },
     "execution_count": 30,
     "metadata": {},
     "output_type": "execute_result"
    },
    {
     "data": {
      "image/png": "[encoded data removed]",
      "text/plain": [
       "<Figure size 432x288 with 1 Axes>"
      ]
     },
     "metadata": {
      "needs_background": "light"
     },
     "output_type": "display_data"
    }
   ],
   "source": [
    "import numpy as np\n",
    "import matplotlib.pyplot as plt\n",
    "%matplotlib inline\n",
    "coef = np.polyfit(y_true,y_pred,1)\n",
    "poly1d_fn = np.poly1d(coef) \n",
    "# poly1d_fn is now a function which takes in x and returns an estimate for y\n",
    "plt.figure()\n",
    "plt.plot(y_true,y_pred, 'yo', y_true, poly1d_fn(y_true), '--k')\n",
    "plt.title('MAE with K fold and with relu')\n",
    "plt.xlabel('Thousand Dollar True' )\n",
    "plt.ylabel('Thousand Dollar Predictions' )\n",
    "plt.xlim(0, 1)\n",
    "plt.ylim(0, 1)"
   ]
  },
  {
   "cell_type": "code",
   "execution_count": 86,
   "metadata": {
    "id": "3Xrsv91LYSPe"
   },
   "outputs": [],
   "source": []
  }
 ],
 "metadata": {
  "colab": {
   "collapsed_sections": [],
   "name": "Concrete Strength Assignment2.ipynb",
   "provenance": []
  },
  "kernelspec": {
   "display_name": "Python 3",
   "language": "python",
   "name": "python3"
  },
  "language_info": {
   "codemirror_mode": {
    "name": "ipython",
    "version": 3
   },
   "file_extension": ".py",
   "mimetype": "text/x-python",
   "name": "python",
   "nbconvert_exporter": "python",
   "pygments_lexer": "ipython3",
   "version": "3.9.4"
  }
 },
 "nbformat": 4,
 "nbformat_minor": 1
}
