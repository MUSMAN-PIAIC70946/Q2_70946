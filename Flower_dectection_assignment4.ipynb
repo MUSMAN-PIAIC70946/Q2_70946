{
  "nbformat": 4,
  "nbformat_minor": 0,
  "metadata": {
    "colab": {
      "name": "Flower_dectection_assignment_4_.ipynb",
      "provenance": [],
      "collapsed_sections": []
    },
    "kernelspec": {
      "name": "python3",
      "display_name": "Python 3"
    },
    "language_info": {
      "name": "python"
    },
    "accelerator": "GPU"
  },
  "cells": [
    {
      "cell_type": "code",
      "metadata": {
        "id": "BL-UDz_NwlzB"
      },
      "source": [
        "import pandas as pd\n",
        "import numpy as np\n",
        "import matplotlib.pyplot as plt\n",
        "import tensorflow as tf\n",
        "import glob as gb\n",
        "import cv2\n",
        "import pandas as pd\n",
        "import tensorflow as tf\n",
        "from tensorflow.keras import models\n",
        "from tensorflow.keras import layers\n",
        "from tensorflow.keras.preprocessing.image import ImageDataGenerator\n",
        "from tensorflow.keras.models import Sequential\n",
        "from tensorflow.keras.layers import Dense, Flatten\n",
        "from tensorflow.keras.optimizers import RMSprop\n",
        "from pathlib import Path"
      ],
      "execution_count": 1,
      "outputs": []
    },
    {
      "cell_type": "code",
      "metadata": {
        "colab": {
          "base_uri": "https://localhost:8080/"
        },
        "id": "sejXaLGQ6RgS",
        "outputId": "14225b77-327a-4840-c089-a43fcb8ed1eb"
      },
      "source": [
        "from google.colab import drive\n",
        "drive.mount('/content/drive')"
      ],
      "execution_count": 2,
      "outputs": [
        {
          "output_type": "stream",
          "text": [
            "Drive already mounted at /content/drive; to attempt to forcibly remount, call drive.mount(\"/content/drive\", force_remount=True).\n"
          ],
          "name": "stdout"
        }
      ]
    },
    {
      "cell_type": "markdown",
      "metadata": {
        "id": "rtFGZQz915GB"
      },
      "source": [
        "# **Reading data from Google Drive**"
      ]
    },
    {
      "cell_type": "code",
      "metadata": {
        "colab": {
          "base_uri": "https://localhost:8080/"
        },
        "id": "-NGAk23wy9tN",
        "outputId": "aed0ecb8-224a-4e30-de1f-07c9da054e28"
      },
      "source": [
        "with tf.device('/device:GPU:1'):\n",
        "  flower = []\n",
        "  features = []\n",
        "  labels = []\n",
        "  directory = Path('/content/drive/MyDrive/flowers')\n",
        "  for dir in directory.iterdir():\n",
        "    flower.append(dir.name)\n",
        "    print(dir.name)\n",
        "    for imgpath in dir.iterdir():\n",
        "      if imgpath.name.endswith('jpg'):\n",
        "        labels.append(dir.name)\n",
        "        imgarr = cv2.imread(str(imgpath),cv2.IMREAD_GRAYSCALE)\n",
        "        imgarr = cv2.resize(imgarr,(150,150))\n",
        "        features.append(imgarr)"
      ],
      "execution_count": 3,
      "outputs": [
        {
          "output_type": "stream",
          "text": [
            "daisy\n",
            "rose\n",
            "sunflower\n",
            "dandelion\n",
            "tulip\n"
          ],
          "name": "stdout"
        }
      ]
    },
    {
      "cell_type": "code",
      "metadata": {
        "colab": {
          "base_uri": "https://localhost:8080/"
        },
        "id": "e2T1Mut0OXdJ",
        "outputId": "e9435726-2ae7-4e6d-9778-4203ca131078"
      },
      "source": [
        "np.array(features).shape"
      ],
      "execution_count": 4,
      "outputs": [
        {
          "output_type": "execute_result",
          "data": {
            "text/plain": [
              "(4348, 150, 150)"
            ]
          },
          "metadata": {
            "tags": []
          },
          "execution_count": 4
        }
      ]
    },
    {
      "cell_type": "markdown",
      "metadata": {
        "id": "WLV5gNKI2CwC"
      },
      "source": [
        "Shuffling Data and Labels with Seed"
      ]
    },
    {
      "cell_type": "code",
      "metadata": {
        "id": "b89pHxr4P0AO"
      },
      "source": [
        "seed = np.random.randint(100)\n",
        "np.random.seed(seed)\n",
        "np.random.shuffle(features)\n",
        "np.random.seed(seed)\n",
        "np.random.shuffle(labels)"
      ],
      "execution_count": 5,
      "outputs": []
    },
    {
      "cell_type": "markdown",
      "metadata": {
        "id": "koOszUWa2L9F"
      },
      "source": [
        "# **For One Hot Encode processing Data**"
      ]
    },
    {
      "cell_type": "code",
      "metadata": {
        "colab": {
          "base_uri": "https://localhost:8080/"
        },
        "id": "VBZq_EjTWFe7",
        "outputId": "f33fd6fa-d71f-4765-bbd7-c4065e615bfb"
      },
      "source": [
        "all_labels = pd.Series(labels)\n",
        "all_labels.unique()\n",
        "all_labels_cat = all_labels.astype('category')\n",
        "all_labels_cat"
      ],
      "execution_count": 6,
      "outputs": [
        {
          "output_type": "execute_result",
          "data": {
            "text/plain": [
              "0           tulip\n",
              "1       sunflower\n",
              "2            rose\n",
              "3            rose\n",
              "4       sunflower\n",
              "          ...    \n",
              "4343    dandelion\n",
              "4344    sunflower\n",
              "4345    dandelion\n",
              "4346         rose\n",
              "4347        tulip\n",
              "Length: 4348, dtype: category\n",
              "Categories (5, object): ['daisy', 'dandelion', 'rose', 'sunflower', 'tulip']"
            ]
          },
          "metadata": {
            "tags": []
          },
          "execution_count": 6
        }
      ]
    },
    {
      "cell_type": "code",
      "metadata": {
        "colab": {
          "base_uri": "https://localhost:8080/"
        },
        "id": "043JKuzJjTdV",
        "outputId": "1721f469-e47b-4490-cee7-f1b005948030"
      },
      "source": [
        "all_labels_cat = all_labels.astype('category').cat.codes\n",
        "print(all_labels_cat.head())\n",
        "from keras.utils.np_utils import to_categorical\n",
        "allEncodedLabels = to_categorical(all_labels_cat)\n",
        "len(allEncodedLabels)"
      ],
      "execution_count": 7,
      "outputs": [
        {
          "output_type": "stream",
          "text": [
            "0    4\n",
            "1    3\n",
            "2    2\n",
            "3    2\n",
            "4    3\n",
            "dtype: int8\n"
          ],
          "name": "stdout"
        },
        {
          "output_type": "execute_result",
          "data": {
            "text/plain": [
              "4348"
            ]
          },
          "metadata": {
            "tags": []
          },
          "execution_count": 7
        }
      ]
    },
    {
      "cell_type": "markdown",
      "metadata": {
        "id": "bsOutcCt2WgV"
      },
      "source": [
        "# **Dividing data in Training,validation and Testind datasets**"
      ]
    },
    {
      "cell_type": "code",
      "metadata": {
        "id": "C0egj8klSRSZ"
      },
      "source": [
        "data_len = len(features)\n",
        "train_data = features[:data_len*50//100]\n",
        "val_data = features[data_len*50//100:data_len*70//100]\n",
        "test_data = features[data_len*70//100:]\n",
        "labels_len = len(allEncodedLabels)\n",
        "train_labels = allEncodedLabels[:labels_len*50//100]\n",
        "val_labels = allEncodedLabels[labels_len*50//100:labels_len*70//100]\n",
        "test_labels = allEncodedLabels[labels_len*70//100:]"
      ],
      "execution_count": 8,
      "outputs": []
    },
    {
      "cell_type": "code",
      "metadata": {
        "id": "FFBf-2UKSu4r"
      },
      "source": [
        "train_data = np.array(train_data)\n",
        "val_data = np.array(val_data)\n",
        "test_data = np.array(test_data)\n",
        "# tarin_data = np.array(train_data)\n",
        "# tarin_data = np.array(train_data)\n",
        "# tarin_data = np.array(train_data)"
      ],
      "execution_count": 9,
      "outputs": []
    },
    {
      "cell_type": "markdown",
      "metadata": {
        "id": "oGNFTZ6o2kOT"
      },
      "source": [
        "# **ReShapeing and Normalizing data**"
      ]
    },
    {
      "cell_type": "code",
      "metadata": {
        "id": "m4a8cunXS7Zx"
      },
      "source": [
        "train_data = train_data.reshape((2174,150*150))\n",
        "val_data = val_data.reshape((869,150*150))\n",
        "test_data = test_data.reshape((1305,150*150))\n",
        "train_data = train_data.astype(\"float32\")/255\n",
        "val_data = val_data.astype(\"float32\")/255\n",
        "test_data = test_data.astype(\"float32\")/255"
      ],
      "execution_count": 11,
      "outputs": []
    },
    {
      "cell_type": "markdown",
      "metadata": {
        "id": "2QLlw6LK2shp"
      },
      "source": [
        "# **Preparing Model with Relu as activation function**"
      ]
    },
    {
      "cell_type": "code",
      "metadata": {
        "id": "UNwCkCM8Y5rG"
      },
      "source": [
        "from keras import models\n",
        "from keras import layers\n",
        "network = models.Sequential()\n",
        "network.add(layers.Dense(512, activation='relu', input_shape=(150*150,)))\n",
        "network.add(layers.Dense(256, activation='relu'))\n",
        "network.add(layers.Dense(5, activation='softmax'))"
      ],
      "execution_count": 12,
      "outputs": []
    },
    {
      "cell_type": "code",
      "metadata": {
        "id": "GoPjkcXemSWg"
      },
      "source": [
        "network.compile(optimizer='rmsprop',\n",
        "loss='categorical_crossentropy',\n",
        "metrics=['accuracy'])"
      ],
      "execution_count": 13,
      "outputs": []
    },
    {
      "cell_type": "code",
      "metadata": {
        "colab": {
          "base_uri": "https://localhost:8080/"
        },
        "id": "VxsfGNagm-To",
        "outputId": "e622bcb9-1124-48b0-f00e-a2978f02e00e"
      },
      "source": [
        "with tf.device('/device:GPU:1'):\n",
        "  model = network.fit(train_data, train_labels, epochs=100, batch_size=256,validation_data=(val_data,val_labels))"
      ],
      "execution_count": 14,
      "outputs": [
        {
          "output_type": "stream",
          "text": [
            "Epoch 1/100\n",
            "9/9 [==============================] - 4s 377ms/step - loss: 50.3422 - accuracy: 0.2213 - val_loss: 16.3283 - val_accuracy: 0.1726\n",
            "Epoch 2/100\n",
            "9/9 [==============================] - 3s 344ms/step - loss: 12.9618 - accuracy: 0.1927 - val_loss: 10.2150 - val_accuracy: 0.2198\n",
            "Epoch 3/100\n",
            "9/9 [==============================] - 3s 345ms/step - loss: 7.0611 - accuracy: 0.2272 - val_loss: 5.1059 - val_accuracy: 0.2451\n",
            "Epoch 4/100\n",
            "9/9 [==============================] - 3s 352ms/step - loss: 5.9352 - accuracy: 0.2390 - val_loss: 3.4204 - val_accuracy: 0.2463\n",
            "Epoch 5/100\n",
            "9/9 [==============================] - 3s 350ms/step - loss: 4.2422 - accuracy: 0.2364 - val_loss: 3.8766 - val_accuracy: 0.1876\n",
            "Epoch 6/100\n",
            "9/9 [==============================] - 3s 347ms/step - loss: 4.1704 - accuracy: 0.2162 - val_loss: 1.7846 - val_accuracy: 0.2428\n",
            "Epoch 7/100\n",
            "9/9 [==============================] - 3s 344ms/step - loss: 2.1680 - accuracy: 0.2306 - val_loss: 2.6554 - val_accuracy: 0.2244\n",
            "Epoch 8/100\n",
            "9/9 [==============================] - 3s 350ms/step - loss: 2.6688 - accuracy: 0.2424 - val_loss: 2.2345 - val_accuracy: 0.2474\n",
            "Epoch 9/100\n",
            "9/9 [==============================] - 3s 347ms/step - loss: 2.0957 - accuracy: 0.2580 - val_loss: 1.8330 - val_accuracy: 0.2094\n",
            "Epoch 10/100\n",
            "9/9 [==============================] - 3s 346ms/step - loss: 1.7263 - accuracy: 0.2323 - val_loss: 1.5625 - val_accuracy: 0.2808\n",
            "Epoch 11/100\n",
            "9/9 [==============================] - 3s 344ms/step - loss: 1.5593 - accuracy: 0.2745 - val_loss: 1.8200 - val_accuracy: 0.2831\n",
            "Epoch 12/100\n",
            "9/9 [==============================] - 3s 344ms/step - loss: 1.8159 - accuracy: 0.2450 - val_loss: 3.5370 - val_accuracy: 0.2474\n",
            "Epoch 13/100\n",
            "9/9 [==============================] - 3s 342ms/step - loss: 2.9696 - accuracy: 0.2343 - val_loss: 1.5821 - val_accuracy: 0.2716\n",
            "Epoch 14/100\n",
            "9/9 [==============================] - 3s 342ms/step - loss: 1.7599 - accuracy: 0.2486 - val_loss: 1.5386 - val_accuracy: 0.2946\n",
            "Epoch 15/100\n",
            "9/9 [==============================] - 3s 347ms/step - loss: 1.5366 - accuracy: 0.2872 - val_loss: 1.8348 - val_accuracy: 0.2497\n",
            "Epoch 16/100\n",
            "9/9 [==============================] - 3s 343ms/step - loss: 1.9973 - accuracy: 0.2400 - val_loss: 1.5399 - val_accuracy: 0.2900\n",
            "Epoch 17/100\n",
            "9/9 [==============================] - 3s 346ms/step - loss: 1.5557 - accuracy: 0.2818 - val_loss: 1.5654 - val_accuracy: 0.2555\n",
            "Epoch 18/100\n",
            "9/9 [==============================] - 3s 346ms/step - loss: 1.6823 - accuracy: 0.2806 - val_loss: 1.5938 - val_accuracy: 0.2681\n",
            "Epoch 19/100\n",
            "9/9 [==============================] - 3s 345ms/step - loss: 1.5500 - accuracy: 0.2994 - val_loss: 1.6378 - val_accuracy: 0.2255\n",
            "Epoch 20/100\n",
            "9/9 [==============================] - 3s 342ms/step - loss: 1.6535 - accuracy: 0.2667 - val_loss: 1.5623 - val_accuracy: 0.3026\n",
            "Epoch 21/100\n",
            "9/9 [==============================] - 3s 339ms/step - loss: 1.5296 - accuracy: 0.3117 - val_loss: 1.5347 - val_accuracy: 0.3188\n",
            "Epoch 22/100\n",
            "9/9 [==============================] - 3s 331ms/step - loss: 1.5158 - accuracy: 0.3040 - val_loss: 1.5623 - val_accuracy: 0.2934\n",
            "Epoch 23/100\n",
            "9/9 [==============================] - 3s 340ms/step - loss: 1.5516 - accuracy: 0.3089 - val_loss: 1.6507 - val_accuracy: 0.3003\n",
            "Epoch 24/100\n",
            "9/9 [==============================] - 3s 341ms/step - loss: 1.5790 - accuracy: 0.2782 - val_loss: 1.5178 - val_accuracy: 0.3026\n",
            "Epoch 25/100\n",
            "9/9 [==============================] - 3s 339ms/step - loss: 1.6117 - accuracy: 0.3361 - val_loss: 2.1408 - val_accuracy: 0.2244\n",
            "Epoch 26/100\n",
            "9/9 [==============================] - 3s 347ms/step - loss: 1.7261 - accuracy: 0.2812 - val_loss: 1.5380 - val_accuracy: 0.3015\n",
            "Epoch 27/100\n",
            "9/9 [==============================] - 3s 336ms/step - loss: 1.5090 - accuracy: 0.3287 - val_loss: 1.5837 - val_accuracy: 0.2773\n",
            "Epoch 28/100\n",
            "9/9 [==============================] - 3s 334ms/step - loss: 1.5169 - accuracy: 0.3343 - val_loss: 1.5463 - val_accuracy: 0.3176\n",
            "Epoch 29/100\n",
            "9/9 [==============================] - 3s 336ms/step - loss: 1.4879 - accuracy: 0.3501 - val_loss: 1.5310 - val_accuracy: 0.3072\n",
            "Epoch 30/100\n",
            "9/9 [==============================] - 3s 341ms/step - loss: 1.5205 - accuracy: 0.3066 - val_loss: 1.5852 - val_accuracy: 0.2693\n",
            "Epoch 31/100\n",
            "9/9 [==============================] - 3s 336ms/step - loss: 1.5235 - accuracy: 0.3223 - val_loss: 1.5209 - val_accuracy: 0.2980\n",
            "Epoch 32/100\n",
            "9/9 [==============================] - 3s 340ms/step - loss: 1.4758 - accuracy: 0.3262 - val_loss: 1.6066 - val_accuracy: 0.2923\n",
            "Epoch 33/100\n",
            "9/9 [==============================] - 3s 341ms/step - loss: 1.4887 - accuracy: 0.3307 - val_loss: 1.6832 - val_accuracy: 0.2348\n",
            "Epoch 34/100\n",
            "9/9 [==============================] - 3s 335ms/step - loss: 1.5440 - accuracy: 0.3139 - val_loss: 1.7247 - val_accuracy: 0.2992\n",
            "Epoch 35/100\n",
            "9/9 [==============================] - 3s 334ms/step - loss: 1.5117 - accuracy: 0.3349 - val_loss: 1.5557 - val_accuracy: 0.2716\n",
            "Epoch 36/100\n",
            "9/9 [==============================] - 3s 337ms/step - loss: 1.4886 - accuracy: 0.3203 - val_loss: 1.5551 - val_accuracy: 0.3003\n",
            "Epoch 37/100\n",
            "9/9 [==============================] - 3s 335ms/step - loss: 1.5111 - accuracy: 0.3337 - val_loss: 1.5469 - val_accuracy: 0.2946\n",
            "Epoch 38/100\n",
            "9/9 [==============================] - 3s 339ms/step - loss: 1.4509 - accuracy: 0.3322 - val_loss: 1.5659 - val_accuracy: 0.2750\n",
            "Epoch 39/100\n",
            "9/9 [==============================] - 3s 335ms/step - loss: 1.4422 - accuracy: 0.3470 - val_loss: 1.5687 - val_accuracy: 0.3084\n",
            "Epoch 40/100\n",
            "9/9 [==============================] - 3s 338ms/step - loss: 1.4352 - accuracy: 0.3580 - val_loss: 1.7723 - val_accuracy: 0.2865\n",
            "Epoch 41/100\n",
            "9/9 [==============================] - 3s 338ms/step - loss: 1.6184 - accuracy: 0.3204 - val_loss: 1.5591 - val_accuracy: 0.3096\n",
            "Epoch 42/100\n",
            "9/9 [==============================] - 3s 334ms/step - loss: 1.4116 - accuracy: 0.3733 - val_loss: 1.5924 - val_accuracy: 0.3084\n",
            "Epoch 43/100\n",
            "9/9 [==============================] - 3s 336ms/step - loss: 1.3979 - accuracy: 0.3780 - val_loss: 1.6598 - val_accuracy: 0.3049\n",
            "Epoch 44/100\n",
            "9/9 [==============================] - 3s 337ms/step - loss: 1.4483 - accuracy: 0.3725 - val_loss: 1.5602 - val_accuracy: 0.3015\n",
            "Epoch 45/100\n",
            "9/9 [==============================] - 3s 332ms/step - loss: 1.4077 - accuracy: 0.3973 - val_loss: 1.8338 - val_accuracy: 0.3038\n",
            "Epoch 46/100\n",
            "9/9 [==============================] - 3s 331ms/step - loss: 1.4914 - accuracy: 0.3698 - val_loss: 1.5756 - val_accuracy: 0.3084\n",
            "Epoch 47/100\n",
            "9/9 [==============================] - 3s 337ms/step - loss: 1.3921 - accuracy: 0.3884 - val_loss: 1.5629 - val_accuracy: 0.3038\n",
            "Epoch 48/100\n",
            "9/9 [==============================] - 3s 336ms/step - loss: 1.3751 - accuracy: 0.4005 - val_loss: 1.6818 - val_accuracy: 0.2865\n",
            "Epoch 49/100\n",
            "9/9 [==============================] - 3s 340ms/step - loss: 1.4576 - accuracy: 0.3514 - val_loss: 2.1781 - val_accuracy: 0.2647\n",
            "Epoch 50/100\n",
            "9/9 [==============================] - 3s 336ms/step - loss: 1.5622 - accuracy: 0.3568 - val_loss: 1.7026 - val_accuracy: 0.2796\n",
            "Epoch 51/100\n",
            "9/9 [==============================] - 3s 337ms/step - loss: 1.4377 - accuracy: 0.3794 - val_loss: 1.5976 - val_accuracy: 0.3314\n",
            "Epoch 52/100\n",
            "9/9 [==============================] - 3s 335ms/step - loss: 1.3509 - accuracy: 0.4138 - val_loss: 1.6752 - val_accuracy: 0.2980\n",
            "Epoch 53/100\n",
            "9/9 [==============================] - 3s 337ms/step - loss: 1.3828 - accuracy: 0.3996 - val_loss: 1.7010 - val_accuracy: 0.2946\n",
            "Epoch 54/100\n",
            "9/9 [==============================] - 3s 335ms/step - loss: 1.4451 - accuracy: 0.3860 - val_loss: 1.6352 - val_accuracy: 0.3199\n",
            "Epoch 55/100\n",
            "9/9 [==============================] - 3s 335ms/step - loss: 1.3353 - accuracy: 0.4139 - val_loss: 1.6131 - val_accuracy: 0.3291\n",
            "Epoch 56/100\n",
            "9/9 [==============================] - 3s 338ms/step - loss: 1.5848 - accuracy: 0.3570 - val_loss: 1.6471 - val_accuracy: 0.3153\n",
            "Epoch 57/100\n",
            "9/9 [==============================] - 3s 334ms/step - loss: 1.3380 - accuracy: 0.4092 - val_loss: 1.7889 - val_accuracy: 0.3188\n",
            "Epoch 58/100\n",
            "9/9 [==============================] - 3s 337ms/step - loss: 1.4503 - accuracy: 0.3891 - val_loss: 1.5561 - val_accuracy: 0.3257\n",
            "Epoch 59/100\n",
            "9/9 [==============================] - 3s 333ms/step - loss: 1.3481 - accuracy: 0.3994 - val_loss: 1.7232 - val_accuracy: 0.2624\n",
            "Epoch 60/100\n",
            "9/9 [==============================] - 3s 340ms/step - loss: 1.3842 - accuracy: 0.3849 - val_loss: 1.6072 - val_accuracy: 0.2842\n",
            "Epoch 61/100\n",
            "9/9 [==============================] - 3s 334ms/step - loss: 1.3011 - accuracy: 0.4304 - val_loss: 1.5631 - val_accuracy: 0.3130\n",
            "Epoch 62/100\n",
            "9/9 [==============================] - 3s 335ms/step - loss: 1.3058 - accuracy: 0.4384 - val_loss: 1.6987 - val_accuracy: 0.3049\n",
            "Epoch 63/100\n",
            "9/9 [==============================] - 3s 337ms/step - loss: 1.3453 - accuracy: 0.4068 - val_loss: 1.7044 - val_accuracy: 0.3015\n",
            "Epoch 64/100\n",
            "9/9 [==============================] - 3s 334ms/step - loss: 1.4025 - accuracy: 0.3930 - val_loss: 1.7171 - val_accuracy: 0.3026\n",
            "Epoch 65/100\n",
            "9/9 [==============================] - 3s 333ms/step - loss: 1.3986 - accuracy: 0.3938 - val_loss: 1.6497 - val_accuracy: 0.3234\n",
            "Epoch 66/100\n",
            "9/9 [==============================] - 3s 333ms/step - loss: 1.2989 - accuracy: 0.4295 - val_loss: 1.7032 - val_accuracy: 0.2819\n",
            "Epoch 67/100\n",
            "9/9 [==============================] - 3s 333ms/step - loss: 1.4451 - accuracy: 0.4162 - val_loss: 2.9845 - val_accuracy: 0.2463\n",
            "Epoch 68/100\n",
            "9/9 [==============================] - 3s 331ms/step - loss: 1.7645 - accuracy: 0.3706 - val_loss: 1.6569 - val_accuracy: 0.3280\n",
            "Epoch 69/100\n",
            "9/9 [==============================] - 3s 331ms/step - loss: 1.2619 - accuracy: 0.4654 - val_loss: 1.7338 - val_accuracy: 0.2831\n",
            "Epoch 70/100\n",
            "9/9 [==============================] - 3s 331ms/step - loss: 1.2867 - accuracy: 0.4561 - val_loss: 1.6784 - val_accuracy: 0.3084\n",
            "Epoch 71/100\n",
            "9/9 [==============================] - 3s 336ms/step - loss: 1.2580 - accuracy: 0.4639 - val_loss: 1.7521 - val_accuracy: 0.2773\n",
            "Epoch 72/100\n",
            "9/9 [==============================] - 3s 335ms/step - loss: 1.2967 - accuracy: 0.4278 - val_loss: 1.7665 - val_accuracy: 0.2911\n",
            "Epoch 73/100\n",
            "9/9 [==============================] - 3s 336ms/step - loss: 1.2757 - accuracy: 0.4521 - val_loss: 1.7861 - val_accuracy: 0.2992\n",
            "Epoch 74/100\n",
            "9/9 [==============================] - 3s 338ms/step - loss: 1.2498 - accuracy: 0.4655 - val_loss: 1.6944 - val_accuracy: 0.3119\n",
            "Epoch 75/100\n",
            "9/9 [==============================] - 3s 338ms/step - loss: 1.2393 - accuracy: 0.4747 - val_loss: 1.9517 - val_accuracy: 0.3038\n",
            "Epoch 76/100\n",
            "9/9 [==============================] - 3s 334ms/step - loss: 1.4203 - accuracy: 0.4032 - val_loss: 1.7634 - val_accuracy: 0.2888\n",
            "Epoch 77/100\n",
            "9/9 [==============================] - 3s 338ms/step - loss: 1.3100 - accuracy: 0.4419 - val_loss: 1.8410 - val_accuracy: 0.2957\n",
            "Epoch 78/100\n",
            "9/9 [==============================] - 3s 337ms/step - loss: 1.2415 - accuracy: 0.4626 - val_loss: 2.1545 - val_accuracy: 0.2474\n",
            "Epoch 79/100\n",
            "9/9 [==============================] - 3s 338ms/step - loss: 1.5594 - accuracy: 0.3863 - val_loss: 2.1496 - val_accuracy: 0.2658\n",
            "Epoch 80/100\n",
            "9/9 [==============================] - 3s 335ms/step - loss: 1.3835 - accuracy: 0.4553 - val_loss: 1.8283 - val_accuracy: 0.2808\n",
            "Epoch 81/100\n",
            "9/9 [==============================] - 3s 337ms/step - loss: 1.3069 - accuracy: 0.4495 - val_loss: 1.7104 - val_accuracy: 0.3130\n",
            "Epoch 82/100\n",
            "9/9 [==============================] - 3s 335ms/step - loss: 1.1981 - accuracy: 0.4946 - val_loss: 2.9220 - val_accuracy: 0.2681\n",
            "Epoch 83/100\n",
            "9/9 [==============================] - 3s 334ms/step - loss: 1.8675 - accuracy: 0.3750 - val_loss: 1.6425 - val_accuracy: 0.3211\n",
            "Epoch 84/100\n",
            "9/9 [==============================] - 3s 332ms/step - loss: 1.1741 - accuracy: 0.5025 - val_loss: 1.8375 - val_accuracy: 0.2900\n",
            "Epoch 85/100\n",
            "9/9 [==============================] - 3s 337ms/step - loss: 1.2349 - accuracy: 0.4822 - val_loss: 1.8011 - val_accuracy: 0.2900\n",
            "Epoch 86/100\n",
            "9/9 [==============================] - 3s 335ms/step - loss: 1.1958 - accuracy: 0.4737 - val_loss: 2.0103 - val_accuracy: 0.2785\n",
            "Epoch 87/100\n",
            "9/9 [==============================] - 3s 336ms/step - loss: 1.3542 - accuracy: 0.4413 - val_loss: 1.6774 - val_accuracy: 0.3303\n",
            "Epoch 88/100\n",
            "9/9 [==============================] - 3s 337ms/step - loss: 1.2979 - accuracy: 0.4494 - val_loss: 1.7667 - val_accuracy: 0.3130\n",
            "Epoch 89/100\n",
            "9/9 [==============================] - 3s 340ms/step - loss: 1.1876 - accuracy: 0.4975 - val_loss: 2.1286 - val_accuracy: 0.2186\n",
            "Epoch 90/100\n",
            "9/9 [==============================] - 3s 336ms/step - loss: 1.5662 - accuracy: 0.3962 - val_loss: 1.8260 - val_accuracy: 0.2992\n",
            "Epoch 91/100\n",
            "9/9 [==============================] - 3s 341ms/step - loss: 1.1591 - accuracy: 0.5087 - val_loss: 1.7588 - val_accuracy: 0.3314\n",
            "Epoch 92/100\n",
            "9/9 [==============================] - 3s 342ms/step - loss: 1.1356 - accuracy: 0.5355 - val_loss: 1.7977 - val_accuracy: 0.3130\n",
            "Epoch 93/100\n",
            "9/9 [==============================] - 3s 336ms/step - loss: 1.2533 - accuracy: 0.4756 - val_loss: 1.7623 - val_accuracy: 0.3072\n",
            "Epoch 94/100\n",
            "9/9 [==============================] - 3s 343ms/step - loss: 1.1761 - accuracy: 0.4887 - val_loss: 1.6926 - val_accuracy: 0.3360\n",
            "Epoch 95/100\n",
            "9/9 [==============================] - 3s 337ms/step - loss: 1.2933 - accuracy: 0.4914 - val_loss: 1.7775 - val_accuracy: 0.3049\n",
            "Epoch 96/100\n",
            "9/9 [==============================] - 3s 337ms/step - loss: 1.1546 - accuracy: 0.5068 - val_loss: 2.3037 - val_accuracy: 0.2612\n",
            "Epoch 97/100\n",
            "9/9 [==============================] - 3s 338ms/step - loss: 1.5926 - accuracy: 0.4178 - val_loss: 1.7593 - val_accuracy: 0.3061\n",
            "Epoch 98/100\n",
            "9/9 [==============================] - 3s 336ms/step - loss: 1.0950 - accuracy: 0.5386 - val_loss: 1.9790 - val_accuracy: 0.2727\n",
            "Epoch 99/100\n",
            "9/9 [==============================] - 3s 335ms/step - loss: 1.3336 - accuracy: 0.4435 - val_loss: 1.7886 - val_accuracy: 0.3349\n",
            "Epoch 100/100\n",
            "9/9 [==============================] - 3s 332ms/step - loss: 1.1413 - accuracy: 0.5181 - val_loss: 2.1879 - val_accuracy: 0.2693\n"
          ],
          "name": "stdout"
        }
      ]
    },
    {
      "cell_type": "code",
      "metadata": {
        "id": "67VoWv-D32wg"
      },
      "source": [
        "dict_hist = model.history\n",
        "accuracy = dict_hist['accuracy']\n",
        "Val_accuracy = dict_hist['val_accuracy']\n",
        "Val_loss = dict_hist['val_loss']\n",
        "loss = dict_hist['loss']"
      ],
      "execution_count": 15,
      "outputs": []
    },
    {
      "cell_type": "code",
      "metadata": {
        "colab": {
          "base_uri": "https://localhost:8080/",
          "height": 313
        },
        "id": "3HzgbAZH4ga0",
        "outputId": "1d9587b0-0d01-4baf-c776-900ea74d1be3"
      },
      "source": [
        "epoches = np.arange(1,len(dict_hist['accuracy'])+1)\n",
        "plt.plot(epoches,accuracy,'b',label=\"Training Accuracy\")\n",
        "plt.plot(epoches,Val_accuracy,'r',label=\"Validation Accuracy\")\n",
        "plt.title('Training and validation Accuracy')\n",
        "plt.xlabel(\"Epoches\")\n",
        "plt.ylabel(\"Accuracy\")\n",
        "plt.legend()\n",
        "# plt.show()"
      ],
      "execution_count": 16,
      "outputs": [
        {
          "output_type": "execute_result",
          "data": {
            "text/plain": [
              "<matplotlib.legend.Legend at 0x7f448227cfd0>"
            ]
          },
          "metadata": {
            "tags": []
          },
          "execution_count": 16
        },
        {
          "output_type": "display_data",
          "data": {
            "image/png": "[encoded data removed]",
            "text/plain": [
              "<Figure size 432x288 with 1 Axes>"
            ]
          },
          "metadata": {
            "tags": [],
            "needs_background": "light"
          }
        }
      ]
    },
    {
      "cell_type": "code",
      "metadata": {
        "colab": {
          "base_uri": "https://localhost:8080/",
          "height": 313
        },
        "id": "ZEKe24tQ4-0v",
        "outputId": "60e4a57a-6bc6-4cf1-e45e-fcfa82180129"
      },
      "source": [
        "epoches = np.arange(1,len(dict_hist['accuracy']) + 1)\n",
        "plt.plot(epoches,loss,'b',label=\"Training loss\")\n",
        "plt.plot(epoches,Val_loss,'r',label=\"Validation loss\")\n",
        "plt.title('Training and validation loss')\n",
        "plt.xlabel(\"Epoches\")\n",
        "plt.ylabel(\"Loss\")\n",
        "plt.legend()\n",
        "# plt.show()"
      ],
      "execution_count": 17,
      "outputs": [
        {
          "output_type": "execute_result",
          "data": {
            "text/plain": [
              "<matplotlib.legend.Legend at 0x7f448115e850>"
            ]
          },
          "metadata": {
            "tags": []
          },
          "execution_count": 17
        },
        {
          "output_type": "display_data",
          "data": {
            "image/png": "[encoded data removed]",
            "text/plain": [
              "<Figure size 432x288 with 1 Axes>"
            ]
          },
          "metadata": {
            "tags": [],
            "needs_background": "light"
          }
        }
      ]
    },
    {
      "cell_type": "markdown",
      "metadata": {
        "id": "onAJ9qjy3nb0"
      },
      "source": [
        "# **Evaluation Step**"
      ]
    },
    {
      "cell_type": "code",
      "metadata": {
        "colab": {
          "base_uri": "https://localhost:8080/"
        },
        "id": "YRnmAf7foJA_",
        "outputId": "f847defe-630c-40d3-8ab4-3f8b68bf409b"
      },
      "source": [
        "test_loss, test_acc = network.evaluate(val_data, val_labels)"
      ],
      "execution_count": 18,
      "outputs": [
        {
          "output_type": "stream",
          "text": [
            "28/28 [==============================] - 1s 23ms/step - loss: 2.1879 - accuracy: 0.2693\n"
          ],
          "name": "stdout"
        }
      ]
    },
    {
      "cell_type": "markdown",
      "metadata": {
        "id": "DEO-0Gj9axi4"
      },
      "source": [
        "# **Prediction**"
      ]
    },
    {
      "cell_type": "code",
      "metadata": {
        "id": "4Iy1F3vHa2MW"
      },
      "source": [
        "predictions = network.predict(test_data)"
      ],
      "execution_count": 24,
      "outputs": []
    },
    {
      "cell_type": "code",
      "metadata": {
        "id": "wmbueApkbQd4"
      },
      "source": [
        "y_p = predictions.flatten()\n",
        "y_t = test_labels.flatten()"
      ],
      "execution_count": 33,
      "outputs": []
    },
    {
      "cell_type": "code",
      "metadata": {
        "id": "jT47xpO70PEy",
        "colab": {
          "base_uri": "https://localhost:8080/"
        },
        "outputId": "68f84b49-b5a1-4263-b386-ce94a9d1806f"
      },
      "source": [
        "tf.math.confusion_matrix(\n",
        "    y_p, y_t, num_classes=None, weights=None, dtype=tf.dtypes.int32,\n",
        "    name=None\n",
        ")"
      ],
      "execution_count": 34,
      "outputs": [
        {
          "output_type": "execute_result",
          "data": {
            "text/plain": [
              "<tf.Tensor: shape=(2, 2), dtype=int32, numpy=\n",
              "array([[5220, 1305],\n",
              "       [   0,    0]], dtype=int32)>"
            ]
          },
          "metadata": {
            "tags": []
          },
          "execution_count": 34
        }
      ]
    },
    {
      "cell_type": "code",
      "metadata": {
        "id": "ly_p0F8OYxhs"
      },
      "source": [
        ""
      ],
      "execution_count": null,
      "outputs": []
    }
  ]
}